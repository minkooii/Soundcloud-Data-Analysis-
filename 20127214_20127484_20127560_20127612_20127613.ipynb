{
 "cells": [
  {
   "cell_type": "markdown",
   "metadata": {},
   "source": [
    "# **Project 1 - Exploratory Data Analysis**"
   ]
  },
  {
   "cell_type": "markdown",
   "metadata": {},
   "source": [
    "---\n",
    "# **1. Assignment Tables**"
   ]
  },
  {
   "cell_type": "markdown",
   "metadata": {},
   "source": [
    "  | Student ID  | Name                         | % of contribution | Task                                               |\n",
    "  |-------------|------------------------------|-------------------|----------------------------------------------------|\n",
    "  | 20127214    | Nguyễn Trương Minh Khôi      | 100               | Collecting data                                    |\n",
    "  |             |                              |                   | Making question 3,6 + analyze + visualize          |\n",
    "  |             |                              |                   |                                                    |\n",
    "  | 20127613    | Phan Thanh Sang              | 100               | Collecting data                                    |\n",
    "  |             |                              |                   | Making question 2,4 (Machine Learning) + analyze   |\n",
    "  |             |                              |                   |                                     + visualize    |\n",
    "  |             |                              |                   |                                                    |\n",
    "  | 20127612    | Đỗ Khánh Sang                | 100               | Load data                                          |\n",
    "  |             |                              |                   | Count number of rows and columns                   |\n",
    "  |             |                              |                   | Check duplicate                                    |\n",
    "  |             |                              |                   | Check Columns' Datatypes, adjust if needed         |\n",
    "  |             |                              |                   | Making question 1,7 + analyze + visualize          |\n",
    "  |             |                              |                   |                                                    |\n",
    "  | 20127484    | Nguyễn Tư Duy                | 100               | Find out distribution of numeric data columns      |\n",
    "  |             |                              |                   |      (missing percentage, min, max, median,...)    |\n",
    "  |             |                              |                   | Find out distribution of non-numeric data columns  |       \n",
    "  |             |                              |                   |          (missing percentage, number of values,    |\n",
    "  |             |                              |                   |                                different value,..) |\n",
    "  |             |                              |                   | Making question 5,8 + analyze + visualize          |\n",
    "  |             |                              |                   |                                                    |\n",
    "  | 20127560    | Phạm Trần Trung Lượng        | 100               | Remove rows containing missing values if available |\n",
    "  |             |                              |                   | Remove data outliers if needed                     |\n",
    "  |             |                              |                   | Normalize data (genre,...)                         |\n",
    "  |             |                              |                   | Making question 9,10,11 (Machine Learning)         | \n",
    "  |             |                              |                   |                          + analyze + visualize     | "
   ]
  },
  {
   "cell_type": "code",
   "execution_count": 1,
   "metadata": {},
   "outputs": [],
   "source": [
    "## Libraries and Modules\n",
    "\n",
    "from bs4 import BeautifulSoup\n",
    "from selenium import webdriver\n",
    "\n",
    "import numpy as np\n",
    "import pandas as pd\n",
    "import matplotlib.pyplot as plt\n",
    "import seaborn as sns\n",
    "\n",
    "import re\n",
    "import json\n",
    "import copy\n",
    "import time\n",
    "from datetime import datetime, timedelta\n",
    "\n",
    "from sklearn.model_selection import train_test_split\n",
    "from sklearn.linear_model import LinearRegression\n",
    "from sklearn.metrics import r2_score\n",
    "from sklearn.preprocessing import OrdinalEncoder\n",
    "from sklearn.ensemble import RandomForestClassifier\n",
    "from sklearn.metrics import mean_absolute_error"
   ]
  },
  {
   "cell_type": "markdown",
   "metadata": {},
   "source": [
    "---\n",
    "# **2. Data Collection**"
   ]
  },
  {
   "cell_type": "markdown",
   "metadata": {},
   "source": [
    "**Due to long running time, we have commented lines of data collection code.**"
   ]
  },
  {
   "cell_type": "markdown",
   "metadata": {},
   "source": [
    "## **Explanation**"
   ]
  },
  {
   "cell_type": "markdown",
   "metadata": {},
   "source": [
    "First of all, we create a list of keywords. And then for each keyword, we get 200 first results for playlist searching, and get links to those playlists. Finally, we write all these links to file playlist_link.txt."
   ]
  },
  {
   "cell_type": "code",
   "execution_count": 2,
   "metadata": {},
   "outputs": [],
   "source": [
    "# Get playlist links\n",
    "\n",
    "def get_list_of_playlist_links(keywords):\n",
    "    link = []\n",
    "    driver = webdriver.Chrome()\n",
    "\n",
    "    for k in keywords:\n",
    "        url = f'https://soundcloud.com/search/sets?q={k}'\n",
    "        driver.get(url)\n",
    "\n",
    "        # scroll = 'window.scrollTo(0, document.body.scrollHeight);'\n",
    "        for i in range(80):\n",
    "            driver.execute_script(\"window.scrollBy(0, 300000);\")\n",
    "            time.sleep(0.5)\n",
    "            \n",
    "        page = BeautifulSoup(driver.page_source)\n",
    "        find = page.find_all('a', class_ = 'sc-link-primary soundTitle__title sc-link-dark sc-text-h4')\n",
    "\n",
    "        genre_link = [find[i]['href'] for i in range(len(find))]\n",
    "        genre_link = ['https://soundcloud.com' + genre_link[i] for i in range(len(genre_link))]\n",
    "        genre_link = genre_link[:200]\n",
    "        print(len(genre_link))\n",
    "        link.extend(genre_link)\n",
    "\n",
    "        time.sleep(3)\n",
    "\n",
    "    driver.quit()\n",
    "\n",
    "    return link\n",
    "\n",
    "keywords = ['indie', 'lofi', 'hiphop', 'edm', 'disco', 'rap', 'acoustic', 'folk', 'pop', 'rock']\n",
    "# link = get_list_of_playlist_links(keywords)\n",
    "# print(len(link))\n",
    "\n",
    "# write_file = open('playlist_link.txt', 'w')\n",
    "\n",
    "# for i in range(len(link)):\n",
    "#     write_file.write(link[i] + '\\n')\n",
    "\n",
    "# write_file.close()"
   ]
  },
  {
   "cell_type": "code",
   "execution_count": 3,
   "metadata": {},
   "outputs": [],
   "source": [
    "# Intialize variables\n",
    "\n",
    "tracks_link = []\n",
    "users_link = []\n",
    "\n",
    "users_id = dict()       # dictionary contain corresponding id for users\n",
    "tracks_id = dict()      # dictionary contain corresponding id for tracks\n",
    "playlists_id = dict()   # dictionary contain corresponding id for playlists\n",
    "\n",
    "number = 2000           # number of rows to get"
   ]
  },
  {
   "cell_type": "markdown",
   "metadata": {},
   "source": [
    "- Traverse through each playlist link in file playlist_link.txt and get its information. While getting information of each feature, get link of user posting the playlist, as well as 10 first user links and track links of the current playlist, and assign id for each link simultaneously. Then store these links in lists and write to files user_link.txt, track_link.txt, playlist_id.json, user_id.json and track_id.json"
   ]
  },
  {
   "cell_type": "markdown",
   "metadata": {},
   "source": [
    "- information of playlist:\n",
    "  | Fields            | Description                                                                   |\n",
    "  |-------------------|-------------------------------------------------------------------------------|\n",
    "  |`ID`               | ID of playlist (each playlist has a unique ID)                                |\n",
    "  |`Name`             | Name of playlist                                                              |\n",
    "  |`Poster`           | User who posted playlist                                                      |\n",
    "  |`NumTracks`        | Total tracks in playlist                                                      |\n",
    "  |`TopTracks`        | List contain top 10 tracks in playlist                                        |\n",
    "  |`Likes`            | Number of likes                                                               |\n",
    "  |`Reposts`          | Number of reposts                                                             |\n",
    "  |`PostedTime`       | Posted time (ex: 5 March 2017)                                                |\n",
    "  |`Genre`            | Genre of playlist                                                             |\n",
    "  |`Length`           | Duration time of playlist                                                     |\n"
   ]
  },
  {
   "cell_type": "code",
   "execution_count": 4,
   "metadata": {},
   "outputs": [],
   "source": [
    "# Get playlists and write to file playlist.csv\n",
    "\n",
    "def get_playlists(users_id, tracks_id, playlists_id, tracks_link, users_link):\n",
    "    file = open('playlist_link.txt', 'r')\n",
    "    playlists_link = [line.strip() for line in file.readlines()]\n",
    "    file.close()\n",
    "\n",
    "    users_id_order = 1\n",
    "    tracks_id_order = 1\n",
    "    playlists_id_order = 1\n",
    "    \n",
    "    # Get all playlists genre \n",
    "    genre = ''\n",
    "    for kw in keywords:\n",
    "        genre = genre + (kw + ',') * 200\n",
    "    genre = genre.split(',')[:-1]\n",
    "    \n",
    "    keys = ['ID', 'Name', 'Poster', 'NumTracks', 'TopTracks', 'Likes', 'Reposts', 'PostedTime', 'Genre', 'Length']\n",
    "    values = [[], [], [], [], [], [], [], [], genre[:number], []]\n",
    "    \n",
    "    # Get playlists id\n",
    "    current_playlists_id = []\n",
    "    for playlist_link in playlists_link:\n",
    "        if playlist_link not in playlists_id.keys():\n",
    "            playlists_id[playlist_link] = 'P' + str(playlists_id_order)\n",
    "            current_playlists_id.append(playlists_id[playlist_link])\n",
    "            playlists_id_order += 1\n",
    "        else:\n",
    "            current_playlists_id.append(playlists_id[playlist_link])\n",
    "    values[0] = current_playlists_id[:number]\n",
    "    \n",
    "    driver = webdriver.Chrome()\n",
    "\n",
    "    for i in range(number):\n",
    "        url = playlists_link[i]\n",
    "\n",
    "        r = driver.get(url)\n",
    "\n",
    "        time.sleep(2)\n",
    "        driver.execute_script('window.scrollTo(0, document.body.scrollHeight);')\n",
    "        time.sleep(2)\n",
    "        \n",
    "        source = BeautifulSoup(driver.page_source, features='html.parser')\n",
    "        \n",
    "        # Get Name\n",
    "        find_name = source.find('h1', class_ = \n",
    "                                'soundTitle__title sc-font g-type-shrinkwrap-inline g-type-shrinkwrap-large-primary theme-dark')\n",
    "        if str(find_name) != 'None':\n",
    "            name = find_name.get_text().strip()\n",
    "            values[1].append(name)\n",
    "        else:\n",
    "            values[1].append('None')\n",
    "\n",
    "        # Get Users link\n",
    "        current_user_link = []\n",
    "            #---Get Poster---#\n",
    "        find_poster = source.find('a', class_ = 'sc-link-secondary')\n",
    "        poster = ''\n",
    "        if str(find_poster) != 'None':\n",
    "            poster = 'https://soundcloud.com' + find_poster['href']\n",
    "            current_user_link.append(poster)\n",
    "            #---Get Poster---#\n",
    "\n",
    "        find_users = source.find_all('a', class_ = 'trackItem__username sc-link-light sc-link-secondary sc-mr-0.5x')\n",
    "        if str(find_users) != 'None':\n",
    "            current_user_link.extend(['https://soundcloud.com' + find_users[i]['href'] for i in range(len(find_users))])\n",
    "            if len(current_user_link) > 11:\n",
    "                current_user_link = current_user_link[:11]\n",
    "            \n",
    "            # assign id for users\n",
    "            for user_link in current_user_link:\n",
    "                if user_link not in users_id.keys():\n",
    "                    users_id[user_link] = 'U' + str(users_id_order)\n",
    "                    users_id_order += 1\n",
    "\n",
    "            users_link.extend(current_user_link)\n",
    "\n",
    "\n",
    "        # Set Poster\n",
    "        if str(find_poster) != 'None':\n",
    "            values[2].append(users_id[poster])\n",
    "        else:\n",
    "            values[2].append('None')\n",
    "\n",
    "        # Get Number of tracks\n",
    "        find_numtracks = source.find('div', class_ = 'genericTrackCount sc-font theme-dark sc-pt-2x sc-text-primary m-active')\n",
    "        if str(find_numtracks) != 'None':\n",
    "            numtracks = find_numtracks['title'].split()[0]\n",
    "            values[3].append(numtracks)\n",
    "        else:\n",
    "            values[3].append('None')\n",
    "\n",
    "        # Get Tracks link\n",
    "        find_tracks = source.find_all('a', class_ = 'trackItem__trackTitle sc-link-dark sc-link-primary sc-font-light')\n",
    "        if str(find_tracks) != 'None':\n",
    "            current_track_link = []\n",
    "            for i in range(len(find_tracks)):\n",
    "                href = find_tracks[i]['href']\n",
    "                current_track_link.append('https://soundcloud.com' + href[:href.find('?')])\n",
    "\n",
    "            if len(current_track_link) > 10:\n",
    "                current_track_link = current_track_link[:10]\n",
    "            \n",
    "            # Assign id for tracks\n",
    "            current_track_id = []\n",
    "            for track_link in current_track_link:\n",
    "                if track_link not in tracks_id.keys():\n",
    "                    tracks_id[track_link] = 'T' + str(tracks_id_order)\n",
    "                    current_track_id.append(tracks_id[track_link])\n",
    "                    tracks_id_order += 1\n",
    "                else:\n",
    "                    current_track_id.append(tracks_id[track_link])\n",
    "                    \n",
    "\n",
    "            values[4].append(current_track_id)\n",
    "            tracks_link.extend(current_track_link)\n",
    "        else:\n",
    "            values[4].append('None')\n",
    "\n",
    "        # Get likes\n",
    "        find_likes = source.find_all('li', class_ = 'sc-ministats-item')\n",
    "        if str(find_likes) != 'None':\n",
    "            try:\n",
    "                likes = int(find_likes[0]['title'].split()[0].replace(',', ''))\n",
    "                values[5].append(likes)\n",
    "            except:\n",
    "                values[5].append('None')\n",
    "        else:\n",
    "            values[5].append('None')\n",
    "\n",
    "        # Get Reposts\n",
    "        find_reposts = source.find_all('li', class_ = 'sc-ministats-item')\n",
    "        if str(find_reposts) != 'None':\n",
    "            try:\n",
    "                reposts = int(find_reposts[1]['title'].split()[0].replace(',', ''))\n",
    "                values[6].append(reposts)\n",
    "            except:\n",
    "                values[6].append('None')\n",
    "        else:\n",
    "            values[6].append('None')\n",
    "\n",
    "        # Get PostingTime\n",
    "        find_postingtime = source.find('time', class_ = 'relativeTime')\n",
    "        if str(find_postingtime) != 'None':\n",
    "            postingtime = find_postingtime['title']\n",
    "            values[7].append(postingtime)\n",
    "        else:\n",
    "            values[7].append('None')\n",
    "\n",
    "        # Get Length\n",
    "        find_length = source.find('div', class_ = \n",
    "                                  'genericTrackCount__duration sc-type-small sc-type-light sc-text-secondary sc-text-h5')\n",
    "        if str(find_length) != 'None':\n",
    "            length = find_length.get_text()\n",
    "            values[9].append(length)\n",
    "        else:\n",
    "            values[9].append('None')\n",
    "\n",
    "    time.sleep(3)\n",
    "    driver.quit()\n",
    "    playlists = dict(zip(keys, values))\n",
    "    return playlists\n",
    "\n",
    "# playlists = get_playlists(users_id, tracks_id, playlists_id, tracks_link, users_link)\n",
    "# playlists = pd.DataFrame(playlists)\n",
    "# pd.set_option('display.max_colwidth', None)\n",
    "# playlists.to_csv('playlist.csv', index=False)\n",
    "# playlists"
   ]
  },
  {
   "cell_type": "code",
   "execution_count": 5,
   "metadata": {},
   "outputs": [],
   "source": [
    "# Write tracks_link, users_link, tracks_id, users_id, playlists_id to files\n",
    "\n",
    "# tracks_link = list(set(tracks_link))\n",
    "# users_link = list(set(users_link))\n",
    "\n",
    "# write_file1 = open('track_link.txt', 'w')\n",
    "# for i in range(len(tracks_link)):\n",
    "#     write_file1.write(tracks_link[i] + '\\n')\n",
    "# write_file1.close()\n",
    "\n",
    "# write_file2 = open('user_link.txt', 'w')\n",
    "# for i in range(len(users_link)):\n",
    "#     write_file2.write(users_link[i] + '\\n')\n",
    "# write_file2.close()\n",
    "\n",
    "# write_file3 = open('track_id.json', 'w')\n",
    "# json.dump(tracks_id, write_file3, indent = 1)\n",
    "# write_file3.close()\n",
    "\n",
    "# write_file4 = open('user_id.json', 'w')\n",
    "# json.dump(users_id, write_file4, indent = 1)\n",
    "# write_file4.close()\n",
    "\n",
    "# write_file5 = open('playlist_id.json', 'w')\n",
    "# json.dump(playlists_id, write_file5, indent = 1)\n",
    "# write_file5.close()"
   ]
  },
  {
   "cell_type": "code",
   "execution_count": 6,
   "metadata": {},
   "outputs": [],
   "source": [
    "# Read tracks_link, users_link, tracks_id, users_id from files\n",
    "\n",
    "# read_file1 = open('track_link.txt', 'r')\n",
    "# tracks_link = [line.strip() for line in read_file1.readlines()]\n",
    "\n",
    "# read_file2 = open('user_link.txt', 'r')\n",
    "# users_link = [line.strip() for line in read_file2.readlines()]\n",
    "\n",
    "# read_file3 = open('track_id.json', 'r')\n",
    "# tracks_id = json.load(read_file3)\n",
    "\n",
    "# read_file4 = open('user_id.json', 'r')\n",
    "# users_id = json.load(read_file4)"
   ]
  },
  {
   "cell_type": "markdown",
   "metadata": {},
   "source": [
    "## GET USERS\n",
    "- get_users(users_link, users_id): find and get users information correspond to each track in playlists. \n",
    "- Input:\n",
    "  - `users_link`: list contains url of every users (url of users are got from playlists)\n",
    "  - `users_id`: list contains id of every users which was assigned for user in a get_playlists cell \n",
    "- Output: a list contains corresponding information of each user\n",
    "- Information of user:\n",
    "  | Fields            | Description                                                                   |\n",
    "  |-------------------|-------------------------------------------------------------------------------|\n",
    "  |`ID`               | ID of user (each user has a unique ID)                                        |\n",
    "  |`Name`             | Name of user                                                                  |\n",
    "  |`Num_followers`    | Number of followers of user                                                   |\n",
    "  |`NumFollowing`     | Number of people this user follow                                             |\n",
    "  |`NumTracks`        | Number of tracks belongs to this user                                         |\n",
    "  |`Verified`         | Prove that artist was verified based on SoundCloud standard                   |\n",
    "  |`NextPro`          | Mode for artist account                                                       |\n"
   ]
  },
  {
   "cell_type": "code",
   "execution_count": 7,
   "metadata": {},
   "outputs": [],
   "source": [
    "# Get users and write to file user.csv\n",
    "\n",
    "def get_users(users_link, users_id):\n",
    "    keys = ['ID', 'Name', 'NumFollowers', 'NumFollowing', 'NumTracks', 'Verified', 'NextPro']\n",
    "    values = [[], [], [], [], [], [], []]\n",
    "    \n",
    "    # Get user id\n",
    "    for i in range(len(users_link)):\n",
    "        values[0].append(users_id[users_link[i]])\n",
    "    \n",
    "    driver = webdriver.Chrome()\n",
    "    \n",
    "    for i in range(len(users_link)):\n",
    "        print(i, end = ' ')\n",
    "        user_link = users_link[i]\n",
    "        driver.get(user_link)\n",
    "        time.sleep(3)\n",
    "        s = BeautifulSoup(driver.page_source, 'html.parser')\n",
    "        \n",
    "        # Get user name\n",
    "        user_name = s.find('h2', {'class': 'profileHeaderInfo__userName g-type-shrinkwrap-block g-type-shrinkwrap-large-primary sc-text-h1 theme-dark'})\n",
    "        if str(user_name) != 'None':\n",
    "            user_name = user_name.text.strip().replace('\\n', '').replace('Verified', '')\n",
    "            values[1].append(user_name)\n",
    "        else:\n",
    "            values[1].append('None')\n",
    "\n",
    "        # Get number of followers, following, tracks\n",
    "        find3 = s.find_all('a', {'class': 'infoStats__statLink sc-link-light sc-link-primary'})\n",
    "        if str(find3) != 'None':\n",
    "            try:\n",
    "                num_followers = find3[0]['title'].split()[0].replace(',', '')\n",
    "                num_following = find3[1]['title'].split()[1].replace(',', '')\n",
    "                num_tracks    = find3[2]['title'].split()[0].replace(',', '')\n",
    "                \n",
    "                values[2].append(num_followers)\n",
    "                values[3].append(num_following)\n",
    "                values[4].append(num_tracks)\n",
    "            except:\n",
    "                values[2].append('None')\n",
    "                values[3].append('None')\n",
    "                values[4].append('None')\n",
    "        else:\n",
    "            values[2].append('None')\n",
    "            values[3].append('None')\n",
    "            values[4].append('None')\n",
    "        \n",
    "        # Get user verified\n",
    "        user_verified = s.find('span', {'class': 'sc-status-icon sc-status-icon-verified sc-status-icon-medium sc-ir'})\n",
    "        if str(user_verified) != 'None':\n",
    "            values[5].append(user_verified.text)\n",
    "        else:\n",
    "            values[5].append('None')\n",
    "        \n",
    "        # Get user next_pro\n",
    "        user_next_pro = s.find('a', {'class': 'creatorBadge'})\n",
    "        if str(user_next_pro) != 'None':\n",
    "            try:\n",
    "                next_pro = user_next_pro['title']\n",
    "                values[6].append(next_pro)\n",
    "            except:\n",
    "                values[6].append('None')\n",
    "        else:\n",
    "            values[6].append('None')\n",
    "\n",
    "    driver.quit()\n",
    "    users = dict(zip(keys, values))\n",
    "    return users\n",
    "\n",
    "# users = get_users(users_link, users_id)\n",
    "# users = pd.DataFrame(users)\n",
    "# users.to_csv('user.csv', index=False)\n",
    "# users"
   ]
  },
  {
   "cell_type": "markdown",
   "metadata": {},
   "source": [
    "## GET TRACKS\n",
    "- get_tracks(tracks_link, tracks_id, users_id): find and get tracks information correspond to each user in playlists. \n",
    "- Input:\n",
    "  - `tracks_link`: list contains url of every tracks (url of tracks are got from playlists)\n",
    "  - `tracks_id`: list contains id of every tracks which was assigned for user in a get_playlists cell \n",
    "  - `users_id`: list contains id of every users which was assigned for user in a get_playlists cell use for assign ID for track's poster \n",
    "- Output: a list contains corresponding information of each track\n",
    "- Information of track:\n",
    "  | Fields            | Description                                                                   |\n",
    "  |-------------------|-------------------------------------------------------------------------------|\n",
    "  |`ID`               | ID of track (each track has a unique ID)                                      |\n",
    "  |`Name`             | Name of track                                                                 |\n",
    "  |`Poster`           | User who posted track                                                         |\n",
    "  |`Plays`            | Times people listen to this track                                             |\n",
    "  |`Likes`            | Number of likes                                                               |\n",
    "  |`Reposts`          | Number of reposts                                                             |\n",
    "  |`PostedTime`       | Posted time (ex: 5 March 2017)                                                |\n",
    "  |`Tags`             | Tags of this track                                                            |\n",
    "  |`Length`           | Duration time of this track                                                   |\n",
    "  |`NumComments`      | Number of comments                                                            |\n"
   ]
  },
  {
   "cell_type": "code",
   "execution_count": 8,
   "metadata": {},
   "outputs": [],
   "source": [
    "# Get tracks and write to file track.csv\n",
    "\n",
    "def get_tracks(tracks_link, tracks_id, users_id):\n",
    "    keys = ['ID', 'Name', 'Poster', 'Plays', 'Likes', 'Reposts', 'PostedTime', 'Tags', 'Length', 'NumComments']\n",
    "    values = [[], [], [], [], [], [], [], [], [], []]\n",
    "    # Get tracks id\n",
    "    for i in range(len(tracks_link)):\n",
    "        values[0].append(tracks_id[tracks_link[i]])\n",
    "\n",
    "    driver = webdriver.Chrome()\n",
    "        \n",
    "    for i in range(len(tracks_link)):\n",
    "        track_link = tracks_link[i]\n",
    "        driver.get(track_link)\n",
    "        time.sleep(3)\n",
    "        s = BeautifulSoup(driver.page_source, 'html.parser')\n",
    "        \n",
    "        # Get track name\n",
    "        track_name = s.find('h1', {'class': 'soundTitle__title sc-font g-type-shrinkwrap-inline g-type-shrinkwrap-large-primary theme-dark'})\n",
    "        if str(track_name) != 'None':\n",
    "            track_name = track_name.text.strip()\n",
    "            values[1].append(track_name)\n",
    "        else:\n",
    "            values[1].append('None')\n",
    "        \n",
    "        # Get poster\n",
    "        find_poster_link = s.find('a', {'class': 'sc-link-secondary'})\n",
    "        try:\n",
    "            poster_link = 'https://soundcloud.com' + find_poster_link['href'] \n",
    "            track_poster = users_id[poster_link]\n",
    "            values[2].append(track_poster)\n",
    "        except:\n",
    "            values[2].append('None')\n",
    "\n",
    "        # Get plays + likes + reposts\n",
    "        find3 = s.find_all('li', {'class': 'sc-ministats-item'})\n",
    "        if str(find3) != 'None':\n",
    "            try:\n",
    "                plays   = find3[0]['title'].split()[0].replace(',', '')\n",
    "                likes   = find3[1]['title'].split()[0].replace(',', '')\n",
    "                reposts = find3[2]['title'].split()[0].replace(',', '')\n",
    "                \n",
    "                values[3].append(plays)\n",
    "                values[4].append(likes)\n",
    "                values[5].append(reposts)\n",
    "            except:\n",
    "                values[3].append('None')\n",
    "                values[4].append('None')\n",
    "                values[5].append('None')\n",
    "        else:\n",
    "            values[3].append('None')\n",
    "            values[4].append('None')\n",
    "            values[5].append('None')\n",
    "                \n",
    "        # Get track posted time\n",
    "        track_posted_time = s.find('time', {'class': 'relativeTime'})\n",
    "        try:\n",
    "            track_posted_time = track_posted_time['title']\n",
    "            values[6].append(track_posted_time)\n",
    "        except:\n",
    "            values[6].append('None')\n",
    "            \n",
    "        # Get track tags\n",
    "        track_tags = s.find('span', {'class': 'sc-truncate sc-tagContent'})\n",
    "        if str(track_tags) != 'None':\n",
    "            track_tags = track_tags.text\n",
    "            values[7].append(track_tags)\n",
    "        else:\n",
    "            values[7].append('None')\n",
    "            \n",
    "        # Get track length\n",
    "        find_track_length = s.find('div', {'class': 'playbackTimeline__duration sc-text-primary sc-text-h5'})\n",
    "        try:\n",
    "            track_length = find_track_length.find('span', {'aria-hidden': 'true'}).text\n",
    "            values[8].append(track_length)\n",
    "        except:\n",
    "            values[8].append('None')\n",
    "                \n",
    "        # Get number of comments\n",
    "        track_num_comments = s.find('span', {'class': 'commentsList__actualTitle'})\n",
    "        if track_num_comments is not None:\n",
    "            track_num_comments = track_num_comments.text.strip('s').strip(' comment')\n",
    "            values[9].append(track_num_comments)\n",
    "        else:\n",
    "            values[9].append('None')\n",
    "    \n",
    "    driver.quit()\n",
    "    tracks = dict(zip(keys, values))\n",
    "    return tracks\n",
    "\n",
    "# tracks = get_tracks(tracks_link, tracks_id, users_id)\n",
    "# tracks = pd.DataFrame(tracks)\n",
    "# tracks.to_csv('track.csv', index=False)\n",
    "# tracks"
   ]
  },
  {
   "cell_type": "markdown",
   "metadata": {},
   "source": [
    "---\n",
    "# **3. Exploratory Data Analysis**"
   ]
  },
  {
   "cell_type": "markdown",
   "metadata": {},
   "source": [
    "## **3.1. Preprocessing**"
   ]
  },
  {
   "cell_type": "markdown",
   "metadata": {},
   "source": [
    "### **3.1.1. Tracks**"
   ]
  },
  {
   "cell_type": "markdown",
   "metadata": {},
   "source": [
    "### Load Data"
   ]
  },
  {
   "cell_type": "code",
   "execution_count": 9,
   "metadata": {},
   "outputs": [
    {
     "data": {
      "text/html": [
       "<div>\n",
       "<style scoped>\n",
       "    .dataframe tbody tr th:only-of-type {\n",
       "        vertical-align: middle;\n",
       "    }\n",
       "\n",
       "    .dataframe tbody tr th {\n",
       "        vertical-align: top;\n",
       "    }\n",
       "\n",
       "    .dataframe thead th {\n",
       "        text-align: right;\n",
       "    }\n",
       "</style>\n",
       "<table border=\"1\" class=\"dataframe\">\n",
       "  <thead>\n",
       "    <tr style=\"text-align: right;\">\n",
       "      <th></th>\n",
       "      <th>ID</th>\n",
       "      <th>Name</th>\n",
       "      <th>Poster</th>\n",
       "      <th>Plays</th>\n",
       "      <th>Likes</th>\n",
       "      <th>Reposts</th>\n",
       "      <th>PostedTime</th>\n",
       "      <th>Tags</th>\n",
       "      <th>Length</th>\n",
       "      <th>NumComments</th>\n",
       "    </tr>\n",
       "  </thead>\n",
       "  <tbody>\n",
       "    <tr>\n",
       "      <th>0</th>\n",
       "      <td>T1</td>\n",
       "      <td>Locked Up</td>\n",
       "      <td>U4190</td>\n",
       "      <td>1033050</td>\n",
       "      <td>15590</td>\n",
       "      <td>421</td>\n",
       "      <td>1 January 2005</td>\n",
       "      <td>R &amp; B</td>\n",
       "      <td>None</td>\n",
       "      <td>84</td>\n",
       "    </tr>\n",
       "    <tr>\n",
       "      <th>1</th>\n",
       "      <td>T2</td>\n",
       "      <td>Acsdjmix</td>\n",
       "      <td>U8577</td>\n",
       "      <td>120</td>\n",
       "      <td>1</td>\n",
       "      <td>3</td>\n",
       "      <td>22 April 2015</td>\n",
       "      <td>yujoooooo</td>\n",
       "      <td>1:07:21</td>\n",
       "      <td>None</td>\n",
       "    </tr>\n",
       "    <tr>\n",
       "      <th>2</th>\n",
       "      <td>T3</td>\n",
       "      <td>Ego Death</td>\n",
       "      <td>U10921</td>\n",
       "      <td>1882</td>\n",
       "      <td>48</td>\n",
       "      <td>9</td>\n",
       "      <td>17 June 2018</td>\n",
       "      <td>Hybrid</td>\n",
       "      <td>4:18</td>\n",
       "      <td>6</td>\n",
       "    </tr>\n",
       "    <tr>\n",
       "      <th>3</th>\n",
       "      <td>T4</td>\n",
       "      <td>Dabin x Fytch - Altitude</td>\n",
       "      <td>U4868</td>\n",
       "      <td>324493</td>\n",
       "      <td>7536</td>\n",
       "      <td>1018</td>\n",
       "      <td>28 September 2018</td>\n",
       "      <td>Electronic</td>\n",
       "      <td>3:27</td>\n",
       "      <td>85</td>\n",
       "    </tr>\n",
       "    <tr>\n",
       "      <th>4</th>\n",
       "      <td>T5</td>\n",
       "      <td>earned it</td>\n",
       "      <td>U3052</td>\n",
       "      <td>42037</td>\n",
       "      <td>805</td>\n",
       "      <td>71</td>\n",
       "      <td>28 July 2018</td>\n",
       "      <td>lofi</td>\n",
       "      <td>3:33</td>\n",
       "      <td>11</td>\n",
       "    </tr>\n",
       "  </tbody>\n",
       "</table>\n",
       "</div>"
      ],
      "text/plain": [
       "   ID                      Name  Poster    Plays  Likes Reposts  \\\n",
       "0  T1                 Locked Up   U4190  1033050  15590     421   \n",
       "1  T2                  Acsdjmix   U8577      120      1       3   \n",
       "2  T3                 Ego Death  U10921     1882     48       9   \n",
       "3  T4  Dabin x Fytch - Altitude   U4868   324493   7536    1018   \n",
       "4  T5                 earned it   U3052    42037    805      71   \n",
       "\n",
       "          PostedTime        Tags   Length NumComments  \n",
       "0     1 January 2005       R & B     None          84  \n",
       "1      22 April 2015   yujoooooo  1:07:21        None  \n",
       "2       17 June 2018      Hybrid     4:18           6  \n",
       "3  28 September 2018  Electronic     3:27          85  \n",
       "4       28 July 2018        lofi     3:33          11  "
      ]
     },
     "execution_count": 9,
     "metadata": {},
     "output_type": "execute_result"
    }
   ],
   "source": [
    "tracks_df = pd.read_csv('track.csv')\n",
    "tracks_df.head()"
   ]
  },
  {
   "cell_type": "markdown",
   "metadata": {},
   "source": [
    "### How many rows and columns does the data have?"
   ]
  },
  {
   "cell_type": "markdown",
   "metadata": {},
   "source": [
    "Get the number of rows and columns of the DataFrame `tracks_df` and store it in `num_rows_track` and `num_cols_track` variables by counting length of DataFrame and counting columns of DataFrame"
   ]
  },
  {
   "cell_type": "code",
   "execution_count": 10,
   "metadata": {},
   "outputs": [
    {
     "name": "stdout",
     "output_type": "stream",
     "text": [
      "Number of rows: 16190\n",
      "Number of columns: 10\n"
     ]
    }
   ],
   "source": [
    "num_rows_track = len(tracks_df)\n",
    "num_cols_track = len(tracks_df.columns)\n",
    "\n",
    "print(\"Number of rows:\", num_rows_track)\n",
    "print(\"Number of columns:\", num_cols_track)"
   ]
  },
  {
   "cell_type": "markdown",
   "metadata": {},
   "source": [
    "There are 16190 of rows, 10 of columns in `tracks_df`"
   ]
  },
  {
   "cell_type": "markdown",
   "metadata": {},
   "source": [
    "### Does the data have duplicate?"
   ]
  },
  {
   "cell_type": "markdown",
   "metadata": {},
   "source": [
    "Calculate the number of samples are duplicated based on `'ID'` field and store it in the variable `num_duplicated_rows`. In a group of samples, the first sample is not counted as duplicated by using (`keep='first'`). Then count number of duplications if their value are `True`"
   ]
  },
  {
   "cell_type": "code",
   "execution_count": 11,
   "metadata": {},
   "outputs": [
    {
     "name": "stdout",
     "output_type": "stream",
     "text": [
      "Duplicate: 0\n"
     ]
    }
   ],
   "source": [
    "track_duplicate = tracks_df['ID'].duplicated(keep='first')\n",
    "num_duplicated_rows = np.count_nonzero(track_duplicate==True)\n",
    "\n",
    "print('Duplicate:', num_duplicated_rows)"
   ]
  },
  {
   "cell_type": "markdown",
   "metadata": {},
   "source": [
    "There is no duplicate here"
   ]
  },
  {
   "cell_type": "markdown",
   "metadata": {},
   "source": [
    "### Check Columns' Datatypes, adjust if needed"
   ]
  },
  {
   "cell_type": "code",
   "execution_count": 12,
   "metadata": {},
   "outputs": [
    {
     "data": {
      "text/plain": [
       "ID             object\n",
       "Name           object\n",
       "Poster         object\n",
       "Plays           int64\n",
       "Likes           int64\n",
       "Reposts         int64\n",
       "PostedTime     object\n",
       "Tags           object\n",
       "Length         object\n",
       "NumComments     int64\n",
       "dtype: object"
      ]
     },
     "execution_count": 12,
     "metadata": {},
     "output_type": "execute_result"
    }
   ],
   "source": [
    "tracks_df['NumComments'] = tracks_df['NumComments'].apply(lambda col: col.replace(',', ''))\n",
    "tracks_df[['Plays', 'Likes', 'Reposts', 'NumComments']] = tracks_df[['Plays', 'Likes', 'Reposts', 'NumComments']].replace(['None', 'C'], '0')\n",
    "tracks_df[['Plays', 'Likes', 'Reposts', 'NumComments']] = tracks_df[['Plays', 'Likes', 'Reposts', 'NumComments']].astype(int)\n",
    "\n",
    "tracks_df.dtypes"
   ]
  },
  {
   "cell_type": "code",
   "execution_count": 13,
   "metadata": {},
   "outputs": [
    {
     "data": {
      "text/plain": [
       "ID                      object\n",
       "Name                    object\n",
       "Poster                  object\n",
       "Plays                    int64\n",
       "Likes                    int64\n",
       "Reposts                  int64\n",
       "PostedTime      datetime64[ns]\n",
       "Tags                    object\n",
       "Length         timedelta64[ns]\n",
       "NumComments              int64\n",
       "dtype: object"
      ]
     },
     "execution_count": 13,
     "metadata": {},
     "output_type": "execute_result"
    }
   ],
   "source": [
    "tracks_df['PostedTime'] = tracks_df['PostedTime'].apply(lambda col: col.replace('Posted on ', ''))\n",
    "tracks_df['PostedTime'] = pd.to_datetime(tracks_df['PostedTime'][tracks_df['PostedTime'] != 'None'])\n",
    "tracks_df['Length'] = tracks_df['Length'].str.replace('^(\\d+:\\d+)$', r'0:\\1', regex=True)\n",
    "tracks_df['Length'] = tracks_df['Length'].apply(lambda col: np.nan if col=='None' else pd.Timedelta(col))\n",
    "\n",
    "tracks_df.dtypes"
   ]
  },
  {
   "cell_type": "markdown",
   "metadata": {},
   "source": [
    "### Find out distribution of numeric data columns"
   ]
  },
  {
   "cell_type": "code",
   "execution_count": 14,
   "metadata": {},
   "outputs": [
    {
     "data": {
      "text/html": [
       "<div>\n",
       "<style scoped>\n",
       "    .dataframe tbody tr th:only-of-type {\n",
       "        vertical-align: middle;\n",
       "    }\n",
       "\n",
       "    .dataframe tbody tr th {\n",
       "        vertical-align: top;\n",
       "    }\n",
       "\n",
       "    .dataframe thead th {\n",
       "        text-align: right;\n",
       "    }\n",
       "</style>\n",
       "<table border=\"1\" class=\"dataframe\">\n",
       "  <thead>\n",
       "    <tr style=\"text-align: right;\">\n",
       "      <th></th>\n",
       "      <th>Plays</th>\n",
       "      <th>Likes</th>\n",
       "      <th>Reposts</th>\n",
       "      <th>PostedTime</th>\n",
       "      <th>Length</th>\n",
       "      <th>NumComments</th>\n",
       "    </tr>\n",
       "  </thead>\n",
       "  <tbody>\n",
       "    <tr>\n",
       "      <th>Missing percentage</th>\n",
       "      <td>0.0</td>\n",
       "      <td>0.0</td>\n",
       "      <td>0.0</td>\n",
       "      <td>0.024707</td>\n",
       "      <td>8.987029</td>\n",
       "      <td>0.0</td>\n",
       "    </tr>\n",
       "    <tr>\n",
       "      <th>Min</th>\n",
       "      <td>0.0</td>\n",
       "      <td>0.0</td>\n",
       "      <td>0.0</td>\n",
       "      <td>1964-01-01 00:00:00</td>\n",
       "      <td>0 days 00:00:29</td>\n",
       "      <td>0.0</td>\n",
       "    </tr>\n",
       "    <tr>\n",
       "      <th>Median</th>\n",
       "      <td>343461.5</td>\n",
       "      <td>4653.0</td>\n",
       "      <td>340.0</td>\n",
       "      <td>2015-03-07 12:00:00</td>\n",
       "      <td>0 days 00:03:49</td>\n",
       "      <td>48.0</td>\n",
       "    </tr>\n",
       "    <tr>\n",
       "      <th>Max</th>\n",
       "      <td>326494454.0</td>\n",
       "      <td>3164637.0</td>\n",
       "      <td>98358122.0</td>\n",
       "      <td>2022-11-30 00:00:00</td>\n",
       "      <td>0 days 04:18:21</td>\n",
       "      <td>252878.0</td>\n",
       "    </tr>\n",
       "  </tbody>\n",
       "</table>\n",
       "</div>"
      ],
      "text/plain": [
       "                          Plays      Likes     Reposts           PostedTime  \\\n",
       "Missing percentage          0.0        0.0         0.0             0.024707   \n",
       "Min                         0.0        0.0         0.0  1964-01-01 00:00:00   \n",
       "Median                 343461.5     4653.0       340.0  2015-03-07 12:00:00   \n",
       "Max                 326494454.0  3164637.0  98358122.0  2022-11-30 00:00:00   \n",
       "\n",
       "                             Length NumComments  \n",
       "Missing percentage         8.987029         0.0  \n",
       "Min                 0 days 00:00:29         0.0  \n",
       "Median              0 days 00:03:49        48.0  \n",
       "Max                 0 days 04:18:21    252878.0  "
      ]
     },
     "execution_count": 14,
     "metadata": {},
     "output_type": "execute_result"
    }
   ],
   "source": [
    "nume_cols = ['Plays', 'Likes', 'Reposts', 'PostedTime', 'Length', 'NumComments']\n",
    "\n",
    "missing_percentages = np.isnan(tracks_df[nume_cols]).sum() / num_rows_track * 100\n",
    "mins = np.percentile(tracks_df[nume_cols].loc[~pd.isnull(tracks_df['Length'])], 0, axis=0)\n",
    "medians = np.percentile(tracks_df[nume_cols], 50, axis=0)\n",
    "maxs = np.percentile(tracks_df[nume_cols], 100, axis=0)\n",
    "\n",
    "nume_cols_df_track = pd.DataFrame(data=np.array([missing_percentages, mins, medians, maxs]),\n",
    "                            index=['Missing percentage', 'Min', 'Median', 'Max'], columns=nume_cols)\n",
    "nume_cols_df_track"
   ]
  },
  {
   "cell_type": "markdown",
   "metadata": {},
   "source": [
    "### Find out distribution of non-numeric data columns"
   ]
  },
  {
   "cell_type": "code",
   "execution_count": 15,
   "metadata": {},
   "outputs": [
    {
     "data": {
      "text/html": [
       "<div>\n",
       "<style scoped>\n",
       "    .dataframe tbody tr th:only-of-type {\n",
       "        vertical-align: middle;\n",
       "    }\n",
       "\n",
       "    .dataframe tbody tr th {\n",
       "        vertical-align: top;\n",
       "    }\n",
       "\n",
       "    .dataframe thead th {\n",
       "        text-align: right;\n",
       "    }\n",
       "</style>\n",
       "<table border=\"1\" class=\"dataframe\">\n",
       "  <thead>\n",
       "    <tr style=\"text-align: right;\">\n",
       "      <th></th>\n",
       "      <th>ID</th>\n",
       "      <th>Name</th>\n",
       "      <th>Poster</th>\n",
       "      <th>Tags</th>\n",
       "    </tr>\n",
       "  </thead>\n",
       "  <tbody>\n",
       "    <tr>\n",
       "      <th>Missing percentage</th>\n",
       "      <td>0.0</td>\n",
       "      <td>0.0</td>\n",
       "      <td>0.0</td>\n",
       "      <td>0.006177</td>\n",
       "    </tr>\n",
       "    <tr>\n",
       "      <th>Num diff val</th>\n",
       "      <td>16190</td>\n",
       "      <td>15638</td>\n",
       "      <td>8901</td>\n",
       "      <td>4554</td>\n",
       "    </tr>\n",
       "    <tr>\n",
       "      <th>Diff val</th>\n",
       "      <td>[T1, T2, T3, T4, T5, T6, T7, T8, T9, T10, T11,...</td>\n",
       "      <td>[Locked Up, Acsdjmix, Ego Death, Dabin x Fytch...</td>\n",
       "      <td>[U4190, U8577, U10921, U4868, U3052, U2800, U3...</td>\n",
       "      <td>[R &amp; B, yujoooooo, Hybrid, Electronic, lofi, D...</td>\n",
       "    </tr>\n",
       "  </tbody>\n",
       "</table>\n",
       "</div>"
      ],
      "text/plain": [
       "                                                                   ID  \\\n",
       "Missing percentage                                                0.0   \n",
       "Num diff val                                                    16190   \n",
       "Diff val            [T1, T2, T3, T4, T5, T6, T7, T8, T9, T10, T11,...   \n",
       "\n",
       "                                                                 Name  \\\n",
       "Missing percentage                                                0.0   \n",
       "Num diff val                                                    15638   \n",
       "Diff val            [Locked Up, Acsdjmix, Ego Death, Dabin x Fytch...   \n",
       "\n",
       "                                                               Poster  \\\n",
       "Missing percentage                                                0.0   \n",
       "Num diff val                                                     8901   \n",
       "Diff val            [U4190, U8577, U10921, U4868, U3052, U2800, U3...   \n",
       "\n",
       "                                                                 Tags  \n",
       "Missing percentage                                           0.006177  \n",
       "Num diff val                                                     4554  \n",
       "Diff val            [R & B, yujoooooo, Hybrid, Electronic, lofi, D...  "
      ]
     },
     "execution_count": 15,
     "metadata": {},
     "output_type": "execute_result"
    }
   ],
   "source": [
    "cate_cols = ['ID', 'Name', 'Poster', 'Tags']\n",
    "tracks_df['Tags'] = tracks_df['Tags'].replace('', np.nan)\n",
    "\n",
    "missing_percentages = np.sum(tracks_df[cate_cols].isna()) / num_rows_track * 100\n",
    "num_diff_vals = np.array(tracks_df[cate_cols].nunique())\n",
    "diff_vals = np.array(tracks_df[cate_cols].apply(lambda col: col.dropna().unique()))\n",
    "\n",
    "cate_cols_df_track = pd.DataFrame(data=np.array([missing_percentages, num_diff_vals, diff_vals]),\n",
    "                            index=['Missing percentage', 'Num diff val', 'Diff val'], columns=cate_cols)\n",
    "cate_cols_df_track"
   ]
  },
  {
   "cell_type": "markdown",
   "metadata": {},
   "source": [
    "### Remove rows containing missing values if available"
   ]
  },
  {
   "cell_type": "markdown",
   "metadata": {},
   "source": [
    "We can observe that only Tags have missing value when we calculate the missing percentage.  So we'll investigate and get rid of it."
   ]
  },
  {
   "cell_type": "code",
   "execution_count": 16,
   "metadata": {},
   "outputs": [
    {
     "data": {
      "text/html": [
       "<div>\n",
       "<style scoped>\n",
       "    .dataframe tbody tr th:only-of-type {\n",
       "        vertical-align: middle;\n",
       "    }\n",
       "\n",
       "    .dataframe tbody tr th {\n",
       "        vertical-align: top;\n",
       "    }\n",
       "\n",
       "    .dataframe thead th {\n",
       "        text-align: right;\n",
       "    }\n",
       "</style>\n",
       "<table border=\"1\" class=\"dataframe\">\n",
       "  <thead>\n",
       "    <tr style=\"text-align: right;\">\n",
       "      <th></th>\n",
       "      <th>ID</th>\n",
       "      <th>Name</th>\n",
       "      <th>Poster</th>\n",
       "      <th>Plays</th>\n",
       "      <th>Likes</th>\n",
       "      <th>Reposts</th>\n",
       "      <th>PostedTime</th>\n",
       "      <th>Tags</th>\n",
       "      <th>Length</th>\n",
       "      <th>NumComments</th>\n",
       "    </tr>\n",
       "  </thead>\n",
       "  <tbody>\n",
       "    <tr>\n",
       "      <th>1966</th>\n",
       "      <td>T1967</td>\n",
       "      <td>Native America - Naturally Lazy</td>\n",
       "      <td>U10845</td>\n",
       "      <td>530740</td>\n",
       "      <td>8824</td>\n",
       "      <td>629</td>\n",
       "      <td>2014-09-17</td>\n",
       "      <td>NaN</td>\n",
       "      <td>0 days 00:02:50</td>\n",
       "      <td>34</td>\n",
       "    </tr>\n",
       "  </tbody>\n",
       "</table>\n",
       "</div>"
      ],
      "text/plain": [
       "         ID                             Name  Poster   Plays  Likes  Reposts  \\\n",
       "1966  T1967  Native America - Naturally Lazy  U10845  530740   8824      629   \n",
       "\n",
       "     PostedTime Tags          Length  NumComments  \n",
       "1966 2014-09-17  NaN 0 days 00:02:50           34  "
      ]
     },
     "execution_count": 16,
     "metadata": {},
     "output_type": "execute_result"
    }
   ],
   "source": [
    "tags_missing = tracks_df[tracks_df['Tags'].isna()]\n",
    "tags_missing"
   ]
  },
  {
   "cell_type": "code",
   "execution_count": 17,
   "metadata": {},
   "outputs": [],
   "source": [
    "tracks_df.at[tags_missing.index,'Tags'] = 'None'"
   ]
  },
  {
   "cell_type": "code",
   "execution_count": 18,
   "metadata": {},
   "outputs": [
    {
     "data": {
      "text/plain": [
       "16190"
      ]
     },
     "execution_count": 18,
     "metadata": {},
     "output_type": "execute_result"
    }
   ],
   "source": [
    "num_rows_track = len(tracks_df)\n",
    "num_rows_track"
   ]
  },
  {
   "cell_type": "markdown",
   "metadata": {},
   "source": [
    "### Normalize data"
   ]
  },
  {
   "cell_type": "code",
   "execution_count": 19,
   "metadata": {},
   "outputs": [
    {
     "data": {
      "text/plain": [
       "None                        2090\n",
       "Pop                          877\n",
       "Hip-hop & Rap                735\n",
       "Rock                         643\n",
       "Alternative                  562\n",
       "Hip Hop                      460\n",
       "Dance                        337\n",
       "Electronic                   318\n",
       "Disco                        260\n",
       "Indie                        243\n",
       "Dance & EDM                  227\n",
       "House                        221\n",
       "Rap                          219\n",
       "lofi                         163\n",
       "Rap/Hip Hop                  139\n",
       "Folk                         137\n",
       "Alternative Rock             137\n",
       "R&B & Soul                   119\n",
       "Acoustic                     114\n",
       "Folk & Singer-Songwriter     103\n",
       "Trap                         101\n",
       "Deep House                    96\n",
       "R&B                           94\n",
       "Electro House                 78\n",
       "Metal                         70\n",
       "Progressive House             68\n",
       "Dubstep                       60\n",
       "Hip-Hop                       52\n",
       "Reggae                        49\n",
       "Country                       48\n",
       "Indie Rock                    44\n",
       "R & B                         43\n",
       "pop                           43\n",
       "World                         40\n",
       "Remix                         35\n",
       "Chill                         35\n",
       "Soundtrack                    34\n",
       "rap                           33\n",
       "Hiphop                        33\n",
       "Music                         32\n",
       "Name: Tags, dtype: int64"
      ]
     },
     "execution_count": 19,
     "metadata": {},
     "output_type": "execute_result"
    }
   ],
   "source": [
    "tracks_df['Tags'].value_counts().iloc[:40]"
   ]
  },
  {
   "cell_type": "markdown",
   "metadata": {},
   "source": [
    "We can see that a tags can contains some white space in the value so we will strip"
   ]
  },
  {
   "cell_type": "code",
   "execution_count": 20,
   "metadata": {},
   "outputs": [],
   "source": [
    "tracks_df[cate_cols] = tracks_df[cate_cols].apply(lambda x : x.str.strip())"
   ]
  },
  {
   "cell_type": "markdown",
   "metadata": {},
   "source": [
    "1. We can see that 'Indie' or 'indie' or 'indies' or 'Indies' is the same "
   ]
  },
  {
   "cell_type": "code",
   "execution_count": 21,
   "metadata": {},
   "outputs": [],
   "source": [
    "tracks_df['Tags'] = tracks_df['Tags'].replace({'indie':'Indie','INDIE':'Indie','folk':'Folk','pop':'Pop','acoustic':'Acoustic',\n",
    "                                               'alternative':'Alternative','ALTERNATIVE':'Alternative','bedroom':'Bedroom',\n",
    "                                              'dance':'Dance','lofi':'Lofi','Hip/hop':'Hip hop','Hip-hop':'Hip hop',\n",
    "                                              'Hip-Hop':'Hip hop','Hip-Hop':'Hip hop','rock':'Rock','chill':'Chill','Edm':'EDM',\n",
    "                                               'R & B':'R&B','R\\'N\\'B':'R&B','Folks':'Folk','Lo-Fi':'LoFi','Hiphop':'Hip hop','Hip Hop':'Hip hop','Singersongwriter':'Singer-Songwriter'}, regex=True)\n",
    "# tracks_df[tracks_df['Tags']=='indie rock'] "
   ]
  },
  {
   "cell_type": "markdown",
   "metadata": {},
   "source": [
    "Replace '/' & '//' by '&'"
   ]
  },
  {
   "cell_type": "code",
   "execution_count": 22,
   "metadata": {},
   "outputs": [],
   "source": [
    "tracks_df['Tags'] = tracks_df['Tags'].replace({'\\\\\\\\':' & ','/':' & ','//':' & ','#': ' & ' ,',':' &'}, regex=True)"
   ]
  },
  {
   "cell_type": "code",
   "execution_count": 23,
   "id": "44a8f0e7",
   "metadata": {},
   "outputs": [
    {
     "data": {
      "text/plain": [
       "HALSEY                                                        1\n",
       "Balada y KPop                                                 1\n",
       "Indie  & Bandung  & bdg  & Folk  & Pop  & Acoustic  & solo    1\n",
       "spiritual                                                     1\n",
       "angry                                                         1\n",
       "Touareq                                                       1\n",
       "波                                                             1\n",
       "tennis                                                        1\n",
       "Electronic Hip hop                                            1\n",
       "Set                                                           1\n",
       "Flitz&Suppe                                                   1\n",
       "follow ارجو                                                   1\n",
       "serial                                                        1\n",
       "bob                                                           1\n",
       "South Africa                                                  1\n",
       "Totally Enormous Extinct Dinosaurs                            1\n",
       "Dr. Kucho!                                                    1\n",
       "arilasso                                                      1\n",
       "House & Tech & Progressive                                    1\n",
       "ishaqzade                                                     1\n",
       "Wednesday                                                     1\n",
       "G-MAFIA                                                       1\n",
       "easemymind                                                    1\n",
       "http: &  & soundcloud.com & syaugie & sets                    1\n",
       "D.R.A.M.                                                      1\n",
       "S950 Boom Bap                                                 1\n",
       "https: &  & www.instagram.com & odelolabel &                  1\n",
       "abidaparveen                                                  1\n",
       "tronven  & t5ca                                               1\n",
       "shadesheist                                                   1\n",
       "Name: Tags, dtype: int64"
      ]
     },
     "execution_count": 23,
     "metadata": {},
     "output_type": "execute_result"
    }
   ],
   "source": [
    "tracks_df['Tags'].value_counts().tail(30)"
   ]
  },
  {
   "cell_type": "markdown",
   "id": "1db25d58",
   "metadata": {},
   "source": [
    "Many tags do not consider the definition of a genre or are seldom used, thus we eliminate them. We will just eliminate the row that doesn't contain any of the common tags that may be contained in a tag."
   ]
  },
  {
   "cell_type": "code",
   "execution_count": 24,
   "id": "1f971478",
   "metadata": {},
   "outputs": [],
   "source": [
    "tracks_df['Tags'] = tracks_df['Tags'].replace({'Bersenjagurau':'None','Psychedelic':'Rock','mac demarco':'None','Music':'None','beats':'Beat','Shoegaze':'Alternative Rock','Quinn XCII':'None','<3':'None','Totemo':'None','Rock & Roll':'Rock&Roll',\n",
    "                                               'Beats':'Beat','Indie Folk':'Indie & Folk','Nu Disco':'Disco','Singer Songwriter':'Singer-Songwriter','Logic':'Hip hop & Rap',\n",
    "                                              'Grunge':'Alternative'}, regex=True)\n",
    "value_count = tracks_df['Tags'].value_counts()\n",
    "genre = tracks_df['Tags'].value_counts().iloc[:68].index"
   ]
  },
  {
   "cell_type": "code",
   "execution_count": 25,
   "id": "637ba355",
   "metadata": {},
   "outputs": [],
   "source": [
    "popular_genre = genre.to_series().str.split(' & ').explode().str.strip().drop_duplicates().to_list()\n",
    "pattern = '|'.join(popular_genre)\n",
    "contain = tracks_df[tracks_df['Tags'].str.contains(pattern)]\n",
    "notcontain = tracks_df[~tracks_df['Tags'].str.contains(pattern)]\n",
    "notcontain =  notcontain.assign(Tags='None')\n",
    "tracks_df = pd.concat([contain,notcontain])\n",
    "# contain[~contain['Tags'].isin(popular_genre)]"
   ]
  },
  {
   "cell_type": "code",
   "execution_count": 26,
   "id": "55d4dab6",
   "metadata": {},
   "outputs": [
    {
     "data": {
      "image/png": "[encoded data removed]",
      "text/plain": [
       "<Figure size 800x500 with 1 Axes>"
      ]
     },
     "metadata": {},
     "output_type": "display_data"
    }
   ],
   "source": [
    "tracks_df[tracks_df['Tags']!='None']['Tags'].value_counts()[:10].plot.barh(width=0.8)\n",
    "plt.title('Top 10 genre (except None) of track')\n",
    "fig=plt.gcf()\n",
    "fig.set_size_inches(8,5)\n",
    "plt.show()"
   ]
  },
  {
   "cell_type": "markdown",
   "metadata": {},
   "source": [
    "---\n",
    "### **3.1.2. Playlists**"
   ]
  },
  {
   "cell_type": "markdown",
   "metadata": {},
   "source": [
    "### Load Data"
   ]
  },
  {
   "cell_type": "code",
   "execution_count": 27,
   "metadata": {},
   "outputs": [
    {
     "data": {
      "text/html": [
       "<div>\n",
       "<style scoped>\n",
       "    .dataframe tbody tr th:only-of-type {\n",
       "        vertical-align: middle;\n",
       "    }\n",
       "\n",
       "    .dataframe tbody tr th {\n",
       "        vertical-align: top;\n",
       "    }\n",
       "\n",
       "    .dataframe thead th {\n",
       "        text-align: right;\n",
       "    }\n",
       "</style>\n",
       "<table border=\"1\" class=\"dataframe\">\n",
       "  <thead>\n",
       "    <tr style=\"text-align: right;\">\n",
       "      <th></th>\n",
       "      <th>ID</th>\n",
       "      <th>Name</th>\n",
       "      <th>Poster</th>\n",
       "      <th>NumTracks</th>\n",
       "      <th>TopTracks</th>\n",
       "      <th>Likes</th>\n",
       "      <th>Reposts</th>\n",
       "      <th>PostedTime</th>\n",
       "      <th>Genre</th>\n",
       "      <th>Length</th>\n",
       "    </tr>\n",
       "  </thead>\n",
       "  <tbody>\n",
       "    <tr>\n",
       "      <th>0</th>\n",
       "      <td>P1</td>\n",
       "      <td>Gentle Dreams 🛏️ - An Indie/Chill/Electronic P...</td>\n",
       "      <td>U1</td>\n",
       "      <td>18</td>\n",
       "      <td>['T1', 'T2', 'T3', 'T4', 'T5', 'T6', 'T7', 'T8...</td>\n",
       "      <td>121377</td>\n",
       "      <td>9211</td>\n",
       "      <td>13 May 2017</td>\n",
       "      <td>indie</td>\n",
       "      <td>1:09:50</td>\n",
       "    </tr>\n",
       "    <tr>\n",
       "      <th>1</th>\n",
       "      <td>P2</td>\n",
       "      <td>Relaxing Sunday Mornings ☕ - An Indie/Folk/Pop...</td>\n",
       "      <td>U1</td>\n",
       "      <td>16</td>\n",
       "      <td>['T11', 'T12', 'T13', 'T14', 'T15', 'T16', 'T1...</td>\n",
       "      <td>74566</td>\n",
       "      <td>4554</td>\n",
       "      <td>15 April 2017</td>\n",
       "      <td>indie</td>\n",
       "      <td>55:27</td>\n",
       "    </tr>\n",
       "    <tr>\n",
       "      <th>2</th>\n",
       "      <td>P3</td>\n",
       "      <td>Indie</td>\n",
       "      <td>U22</td>\n",
       "      <td>522</td>\n",
       "      <td>['T21', 'T22', 'T23', 'T24', 'T25', 'T26', 'T2...</td>\n",
       "      <td>2236</td>\n",
       "      <td>149</td>\n",
       "      <td>22 June 2015</td>\n",
       "      <td>indie</td>\n",
       "      <td>2:13:41</td>\n",
       "    </tr>\n",
       "    <tr>\n",
       "      <th>3</th>\n",
       "      <td>P4</td>\n",
       "      <td>Indie</td>\n",
       "      <td>U32</td>\n",
       "      <td>379</td>\n",
       "      <td>['T31', 'T32', 'T33', 'T34', 'T35', 'T36', 'T3...</td>\n",
       "      <td>1159</td>\n",
       "      <td>180</td>\n",
       "      <td>1 August 2014</td>\n",
       "      <td>indie</td>\n",
       "      <td>2:33:29</td>\n",
       "    </tr>\n",
       "    <tr>\n",
       "      <th>4</th>\n",
       "      <td>P5</td>\n",
       "      <td>indie ♥</td>\n",
       "      <td>U43</td>\n",
       "      <td>291</td>\n",
       "      <td>['T41', 'T42', 'T43', 'T44', 'T45', 'T46', 'T4...</td>\n",
       "      <td>2300</td>\n",
       "      <td>685</td>\n",
       "      <td>21 January 2013</td>\n",
       "      <td>indie</td>\n",
       "      <td>2:25:35</td>\n",
       "    </tr>\n",
       "  </tbody>\n",
       "</table>\n",
       "</div>"
      ],
      "text/plain": [
       "   ID                                               Name Poster NumTracks  \\\n",
       "0  P1  Gentle Dreams 🛏️ - An Indie/Chill/Electronic P...     U1        18   \n",
       "1  P2  Relaxing Sunday Mornings ☕ - An Indie/Folk/Pop...     U1        16   \n",
       "2  P3                                              Indie    U22       522   \n",
       "3  P4                                              Indie    U32       379   \n",
       "4  P5                                            indie ♥    U43       291   \n",
       "\n",
       "                                           TopTracks   Likes Reposts  \\\n",
       "0  ['T1', 'T2', 'T3', 'T4', 'T5', 'T6', 'T7', 'T8...  121377    9211   \n",
       "1  ['T11', 'T12', 'T13', 'T14', 'T15', 'T16', 'T1...   74566    4554   \n",
       "2  ['T21', 'T22', 'T23', 'T24', 'T25', 'T26', 'T2...    2236     149   \n",
       "3  ['T31', 'T32', 'T33', 'T34', 'T35', 'T36', 'T3...    1159     180   \n",
       "4  ['T41', 'T42', 'T43', 'T44', 'T45', 'T46', 'T4...    2300     685   \n",
       "\n",
       "        PostedTime  Genre   Length  \n",
       "0      13 May 2017  indie  1:09:50  \n",
       "1    15 April 2017  indie    55:27  \n",
       "2     22 June 2015  indie  2:13:41  \n",
       "3    1 August 2014  indie  2:33:29  \n",
       "4  21 January 2013  indie  2:25:35  "
      ]
     },
     "execution_count": 27,
     "metadata": {},
     "output_type": "execute_result"
    }
   ],
   "source": [
    "playlists_df = pd.read_csv('playlist.csv')\n",
    "playlists_df.head()"
   ]
  },
  {
   "cell_type": "markdown",
   "metadata": {},
   "source": [
    "### How many rows and columns does the data have?"
   ]
  },
  {
   "cell_type": "markdown",
   "metadata": {},
   "source": [
    "Get the number of rows and columns of the DataFrame `playlists_df` and store it in `num_rows_playlist` and `num_cols_playlist` variables by counting length of DataFrame and counting columns of DataFrame"
   ]
  },
  {
   "cell_type": "code",
   "execution_count": 28,
   "metadata": {},
   "outputs": [
    {
     "name": "stdout",
     "output_type": "stream",
     "text": [
      "Number of rows: 2000\n",
      "Number of columns: 10\n"
     ]
    }
   ],
   "source": [
    "num_rows_playlist = len(playlists_df)\n",
    "num_cols_playlist = len(playlists_df.columns)\n",
    "\n",
    "print(\"Number of rows:\", num_rows_playlist)\n",
    "print(\"Number of columns:\", num_cols_playlist)"
   ]
  },
  {
   "cell_type": "markdown",
   "metadata": {},
   "source": [
    "There are 2000 of rows, 10 of columns in `playlists_df`"
   ]
  },
  {
   "cell_type": "markdown",
   "metadata": {},
   "source": [
    "### Does the data have duplicate?"
   ]
  },
  {
   "cell_type": "markdown",
   "metadata": {},
   "source": [
    "Calculate the number of samples are duplicated based on `'ID'` field and store it in the variable `num_duplicated_rows`. In a group of samples, the first sample is not counted as duplicated by using (`keep='first'`). Then count number of duplications if their value are `True`"
   ]
  },
  {
   "cell_type": "code",
   "execution_count": 29,
   "metadata": {},
   "outputs": [
    {
     "name": "stdout",
     "output_type": "stream",
     "text": [
      "Duplicate: 100\n"
     ]
    },
    {
     "data": {
      "text/html": [
       "<div>\n",
       "<style scoped>\n",
       "    .dataframe tbody tr th:only-of-type {\n",
       "        vertical-align: middle;\n",
       "    }\n",
       "\n",
       "    .dataframe tbody tr th {\n",
       "        vertical-align: top;\n",
       "    }\n",
       "\n",
       "    .dataframe thead th {\n",
       "        text-align: right;\n",
       "    }\n",
       "</style>\n",
       "<table border=\"1\" class=\"dataframe\">\n",
       "  <thead>\n",
       "    <tr style=\"text-align: right;\">\n",
       "      <th></th>\n",
       "      <th>ID</th>\n",
       "      <th>Name</th>\n",
       "      <th>Poster</th>\n",
       "      <th>NumTracks</th>\n",
       "      <th>TopTracks</th>\n",
       "      <th>Likes</th>\n",
       "      <th>Reposts</th>\n",
       "      <th>PostedTime</th>\n",
       "      <th>Genre</th>\n",
       "      <th>Length</th>\n",
       "    </tr>\n",
       "  </thead>\n",
       "  <tbody>\n",
       "    <tr>\n",
       "      <th>340</th>\n",
       "      <td>P340</td>\n",
       "      <td>Lofi</td>\n",
       "      <td>U2298</td>\n",
       "      <td>309</td>\n",
       "      <td>['T2959', 'T2960', 'T2961', 'T2962', 'T2963', ...</td>\n",
       "      <td>22</td>\n",
       "      <td>2</td>\n",
       "      <td>14 September 2018</td>\n",
       "      <td>lofi</td>\n",
       "      <td>2:23:53</td>\n",
       "    </tr>\n",
       "    <tr>\n",
       "      <th>380</th>\n",
       "      <td>P379</td>\n",
       "      <td>Vibes</td>\n",
       "      <td>U2228</td>\n",
       "      <td>207</td>\n",
       "      <td>['T3260', 'T3261', 'T2846', 'T2847', 'T2849', ...</td>\n",
       "      <td>45</td>\n",
       "      <td>1</td>\n",
       "      <td>17 November 2022</td>\n",
       "      <td>lofi</td>\n",
       "      <td>1:46:08</td>\n",
       "    </tr>\n",
       "    <tr>\n",
       "      <th>405</th>\n",
       "      <td>P207</td>\n",
       "      <td>| Chill | Lofi | Hip Hop |</td>\n",
       "      <td>U1493</td>\n",
       "      <td>122</td>\n",
       "      <td>['T1864', 'T1865', 'T1866', 'T1867', 'T1868', ...</td>\n",
       "      <td>98545</td>\n",
       "      <td>5614</td>\n",
       "      <td>28 October 2017</td>\n",
       "      <td>hiphop</td>\n",
       "      <td>1:56:39</td>\n",
       "    </tr>\n",
       "    <tr>\n",
       "      <th>406</th>\n",
       "      <td>P208</td>\n",
       "      <td>Study &amp; Chill | Lofi Hiphop</td>\n",
       "      <td>U1502</td>\n",
       "      <td>24</td>\n",
       "      <td>['T1873', 'T1874', 'T1875', 'T1876', 'T1877', ...</td>\n",
       "      <td>98276</td>\n",
       "      <td>5976</td>\n",
       "      <td>3 September 2018</td>\n",
       "      <td>hiphop</td>\n",
       "      <td>48:43</td>\n",
       "    </tr>\n",
       "    <tr>\n",
       "      <th>420</th>\n",
       "      <td>P210</td>\n",
       "      <td>lofi hip hop playlist</td>\n",
       "      <td>U1515</td>\n",
       "      <td>90</td>\n",
       "      <td>['T1893', 'T1894', 'T1895', 'T1896', 'T1897', ...</td>\n",
       "      <td>61760</td>\n",
       "      <td>6913</td>\n",
       "      <td>22 February 2017</td>\n",
       "      <td>hiphop</td>\n",
       "      <td>2:28:01</td>\n",
       "    </tr>\n",
       "    <tr>\n",
       "      <th>...</th>\n",
       "      <td>...</td>\n",
       "      <td>...</td>\n",
       "      <td>...</td>\n",
       "      <td>...</td>\n",
       "      <td>...</td>\n",
       "      <td>...</td>\n",
       "      <td>...</td>\n",
       "      <td>...</td>\n",
       "      <td>...</td>\n",
       "      <td>...</td>\n",
       "    </tr>\n",
       "    <tr>\n",
       "      <th>1974</th>\n",
       "      <td>P1867</td>\n",
       "      <td>rock</td>\n",
       "      <td>U11449</td>\n",
       "      <td>447</td>\n",
       "      <td>['T15919', 'T15920', 'T15921', 'T15922', 'T159...</td>\n",
       "      <td>7</td>\n",
       "      <td>7</td>\n",
       "      <td>27 February 2017</td>\n",
       "      <td>rock</td>\n",
       "      <td>2:33:55</td>\n",
       "    </tr>\n",
       "    <tr>\n",
       "      <th>1975</th>\n",
       "      <td>P1868</td>\n",
       "      <td>rock</td>\n",
       "      <td>U11455</td>\n",
       "      <td>481</td>\n",
       "      <td>['T15928', 'T15929', 'T15930', 'T15931', 'T159...</td>\n",
       "      <td>3</td>\n",
       "      <td>6</td>\n",
       "      <td>20 April 2019</td>\n",
       "      <td>rock</td>\n",
       "      <td>2:12:48</td>\n",
       "    </tr>\n",
       "    <tr>\n",
       "      <th>1976</th>\n",
       "      <td>P1869</td>\n",
       "      <td>rock</td>\n",
       "      <td>U11457</td>\n",
       "      <td>63</td>\n",
       "      <td>['T15938', 'T15764', 'T15085', 'T15939', 'T159...</td>\n",
       "      <td>2</td>\n",
       "      <td>9</td>\n",
       "      <td>13 April 2021</td>\n",
       "      <td>rock</td>\n",
       "      <td>1:44:43</td>\n",
       "    </tr>\n",
       "    <tr>\n",
       "      <th>1977</th>\n",
       "      <td>P1870</td>\n",
       "      <td>Rock</td>\n",
       "      <td>U11463</td>\n",
       "      <td>416</td>\n",
       "      <td>['T15163', 'T190', 'T15943', 'T7338', 'T15236'...</td>\n",
       "      <td>9</td>\n",
       "      <td>72</td>\n",
       "      <td>25 April 2016</td>\n",
       "      <td>rock</td>\n",
       "      <td>2:35:24</td>\n",
       "    </tr>\n",
       "    <tr>\n",
       "      <th>1978</th>\n",
       "      <td>P1871</td>\n",
       "      <td>rock</td>\n",
       "      <td>U11465</td>\n",
       "      <td>379</td>\n",
       "      <td>['T15945', 'T15946', 'T15947', 'T15948', 'T159...</td>\n",
       "      <td>5</td>\n",
       "      <td>1</td>\n",
       "      <td>8 August 2016</td>\n",
       "      <td>rock</td>\n",
       "      <td>2:57:16</td>\n",
       "    </tr>\n",
       "  </tbody>\n",
       "</table>\n",
       "<p>100 rows × 10 columns</p>\n",
       "</div>"
      ],
      "text/plain": [
       "         ID                         Name  Poster NumTracks  \\\n",
       "340    P340                         Lofi   U2298       309   \n",
       "380    P379                        Vibes   U2228       207   \n",
       "405    P207   | Chill | Lofi | Hip Hop |   U1493       122   \n",
       "406    P208  Study & Chill | Lofi Hiphop   U1502        24   \n",
       "420    P210        lofi hip hop playlist   U1515        90   \n",
       "...     ...                          ...     ...       ...   \n",
       "1974  P1867                         rock  U11449       447   \n",
       "1975  P1868                         rock  U11455       481   \n",
       "1976  P1869                         rock  U11457        63   \n",
       "1977  P1870                         Rock  U11463       416   \n",
       "1978  P1871                         rock  U11465       379   \n",
       "\n",
       "                                              TopTracks  Likes Reposts  \\\n",
       "340   ['T2959', 'T2960', 'T2961', 'T2962', 'T2963', ...     22       2   \n",
       "380   ['T3260', 'T3261', 'T2846', 'T2847', 'T2849', ...     45       1   \n",
       "405   ['T1864', 'T1865', 'T1866', 'T1867', 'T1868', ...  98545    5614   \n",
       "406   ['T1873', 'T1874', 'T1875', 'T1876', 'T1877', ...  98276    5976   \n",
       "420   ['T1893', 'T1894', 'T1895', 'T1896', 'T1897', ...  61760    6913   \n",
       "...                                                 ...    ...     ...   \n",
       "1974  ['T15919', 'T15920', 'T15921', 'T15922', 'T159...      7       7   \n",
       "1975  ['T15928', 'T15929', 'T15930', 'T15931', 'T159...      3       6   \n",
       "1976  ['T15938', 'T15764', 'T15085', 'T15939', 'T159...      2       9   \n",
       "1977  ['T15163', 'T190', 'T15943', 'T7338', 'T15236'...      9      72   \n",
       "1978  ['T15945', 'T15946', 'T15947', 'T15948', 'T159...      5       1   \n",
       "\n",
       "             PostedTime   Genre   Length  \n",
       "340   14 September 2018    lofi  2:23:53  \n",
       "380    17 November 2022    lofi  1:46:08  \n",
       "405     28 October 2017  hiphop  1:56:39  \n",
       "406    3 September 2018  hiphop    48:43  \n",
       "420    22 February 2017  hiphop  2:28:01  \n",
       "...                 ...     ...      ...  \n",
       "1974   27 February 2017    rock  2:33:55  \n",
       "1975      20 April 2019    rock  2:12:48  \n",
       "1976      13 April 2021    rock  1:44:43  \n",
       "1977      25 April 2016    rock  2:35:24  \n",
       "1978      8 August 2016    rock  2:57:16  \n",
       "\n",
       "[100 rows x 10 columns]"
      ]
     },
     "execution_count": 29,
     "metadata": {},
     "output_type": "execute_result"
    }
   ],
   "source": [
    "playlist_duplicate = playlists_df['ID'].duplicated(keep='first')\n",
    "num_duplicated_rows = np.count_nonzero(playlist_duplicate == True)\n",
    "\n",
    "print('Duplicate:', num_duplicated_rows)\n",
    "playlists_df[playlist_duplicate == True]"
   ]
  },
  {
   "cell_type": "markdown",
   "metadata": {},
   "source": [
    "Therefore having 100 duplicated data in `playlists_df`, we need to remove those duplicates. After removing, number of rows of `playlists_df` will be changed"
   ]
  },
  {
   "cell_type": "code",
   "execution_count": 30,
   "metadata": {},
   "outputs": [
    {
     "data": {
      "text/plain": [
       "1900"
      ]
     },
     "execution_count": 30,
     "metadata": {},
     "output_type": "execute_result"
    }
   ],
   "source": [
    "duplicate_index = playlists_df[playlist_duplicate == True].index\n",
    "playlists_df.drop(duplicate_index, inplace=True)\n",
    "num_rows_playlist = len(playlists_df)\n",
    "num_rows_playlist"
   ]
  },
  {
   "cell_type": "markdown",
   "metadata": {},
   "source": [
    "### Check Columns' Datatypes, adjust if needed"
   ]
  },
  {
   "cell_type": "code",
   "execution_count": 31,
   "metadata": {},
   "outputs": [
    {
     "data": {
      "text/plain": [
       "ID            object\n",
       "Name          object\n",
       "Poster        object\n",
       "NumTracks      int64\n",
       "TopTracks     object\n",
       "Likes          int64\n",
       "Reposts        int64\n",
       "PostedTime    object\n",
       "Genre         object\n",
       "Length        object\n",
       "dtype: object"
      ]
     },
     "execution_count": 31,
     "metadata": {},
     "output_type": "execute_result"
    }
   ],
   "source": [
    "playlists_df['NumTracks'] = playlists_df['NumTracks'].apply(lambda col: col.replace(',', ''))\n",
    "playlists_df[['NumTracks', 'Likes', 'Reposts']] = playlists_df[['NumTracks', 'Likes', 'Reposts']].replace(['None'], '0')\n",
    "playlists_df[['NumTracks', 'Likes', 'Reposts']] = playlists_df[['NumTracks', 'Likes', 'Reposts']].astype(int)\n",
    "\n",
    "playlists_df.dtypes"
   ]
  },
  {
   "cell_type": "code",
   "execution_count": 32,
   "metadata": {},
   "outputs": [
    {
     "data": {
      "text/plain": [
       "ID                     object\n",
       "Name                   object\n",
       "Poster                 object\n",
       "NumTracks               int64\n",
       "TopTracks              object\n",
       "Likes                   int64\n",
       "Reposts                 int64\n",
       "PostedTime     datetime64[ns]\n",
       "Genre                  object\n",
       "Length        timedelta64[ns]\n",
       "dtype: object"
      ]
     },
     "execution_count": 32,
     "metadata": {},
     "output_type": "execute_result"
    }
   ],
   "source": [
    "playlists_df['PostedTime'] = pd.to_datetime(playlists_df['PostedTime'][playlists_df['PostedTime'] != 'None'], format='%d %B %Y')\n",
    "playlists_df['Length'] = playlists_df['Length'].str.replace('^(\\d+:\\d+)$', r'0:\\1', regex=True)\n",
    "playlists_df['Length'] = playlists_df['Length'].apply(lambda col: np.nan if col=='None' else pd.Timedelta(col))\n",
    "\n",
    "playlists_df.dtypes"
   ]
  },
  {
   "cell_type": "markdown",
   "metadata": {},
   "source": [
    "### Find out distribution of numeric data columns"
   ]
  },
  {
   "cell_type": "code",
   "execution_count": 33,
   "metadata": {},
   "outputs": [
    {
     "data": {
      "text/html": [
       "<div>\n",
       "<style scoped>\n",
       "    .dataframe tbody tr th:only-of-type {\n",
       "        vertical-align: middle;\n",
       "    }\n",
       "\n",
       "    .dataframe tbody tr th {\n",
       "        vertical-align: top;\n",
       "    }\n",
       "\n",
       "    .dataframe thead th {\n",
       "        text-align: right;\n",
       "    }\n",
       "</style>\n",
       "<table border=\"1\" class=\"dataframe\">\n",
       "  <thead>\n",
       "    <tr style=\"text-align: right;\">\n",
       "      <th></th>\n",
       "      <th>NumTracks</th>\n",
       "      <th>Likes</th>\n",
       "      <th>Reposts</th>\n",
       "      <th>PostedTime</th>\n",
       "      <th>Length</th>\n",
       "    </tr>\n",
       "  </thead>\n",
       "  <tbody>\n",
       "    <tr>\n",
       "      <th>Missing percentage</th>\n",
       "      <td>0.0</td>\n",
       "      <td>0.0</td>\n",
       "      <td>0.0</td>\n",
       "      <td>0.315789</td>\n",
       "      <td>0.368421</td>\n",
       "    </tr>\n",
       "    <tr>\n",
       "      <th>Min</th>\n",
       "      <td>0.0</td>\n",
       "      <td>0.0</td>\n",
       "      <td>0.0</td>\n",
       "      <td>2012-11-06 00:00:00</td>\n",
       "      <td>0 days 00:02:44</td>\n",
       "    </tr>\n",
       "    <tr>\n",
       "      <th>Median</th>\n",
       "      <td>343.5</td>\n",
       "      <td>5.0</td>\n",
       "      <td>3.0</td>\n",
       "      <td>2017-11-28 12:00:00</td>\n",
       "      <td>0 days 02:52:56.500000</td>\n",
       "    </tr>\n",
       "    <tr>\n",
       "      <th>Max</th>\n",
       "      <td>4505.0</td>\n",
       "      <td>421046.0</td>\n",
       "      <td>177117.0</td>\n",
       "      <td>2022-11-26 00:00:00</td>\n",
       "      <td>12 days 22:25:17</td>\n",
       "    </tr>\n",
       "  </tbody>\n",
       "</table>\n",
       "</div>"
      ],
      "text/plain": [
       "                   NumTracks     Likes   Reposts           PostedTime  \\\n",
       "Missing percentage       0.0       0.0       0.0             0.315789   \n",
       "Min                      0.0       0.0       0.0  2012-11-06 00:00:00   \n",
       "Median                 343.5       5.0       3.0  2017-11-28 12:00:00   \n",
       "Max                   4505.0  421046.0  177117.0  2022-11-26 00:00:00   \n",
       "\n",
       "                                    Length  \n",
       "Missing percentage                0.368421  \n",
       "Min                        0 days 00:02:44  \n",
       "Median              0 days 02:52:56.500000  \n",
       "Max                       12 days 22:25:17  "
      ]
     },
     "execution_count": 33,
     "metadata": {},
     "output_type": "execute_result"
    }
   ],
   "source": [
    "nume_cols = ['NumTracks', 'Likes', 'Reposts', 'PostedTime', 'Length']\n",
    "\n",
    "missing_percentages = np.isnan(playlists_df[nume_cols]).sum() / num_rows_playlist * 100\n",
    "mins = np.percentile(playlists_df[nume_cols], 0, axis=0)\n",
    "medians = np.percentile(playlists_df[nume_cols], 50, axis=0)\n",
    "maxs = np.percentile(playlists_df[nume_cols], 100, axis=0)\n",
    "\n",
    "nume_cols_df_playlist = pd.DataFrame(data=np.array([missing_percentages, mins, medians, maxs]),\n",
    "                                     index=['Missing percentage', 'Min', 'Median', 'Max'], columns=nume_cols)\n",
    "nume_cols_df_playlist"
   ]
  },
  {
   "cell_type": "markdown",
   "metadata": {},
   "source": [
    "### Find out distribution of non-numeric data columns"
   ]
  },
  {
   "cell_type": "code",
   "execution_count": 34,
   "metadata": {},
   "outputs": [
    {
     "data": {
      "text/html": [
       "<div>\n",
       "<style scoped>\n",
       "    .dataframe tbody tr th:only-of-type {\n",
       "        vertical-align: middle;\n",
       "    }\n",
       "\n",
       "    .dataframe tbody tr th {\n",
       "        vertical-align: top;\n",
       "    }\n",
       "\n",
       "    .dataframe thead th {\n",
       "        text-align: right;\n",
       "    }\n",
       "</style>\n",
       "<table border=\"1\" class=\"dataframe\">\n",
       "  <thead>\n",
       "    <tr style=\"text-align: right;\">\n",
       "      <th></th>\n",
       "      <th>ID</th>\n",
       "      <th>Name</th>\n",
       "      <th>Poster</th>\n",
       "      <th>TopTracks</th>\n",
       "      <th>Genre</th>\n",
       "    </tr>\n",
       "  </thead>\n",
       "  <tbody>\n",
       "    <tr>\n",
       "      <th>Missing percentage</th>\n",
       "      <td>0.0</td>\n",
       "      <td>0.0</td>\n",
       "      <td>0.0</td>\n",
       "      <td>0.0</td>\n",
       "      <td>0.0</td>\n",
       "    </tr>\n",
       "    <tr>\n",
       "      <th>Num diff val</th>\n",
       "      <td>1900</td>\n",
       "      <td>186</td>\n",
       "      <td>1793</td>\n",
       "      <td>1880</td>\n",
       "      <td>10</td>\n",
       "    </tr>\n",
       "    <tr>\n",
       "      <th>Diff val</th>\n",
       "      <td>[P1, P2, P3, P4, P5, P6, P7, P8, P9, P10, P11,...</td>\n",
       "      <td>[Gentle Dreams 🛏️ - An Indie/Chill/Electronic ...</td>\n",
       "      <td>[U1, U22, U32, U43, U54, U63, U70, U81, U89, U...</td>\n",
       "      <td>[['T1', 'T2', 'T3', 'T4', 'T5', 'T6', 'T7', 'T...</td>\n",
       "      <td>[indie, lofi, hiphop, edm, disco, rap, acousti...</td>\n",
       "    </tr>\n",
       "  </tbody>\n",
       "</table>\n",
       "</div>"
      ],
      "text/plain": [
       "                                                                   ID  \\\n",
       "Missing percentage                                                0.0   \n",
       "Num diff val                                                     1900   \n",
       "Diff val            [P1, P2, P3, P4, P5, P6, P7, P8, P9, P10, P11,...   \n",
       "\n",
       "                                                                 Name  \\\n",
       "Missing percentage                                                0.0   \n",
       "Num diff val                                                      186   \n",
       "Diff val            [Gentle Dreams 🛏️ - An Indie/Chill/Electronic ...   \n",
       "\n",
       "                                                               Poster  \\\n",
       "Missing percentage                                                0.0   \n",
       "Num diff val                                                     1793   \n",
       "Diff val            [U1, U22, U32, U43, U54, U63, U70, U81, U89, U...   \n",
       "\n",
       "                                                            TopTracks  \\\n",
       "Missing percentage                                                0.0   \n",
       "Num diff val                                                     1880   \n",
       "Diff val            [['T1', 'T2', 'T3', 'T4', 'T5', 'T6', 'T7', 'T...   \n",
       "\n",
       "                                                                Genre  \n",
       "Missing percentage                                                0.0  \n",
       "Num diff val                                                       10  \n",
       "Diff val            [indie, lofi, hiphop, edm, disco, rap, acousti...  "
      ]
     },
     "execution_count": 34,
     "metadata": {},
     "output_type": "execute_result"
    }
   ],
   "source": [
    "cate_cols = ['ID', 'Name', 'Poster', 'TopTracks', 'Genre']\n",
    "\n",
    "missing_percentages = np.sum(playlists_df[cate_cols].isna()) / num_rows_playlist * 100\n",
    "num_diff_vals = np.array(playlists_df[cate_cols].nunique())\n",
    "diff_vals = np.array(playlists_df[cate_cols].apply(lambda col: col.dropna().unique()))\n",
    "\n",
    "cate_cols_df_playlist = pd.DataFrame(data=np.array([missing_percentages, num_diff_vals, diff_vals]),\n",
    "                                     index=['Missing percentage', 'Num diff val', 'Diff val'], columns=cate_cols)\n",
    "cate_cols_df_playlist"
   ]
  },
  {
   "cell_type": "markdown",
   "metadata": {},
   "source": [
    "### Drop missing value"
   ]
  },
  {
   "cell_type": "code",
   "execution_count": 35,
   "metadata": {},
   "outputs": [
    {
     "data": {
      "text/html": [
       "<div>\n",
       "<style scoped>\n",
       "    .dataframe tbody tr th:only-of-type {\n",
       "        vertical-align: middle;\n",
       "    }\n",
       "\n",
       "    .dataframe tbody tr th {\n",
       "        vertical-align: top;\n",
       "    }\n",
       "\n",
       "    .dataframe thead th {\n",
       "        text-align: right;\n",
       "    }\n",
       "</style>\n",
       "<table border=\"1\" class=\"dataframe\">\n",
       "  <thead>\n",
       "    <tr style=\"text-align: right;\">\n",
       "      <th></th>\n",
       "      <th>ID</th>\n",
       "      <th>Name</th>\n",
       "      <th>Poster</th>\n",
       "      <th>NumTracks</th>\n",
       "      <th>TopTracks</th>\n",
       "      <th>Likes</th>\n",
       "      <th>Reposts</th>\n",
       "      <th>PostedTime</th>\n",
       "      <th>Genre</th>\n",
       "      <th>Length</th>\n",
       "    </tr>\n",
       "  </thead>\n",
       "  <tbody>\n",
       "    <tr>\n",
       "      <th>214</th>\n",
       "      <td>P215</td>\n",
       "      <td>None</td>\n",
       "      <td>U1551</td>\n",
       "      <td>0</td>\n",
       "      <td>[]</td>\n",
       "      <td>0</td>\n",
       "      <td>0</td>\n",
       "      <td>NaT</td>\n",
       "      <td>lofi</td>\n",
       "      <td>NaT</td>\n",
       "    </tr>\n",
       "    <tr>\n",
       "      <th>396</th>\n",
       "      <td>P395</td>\n",
       "      <td>None</td>\n",
       "      <td>U1551</td>\n",
       "      <td>0</td>\n",
       "      <td>[]</td>\n",
       "      <td>0</td>\n",
       "      <td>0</td>\n",
       "      <td>NaT</td>\n",
       "      <td>lofi</td>\n",
       "      <td>NaT</td>\n",
       "    </tr>\n",
       "    <tr>\n",
       "      <th>803</th>\n",
       "      <td>P771</td>\n",
       "      <td>None</td>\n",
       "      <td>U1551</td>\n",
       "      <td>0</td>\n",
       "      <td>[]</td>\n",
       "      <td>0</td>\n",
       "      <td>0</td>\n",
       "      <td>NaT</td>\n",
       "      <td>disco</td>\n",
       "      <td>NaT</td>\n",
       "    </tr>\n",
       "    <tr>\n",
       "      <th>846</th>\n",
       "      <td>P814</td>\n",
       "      <td>None</td>\n",
       "      <td>U1551</td>\n",
       "      <td>0</td>\n",
       "      <td>[]</td>\n",
       "      <td>0</td>\n",
       "      <td>0</td>\n",
       "      <td>NaT</td>\n",
       "      <td>disco</td>\n",
       "      <td>NaT</td>\n",
       "    </tr>\n",
       "    <tr>\n",
       "      <th>912</th>\n",
       "      <td>P880</td>\n",
       "      <td>None</td>\n",
       "      <td>U1551</td>\n",
       "      <td>0</td>\n",
       "      <td>[]</td>\n",
       "      <td>0</td>\n",
       "      <td>0</td>\n",
       "      <td>NaT</td>\n",
       "      <td>disco</td>\n",
       "      <td>NaT</td>\n",
       "    </tr>\n",
       "    <tr>\n",
       "      <th>948</th>\n",
       "      <td>P916</td>\n",
       "      <td>None</td>\n",
       "      <td>U1551</td>\n",
       "      <td>0</td>\n",
       "      <td>[]</td>\n",
       "      <td>0</td>\n",
       "      <td>0</td>\n",
       "      <td>NaT</td>\n",
       "      <td>disco</td>\n",
       "      <td>NaT</td>\n",
       "    </tr>\n",
       "  </tbody>\n",
       "</table>\n",
       "</div>"
      ],
      "text/plain": [
       "       ID  Name Poster  NumTracks TopTracks  Likes  Reposts PostedTime  Genre  \\\n",
       "214  P215  None  U1551          0        []      0        0        NaT   lofi   \n",
       "396  P395  None  U1551          0        []      0        0        NaT   lofi   \n",
       "803  P771  None  U1551          0        []      0        0        NaT  disco   \n",
       "846  P814  None  U1551          0        []      0        0        NaT  disco   \n",
       "912  P880  None  U1551          0        []      0        0        NaT  disco   \n",
       "948  P916  None  U1551          0        []      0        0        NaT  disco   \n",
       "\n",
       "    Length  \n",
       "214    NaT  \n",
       "396    NaT  \n",
       "803    NaT  \n",
       "846    NaT  \n",
       "912    NaT  \n",
       "948    NaT  "
      ]
     },
     "execution_count": 35,
     "metadata": {},
     "output_type": "execute_result"
    }
   ],
   "source": [
    "PostedTime_missing = playlists_df[playlists_df['PostedTime'].isna()]\n",
    "PostedTime_missing"
   ]
  },
  {
   "cell_type": "code",
   "execution_count": 36,
   "metadata": {},
   "outputs": [],
   "source": [
    "playlists_df.drop(PostedTime_missing.index, inplace=True)"
   ]
  },
  {
   "cell_type": "code",
   "execution_count": 37,
   "metadata": {},
   "outputs": [
    {
     "data": {
      "text/html": [
       "<div>\n",
       "<style scoped>\n",
       "    .dataframe tbody tr th:only-of-type {\n",
       "        vertical-align: middle;\n",
       "    }\n",
       "\n",
       "    .dataframe tbody tr th {\n",
       "        vertical-align: top;\n",
       "    }\n",
       "\n",
       "    .dataframe thead th {\n",
       "        text-align: right;\n",
       "    }\n",
       "</style>\n",
       "<table border=\"1\" class=\"dataframe\">\n",
       "  <thead>\n",
       "    <tr style=\"text-align: right;\">\n",
       "      <th></th>\n",
       "      <th>ID</th>\n",
       "      <th>Name</th>\n",
       "      <th>Poster</th>\n",
       "      <th>NumTracks</th>\n",
       "      <th>TopTracks</th>\n",
       "      <th>Likes</th>\n",
       "      <th>Reposts</th>\n",
       "      <th>PostedTime</th>\n",
       "      <th>Genre</th>\n",
       "      <th>Length</th>\n",
       "    </tr>\n",
       "  </thead>\n",
       "  <tbody>\n",
       "    <tr>\n",
       "      <th>1018</th>\n",
       "      <td>P982</td>\n",
       "      <td>rap</td>\n",
       "      <td>U6082</td>\n",
       "      <td>0</td>\n",
       "      <td>[]</td>\n",
       "      <td>2</td>\n",
       "      <td>2</td>\n",
       "      <td>2020-04-23</td>\n",
       "      <td>rap</td>\n",
       "      <td>NaT</td>\n",
       "    </tr>\n",
       "  </tbody>\n",
       "</table>\n",
       "</div>"
      ],
      "text/plain": [
       "        ID Name Poster  NumTracks TopTracks  Likes  Reposts PostedTime Genre  \\\n",
       "1018  P982  rap  U6082          0        []      2        2 2020-04-23   rap   \n",
       "\n",
       "     Length  \n",
       "1018    NaT  "
      ]
     },
     "execution_count": 37,
     "metadata": {},
     "output_type": "execute_result"
    }
   ],
   "source": [
    "Length_missing = playlists_df[playlists_df['Length'].isna()]\n",
    "Length_missing"
   ]
  },
  {
   "cell_type": "code",
   "execution_count": 38,
   "metadata": {},
   "outputs": [],
   "source": [
    "playlists_df.drop(Length_missing.index, inplace=True)"
   ]
  },
  {
   "cell_type": "markdown",
   "metadata": {},
   "source": [
    "Check if NumTracks equals 0 and remove it"
   ]
  },
  {
   "cell_type": "code",
   "execution_count": 39,
   "metadata": {},
   "outputs": [
    {
     "data": {
      "text/html": [
       "<div>\n",
       "<style scoped>\n",
       "    .dataframe tbody tr th:only-of-type {\n",
       "        vertical-align: middle;\n",
       "    }\n",
       "\n",
       "    .dataframe tbody tr th {\n",
       "        vertical-align: top;\n",
       "    }\n",
       "\n",
       "    .dataframe thead th {\n",
       "        text-align: right;\n",
       "    }\n",
       "</style>\n",
       "<table border=\"1\" class=\"dataframe\">\n",
       "  <thead>\n",
       "    <tr style=\"text-align: right;\">\n",
       "      <th></th>\n",
       "      <th>ID</th>\n",
       "      <th>Name</th>\n",
       "      <th>Poster</th>\n",
       "      <th>NumTracks</th>\n",
       "      <th>TopTracks</th>\n",
       "      <th>Likes</th>\n",
       "      <th>Reposts</th>\n",
       "      <th>PostedTime</th>\n",
       "      <th>Genre</th>\n",
       "      <th>Length</th>\n",
       "    </tr>\n",
       "  </thead>\n",
       "  <tbody>\n",
       "  </tbody>\n",
       "</table>\n",
       "</div>"
      ],
      "text/plain": [
       "Empty DataFrame\n",
       "Columns: [ID, Name, Poster, NumTracks, TopTracks, Likes, Reposts, PostedTime, Genre, Length]\n",
       "Index: []"
      ]
     },
     "execution_count": 39,
     "metadata": {},
     "output_type": "execute_result"
    }
   ],
   "source": [
    "playlists_df[playlists_df['NumTracks']==0]"
   ]
  },
  {
   "cell_type": "markdown",
   "metadata": {},
   "source": [
    "Check if length of list of track of a playlist is empty"
   ]
  },
  {
   "cell_type": "code",
   "execution_count": 40,
   "metadata": {},
   "outputs": [
    {
     "data": {
      "text/plain": [
       "0"
      ]
     },
     "execution_count": 40,
     "metadata": {},
     "output_type": "execute_result"
    }
   ],
   "source": [
    "playlists_df['TopTracks'] = playlists_df['TopTracks'].apply(lambda x: re.findall(\"'([a-zA-Z0-9]+)'\", x))\n",
    "sum(playlists_df['TopTracks'].apply(lambda x: len(x)==0))"
   ]
  },
  {
   "cell_type": "code",
   "execution_count": 41,
   "metadata": {},
   "outputs": [
    {
     "name": "stderr",
     "output_type": "stream",
     "text": [
      "/home/minkoi/miniconda3/envs/min_ds-env/lib/python3.8/site-packages/seaborn/_decorators.py:36: FutureWarning: Pass the following variable as a keyword arg: x. From version 0.12, the only valid positional argument will be `data`, and passing other arguments without an explicit keyword will result in an error or misinterpretation.\n",
      "  warnings.warn(\n"
     ]
    },
    {
     "data": {
      "text/plain": [
       "<AxesSubplot:xlabel='NumTracks'>"
      ]
     },
     "execution_count": 41,
     "metadata": {},
     "output_type": "execute_result"
    },
    {
     "data": {
      "image/png": "[encoded data removed]",
      "text/plain": [
       "<Figure size 640x480 with 1 Axes>"
      ]
     },
     "metadata": {},
     "output_type": "display_data"
    }
   ],
   "source": [
    "sns.boxplot(playlists_df['NumTracks'])"
   ]
  },
  {
   "cell_type": "code",
   "execution_count": 42,
   "metadata": {},
   "outputs": [
    {
     "name": "stderr",
     "output_type": "stream",
     "text": [
      "/home/minkoi/miniconda3/envs/min_ds-env/lib/python3.8/site-packages/seaborn/_decorators.py:36: FutureWarning: Pass the following variable as a keyword arg: x. From version 0.12, the only valid positional argument will be `data`, and passing other arguments without an explicit keyword will result in an error or misinterpretation.\n",
      "  warnings.warn(\n"
     ]
    },
    {
     "data": {
      "text/plain": [
       "<AxesSubplot:xlabel='Reposts'>"
      ]
     },
     "execution_count": 42,
     "metadata": {},
     "output_type": "execute_result"
    },
    {
     "data": {
      "image/png": "[encoded data removed]",
      "text/plain": [
       "<Figure size 640x480 with 1 Axes>"
      ]
     },
     "metadata": {},
     "output_type": "display_data"
    }
   ],
   "source": [
    "sns.boxplot(playlists_df['Reposts'])"
   ]
  },
  {
   "cell_type": "markdown",
   "metadata": {},
   "source": [
    "---\n",
    "### **3.1.3. Users**"
   ]
  },
  {
   "cell_type": "markdown",
   "metadata": {},
   "source": [
    "### Load data"
   ]
  },
  {
   "cell_type": "code",
   "execution_count": 43,
   "metadata": {},
   "outputs": [
    {
     "data": {
      "text/html": [
       "<div>\n",
       "<style scoped>\n",
       "    .dataframe tbody tr th:only-of-type {\n",
       "        vertical-align: middle;\n",
       "    }\n",
       "\n",
       "    .dataframe tbody tr th {\n",
       "        vertical-align: top;\n",
       "    }\n",
       "\n",
       "    .dataframe thead th {\n",
       "        text-align: right;\n",
       "    }\n",
       "</style>\n",
       "<table border=\"1\" class=\"dataframe\">\n",
       "  <thead>\n",
       "    <tr style=\"text-align: right;\">\n",
       "      <th></th>\n",
       "      <th>ID</th>\n",
       "      <th>Name</th>\n",
       "      <th>NumFollowers</th>\n",
       "      <th>NumFollowing</th>\n",
       "      <th>NumTracks</th>\n",
       "      <th>Verified</th>\n",
       "      <th>NextPro</th>\n",
       "    </tr>\n",
       "  </thead>\n",
       "  <tbody>\n",
       "    <tr>\n",
       "      <th>0</th>\n",
       "      <td>U1</td>\n",
       "      <td>Kupla</td>\n",
       "      <td>21093</td>\n",
       "      <td>720</td>\n",
       "      <td>95</td>\n",
       "      <td>Verified</td>\n",
       "      <td>Next Pro</td>\n",
       "    </tr>\n",
       "    <tr>\n",
       "      <th>1</th>\n",
       "      <td>U2</td>\n",
       "      <td>Matt</td>\n",
       "      <td>357</td>\n",
       "      <td>0</td>\n",
       "      <td>46</td>\n",
       "      <td>None</td>\n",
       "      <td>None</td>\n",
       "    </tr>\n",
       "    <tr>\n",
       "      <th>2</th>\n",
       "      <td>U3</td>\n",
       "      <td>ZCR WORLD</td>\n",
       "      <td>241</td>\n",
       "      <td>97</td>\n",
       "      <td>12</td>\n",
       "      <td>None</td>\n",
       "      <td>None</td>\n",
       "    </tr>\n",
       "    <tr>\n",
       "      <th>3</th>\n",
       "      <td>U4</td>\n",
       "      <td>Amin Mohammadi</td>\n",
       "      <td>2443</td>\n",
       "      <td>55</td>\n",
       "      <td>23</td>\n",
       "      <td>None</td>\n",
       "      <td>None</td>\n",
       "    </tr>\n",
       "    <tr>\n",
       "      <th>4</th>\n",
       "      <td>U5</td>\n",
       "      <td>Dr'Q</td>\n",
       "      <td>4318</td>\n",
       "      <td>102</td>\n",
       "      <td>21</td>\n",
       "      <td>None</td>\n",
       "      <td>None</td>\n",
       "    </tr>\n",
       "  </tbody>\n",
       "</table>\n",
       "</div>"
      ],
      "text/plain": [
       "   ID            Name NumFollowers NumFollowing NumTracks  Verified   NextPro\n",
       "0  U1       Kupla            21093          720        95  Verified  Next Pro\n",
       "1  U2            Matt          357            0        46      None      None\n",
       "2  U3       ZCR WORLD          241           97        12      None      None\n",
       "3  U4  Amin Mohammadi         2443           55        23      None      None\n",
       "4  U5            Dr'Q         4318          102        21      None      None"
      ]
     },
     "execution_count": 43,
     "metadata": {},
     "output_type": "execute_result"
    }
   ],
   "source": [
    "users_df = pd.read_csv('user.csv')\n",
    "users_df.head()"
   ]
  },
  {
   "cell_type": "markdown",
   "metadata": {},
   "source": [
    "### How many rows and columns does the data have?"
   ]
  },
  {
   "cell_type": "markdown",
   "metadata": {},
   "source": [
    "Get the number of rows and columns of the DataFrame `users_df` and store it in `num_rows_user` and `num_cols_user` variables by counting length of DataFrame and counting columns of DataFrame"
   ]
  },
  {
   "cell_type": "code",
   "execution_count": 44,
   "metadata": {},
   "outputs": [
    {
     "name": "stdout",
     "output_type": "stream",
     "text": [
      "Number of rows: 11589\n",
      "Number of columns: 7\n"
     ]
    }
   ],
   "source": [
    "num_rows_user = len(users_df)\n",
    "num_cols_user = len(users_df.columns)\n",
    "\n",
    "print(\"Number of rows:\", num_rows_user)\n",
    "print(\"Number of columns:\", num_cols_user)"
   ]
  },
  {
   "cell_type": "markdown",
   "metadata": {},
   "source": [
    "There are 11589 of rows, 7 of columns in `users_df`"
   ]
  },
  {
   "cell_type": "markdown",
   "metadata": {},
   "source": [
    "### Does the data have duplicate?"
   ]
  },
  {
   "cell_type": "markdown",
   "metadata": {},
   "source": [
    "Calculate the number of samples are duplicated based on `'ID'` field and store it in the variable `num_duplicated_rows`. In a group of samples, the first sample is not counted as duplicated by using (`keep='first'`). Then count number of duplications if their value are `True`"
   ]
  },
  {
   "cell_type": "code",
   "execution_count": 45,
   "metadata": {},
   "outputs": [
    {
     "name": "stdout",
     "output_type": "stream",
     "text": [
      "Duplicate: 0\n"
     ]
    }
   ],
   "source": [
    "user_duplicate = users_df['ID'].duplicated(keep='first')\n",
    "num_duplicated_rows = np.count_nonzero(user_duplicate==True)\n",
    "\n",
    "print('Duplicate:', num_duplicated_rows)"
   ]
  },
  {
   "cell_type": "markdown",
   "metadata": {},
   "source": [
    "There are 0 duplicates in `users_df`"
   ]
  },
  {
   "cell_type": "markdown",
   "metadata": {},
   "source": [
    "### Check Columns' Datatypes, adjust if needed"
   ]
  },
  {
   "cell_type": "code",
   "execution_count": 46,
   "metadata": {},
   "outputs": [
    {
     "data": {
      "text/plain": [
       "ID              object\n",
       "Name            object\n",
       "NumFollowers     int64\n",
       "NumFollowing     int64\n",
       "NumTracks        int64\n",
       "Verified        object\n",
       "NextPro         object\n",
       "dtype: object"
      ]
     },
     "execution_count": 46,
     "metadata": {},
     "output_type": "execute_result"
    }
   ],
   "source": [
    "users_df['NumFollowing'] = users_df['NumFollowing'].replace('1 person', '1')\n",
    "users_df['NumFollowing'] = users_df['NumFollowing'].apply(lambda col: col.replace(',', ''))\n",
    "\n",
    "users_df[['NumFollowers', 'NumFollowing', 'NumTracks']] = users_df[['NumFollowers', 'NumFollowing', 'NumTracks']].replace('None', '0')\n",
    "users_df[['NumFollowers', 'NumFollowing', 'NumTracks']] = users_df[['NumFollowers', 'NumFollowing', 'NumTracks']].astype(int)\n",
    "\n",
    "users_df.dtypes"
   ]
  },
  {
   "cell_type": "code",
   "execution_count": 47,
   "metadata": {},
   "outputs": [
    {
     "data": {
      "text/plain": [
       "ID              object\n",
       "Name            object\n",
       "NumFollowers     int64\n",
       "NumFollowing     int64\n",
       "NumTracks        int64\n",
       "Verified          bool\n",
       "NextPro         object\n",
       "dtype: object"
      ]
     },
     "execution_count": 47,
     "metadata": {},
     "output_type": "execute_result"
    }
   ],
   "source": [
    "users_df['Verified'] = users_df['Verified'].replace({'Verified':True, 'None':False})\n",
    "\n",
    "users_df.dtypes"
   ]
  },
  {
   "cell_type": "markdown",
   "metadata": {},
   "source": [
    "### Find out distribution of numeric data columns"
   ]
  },
  {
   "cell_type": "code",
   "execution_count": 48,
   "metadata": {},
   "outputs": [
    {
     "data": {
      "text/html": [
       "<div>\n",
       "<style scoped>\n",
       "    .dataframe tbody tr th:only-of-type {\n",
       "        vertical-align: middle;\n",
       "    }\n",
       "\n",
       "    .dataframe tbody tr th {\n",
       "        vertical-align: top;\n",
       "    }\n",
       "\n",
       "    .dataframe thead th {\n",
       "        text-align: right;\n",
       "    }\n",
       "</style>\n",
       "<table border=\"1\" class=\"dataframe\">\n",
       "  <thead>\n",
       "    <tr style=\"text-align: right;\">\n",
       "      <th></th>\n",
       "      <th>NumFollowers</th>\n",
       "      <th>NumFollowing</th>\n",
       "      <th>NumTracks</th>\n",
       "    </tr>\n",
       "  </thead>\n",
       "  <tbody>\n",
       "    <tr>\n",
       "      <th>Missing percentage</th>\n",
       "      <td>0.0</td>\n",
       "      <td>0.0</td>\n",
       "      <td>0.0</td>\n",
       "    </tr>\n",
       "    <tr>\n",
       "      <th>Min</th>\n",
       "      <td>0.0</td>\n",
       "      <td>0.0</td>\n",
       "      <td>0.0</td>\n",
       "    </tr>\n",
       "    <tr>\n",
       "      <th>Median</th>\n",
       "      <td>992.0</td>\n",
       "      <td>18.0</td>\n",
       "      <td>19.0</td>\n",
       "    </tr>\n",
       "    <tr>\n",
       "      <th>Max</th>\n",
       "      <td>10111989.0</td>\n",
       "      <td>2024.0</td>\n",
       "      <td>24393.0</td>\n",
       "    </tr>\n",
       "  </tbody>\n",
       "</table>\n",
       "</div>"
      ],
      "text/plain": [
       "                    NumFollowers  NumFollowing  NumTracks\n",
       "Missing percentage           0.0           0.0        0.0\n",
       "Min                          0.0           0.0        0.0\n",
       "Median                     992.0          18.0       19.0\n",
       "Max                   10111989.0        2024.0    24393.0"
      ]
     },
     "execution_count": 48,
     "metadata": {},
     "output_type": "execute_result"
    }
   ],
   "source": [
    "nume_cols = ['NumFollowers', 'NumFollowing', 'NumTracks']\n",
    "\n",
    "missing_percentages = np.isnan(users_df[nume_cols]).sum() / num_rows_user * 100\n",
    "mins = np.percentile(users_df[nume_cols], 0, axis=0)\n",
    "medians = np.percentile(users_df[nume_cols], 50, axis=0)\n",
    "maxs = np.percentile(users_df[nume_cols], 100, axis=0)\n",
    "\n",
    "nume_cols_df_user = pd.DataFrame(data=np.array([missing_percentages, mins, medians, maxs]),\n",
    "                                 index=['Missing percentage', 'Min', 'Median', 'Max'], columns=nume_cols)\n",
    "nume_cols_df_user"
   ]
  },
  {
   "cell_type": "markdown",
   "metadata": {},
   "source": [
    "### Find out distribution of non-numeric data columns"
   ]
  },
  {
   "cell_type": "code",
   "execution_count": 49,
   "metadata": {},
   "outputs": [
    {
     "data": {
      "text/html": [
       "<div>\n",
       "<style scoped>\n",
       "    .dataframe tbody tr th:only-of-type {\n",
       "        vertical-align: middle;\n",
       "    }\n",
       "\n",
       "    .dataframe tbody tr th {\n",
       "        vertical-align: top;\n",
       "    }\n",
       "\n",
       "    .dataframe thead th {\n",
       "        text-align: right;\n",
       "    }\n",
       "</style>\n",
       "<table border=\"1\" class=\"dataframe\">\n",
       "  <thead>\n",
       "    <tr style=\"text-align: right;\">\n",
       "      <th></th>\n",
       "      <th>ID</th>\n",
       "      <th>Name</th>\n",
       "      <th>Verified</th>\n",
       "      <th>NextPro</th>\n",
       "    </tr>\n",
       "  </thead>\n",
       "  <tbody>\n",
       "    <tr>\n",
       "      <th>Missing percentage</th>\n",
       "      <td>0.0</td>\n",
       "      <td>0.0</td>\n",
       "      <td>0.0</td>\n",
       "      <td>0.0</td>\n",
       "    </tr>\n",
       "    <tr>\n",
       "      <th>Num diff val</th>\n",
       "      <td>11589</td>\n",
       "      <td>11574</td>\n",
       "      <td>2</td>\n",
       "      <td>3</td>\n",
       "    </tr>\n",
       "    <tr>\n",
       "      <th>Diff val</th>\n",
       "      <td>[U1, U2, U3, U4, U5, U6, U7, U8, U9, U10, U11,...</td>\n",
       "      <td>[Kupla    , Matt, ZCR WORLD, Amin Mohammadi, D...</td>\n",
       "      <td>[True, False]</td>\n",
       "      <td>[Next Pro, None, Pro]</td>\n",
       "    </tr>\n",
       "  </tbody>\n",
       "</table>\n",
       "</div>"
      ],
      "text/plain": [
       "                                                                   ID  \\\n",
       "Missing percentage                                                0.0   \n",
       "Num diff val                                                    11589   \n",
       "Diff val            [U1, U2, U3, U4, U5, U6, U7, U8, U9, U10, U11,...   \n",
       "\n",
       "                                                                 Name  \\\n",
       "Missing percentage                                                0.0   \n",
       "Num diff val                                                    11574   \n",
       "Diff val            [Kupla    , Matt, ZCR WORLD, Amin Mohammadi, D...   \n",
       "\n",
       "                         Verified                NextPro  \n",
       "Missing percentage            0.0                    0.0  \n",
       "Num diff val                    2                      3  \n",
       "Diff val            [True, False]  [Next Pro, None, Pro]  "
      ]
     },
     "execution_count": 49,
     "metadata": {},
     "output_type": "execute_result"
    }
   ],
   "source": [
    "cate_cols = ['ID', 'Name', 'Verified', 'NextPro']\n",
    "\n",
    "missing_percentages = np.sum(users_df[cate_cols].isna()) / num_rows_user * 100\n",
    "num_diff_vals = np.array(users_df[cate_cols].nunique())\n",
    "diff_vals = np.array(users_df[cate_cols].apply(lambda col: col.dropna().unique()))\n",
    "\n",
    "cate_cols_df_user = pd.DataFrame(data=np.array([missing_percentages, num_diff_vals, diff_vals]),\n",
    "                                 index=['Missing percentage', 'Num diff val', 'Diff val'], columns=cate_cols)\n",
    "cate_cols_df_user"
   ]
  },
  {
   "cell_type": "markdown",
   "metadata": {},
   "source": [
    "### Remove rows containing missing values if available"
   ]
  },
  {
   "cell_type": "markdown",
   "metadata": {},
   "source": [
    "Missing percentage of all field is 0 so we can skip this step"
   ]
  },
  {
   "cell_type": "code",
   "execution_count": 50,
   "metadata": {},
   "outputs": [
    {
     "name": "stderr",
     "output_type": "stream",
     "text": [
      "/home/minkoi/miniconda3/envs/min_ds-env/lib/python3.8/site-packages/seaborn/_decorators.py:36: FutureWarning: Pass the following variable as a keyword arg: x. From version 0.12, the only valid positional argument will be `data`, and passing other arguments without an explicit keyword will result in an error or misinterpretation.\n",
      "  warnings.warn(\n"
     ]
    },
    {
     "data": {
      "text/plain": [
       "<AxesSubplot:xlabel='NumFollowing'>"
      ]
     },
     "execution_count": 50,
     "metadata": {},
     "output_type": "execute_result"
    },
    {
     "data": {
      "image/png": "[encoded data removed]",
      "text/plain": [
       "<Figure size 640x480 with 1 Axes>"
      ]
     },
     "metadata": {},
     "output_type": "display_data"
    }
   ],
   "source": [
    "sns.boxplot(users_df['NumFollowing'])"
   ]
  },
  {
   "cell_type": "code",
   "execution_count": 51,
   "metadata": {},
   "outputs": [
    {
     "name": "stderr",
     "output_type": "stream",
     "text": [
      "/home/minkoi/miniconda3/envs/min_ds-env/lib/python3.8/site-packages/seaborn/_decorators.py:36: FutureWarning: Pass the following variable as a keyword arg: x. From version 0.12, the only valid positional argument will be `data`, and passing other arguments without an explicit keyword will result in an error or misinterpretation.\n",
      "  warnings.warn(\n"
     ]
    },
    {
     "data": {
      "text/plain": [
       "<AxesSubplot:xlabel='NumFollowers'>"
      ]
     },
     "execution_count": 51,
     "metadata": {},
     "output_type": "execute_result"
    },
    {
     "data": {
      "image/png": "[encoded data removed]",
      "text/plain": [
       "<Figure size 640x480 with 1 Axes>"
      ]
     },
     "metadata": {},
     "output_type": "display_data"
    }
   ],
   "source": [
    "sns.boxplot(users_df['NumFollowers'])"
   ]
  },
  {
   "cell_type": "code",
   "execution_count": 52,
   "metadata": {},
   "outputs": [
    {
     "name": "stderr",
     "output_type": "stream",
     "text": [
      "/home/minkoi/miniconda3/envs/min_ds-env/lib/python3.8/site-packages/seaborn/_decorators.py:36: FutureWarning: Pass the following variable as a keyword arg: x. From version 0.12, the only valid positional argument will be `data`, and passing other arguments without an explicit keyword will result in an error or misinterpretation.\n",
      "  warnings.warn(\n"
     ]
    },
    {
     "data": {
      "text/plain": [
       "<AxesSubplot:xlabel='NumTracks'>"
      ]
     },
     "execution_count": 52,
     "metadata": {},
     "output_type": "execute_result"
    },
    {
     "data": {
      "image/png": "[encoded data removed]",
      "text/plain": [
       "<Figure size 640x480 with 1 Axes>"
      ]
     },
     "metadata": {},
     "output_type": "display_data"
    }
   ],
   "source": [
    "sns.boxplot(users_df['NumTracks'])"
   ]
  },
  {
   "cell_type": "markdown",
   "metadata": {},
   "source": [
    "***Comment:*** We can see that there are outliers, but since it can tell us something about the other field in the rows, we won't delete it until the query is about \"NumFollowers,\" \"NumFollowing,\" or something similar."
   ]
  },
  {
   "cell_type": "markdown",
   "metadata": {},
   "source": [
    "---\n",
    "## **3.2. Making Question**"
   ]
  },
  {
   "cell_type": "markdown",
   "metadata": {},
   "source": [
    "### **Question 1**"
   ]
  },
  {
   "cell_type": "markdown",
   "metadata": {},
   "source": [
    "***What is the ratio between the \"verified users\" and \"None verified users\" ?***"
   ]
  },
  {
   "cell_type": "markdown",
   "metadata": {},
   "source": [
    "1. Calculate the ratio of verified users and None verified users to show that the most/ the least kind of user in soundcloud in recent years\n",
    "\n",
    "2. Draw a pie chart to show the ratio"
   ]
  },
  {
   "cell_type": "markdown",
   "metadata": {},
   "source": [
    "### Preprocessing"
   ]
  },
  {
   "cell_type": "markdown",
   "metadata": {},
   "source": [
    "No need to preprocess"
   ]
  },
  {
   "cell_type": "markdown",
   "metadata": {},
   "source": [
    "### Data Analysis"
   ]
  },
  {
   "cell_type": "code",
   "execution_count": 53,
   "metadata": {},
   "outputs": [],
   "source": [
    "verified_user_df = users_df.loc[users_df['Verified'] == True]\n",
    "\n",
    "verified_user_ratio = len(verified_user_df) / len(users_df) \n",
    "none_verified_user_ratio = 1 - verified_user_ratio"
   ]
  },
  {
   "cell_type": "markdown",
   "metadata": {},
   "source": [
    "### Data Visualization"
   ]
  },
  {
   "cell_type": "code",
   "execution_count": 54,
   "metadata": {},
   "outputs": [
    {
     "data": {
      "image/png": "[encoded data removed]",
      "text/plain": [
       "<Figure size 640x480 with 1 Axes>"
      ]
     },
     "metadata": {},
     "output_type": "display_data"
    }
   ],
   "source": [
    "# Pie chart, where the slices will be ordered and plotted counter-clockwise:\n",
    "mylabels = ['Verified', 'None Verified']\n",
    "sizes = [verified_user_ratio * 100, none_verified_user_ratio * 100]\n",
    "\n",
    "fig1, ax1 = plt.subplots()\n",
    "ax1.pie(sizes, autopct='%.2f%%', startangle=90)\n",
    "ax1.axis('equal')\n",
    "plt.legend(title = \"User\", bbox_to_anchor=(0.85, 1), loc='upper left', labels=mylabels)\n",
    "\n",
    "plt.show()"
   ]
  },
  {
   "cell_type": "markdown",
   "metadata": {},
   "source": [
    "### Answer"
   ]
  },
  {
   "cell_type": "markdown",
   "metadata": {},
   "source": [
    "None verified users make up the majority (approximately 83.95%) of users. Verified users are less than (approximately 16.05%).\n",
    "- It shows that the imbalance between two kinds of user. \n",
    "- A large of people just like to hear music and post music on soundcloud for personal entertainment purposes or contribute their products to the community. In my opinion, maybe they do not want to be famous or well-known creators"
   ]
  },
  {
   "cell_type": "markdown",
   "metadata": {},
   "source": [
    "---\n",
    "### **Question 2**"
   ]
  },
  {
   "cell_type": "markdown",
   "metadata": {},
   "source": [
    "***Does those users who are verified have more followers than those ones who are not?***"
   ]
  },
  {
   "cell_type": "markdown",
   "metadata": {},
   "source": [
    "### Preprocessing"
   ]
  },
  {
   "cell_type": "code",
   "execution_count": 55,
   "metadata": {},
   "outputs": [],
   "source": [
    "verified = users_df[users_df['Verified'] == True]\n",
    "non_verified = users_df[users_df['Verified'] == False]"
   ]
  },
  {
   "cell_type": "code",
   "execution_count": 56,
   "metadata": {},
   "outputs": [
    {
     "data": {
      "text/html": [
       "<div>\n",
       "<style scoped>\n",
       "    .dataframe tbody tr th:only-of-type {\n",
       "        vertical-align: middle;\n",
       "    }\n",
       "\n",
       "    .dataframe tbody tr th {\n",
       "        vertical-align: top;\n",
       "    }\n",
       "\n",
       "    .dataframe thead th {\n",
       "        text-align: right;\n",
       "    }\n",
       "</style>\n",
       "<table border=\"1\" class=\"dataframe\">\n",
       "  <thead>\n",
       "    <tr style=\"text-align: right;\">\n",
       "      <th></th>\n",
       "      <th>ID</th>\n",
       "      <th>Name</th>\n",
       "      <th>NumFollowers</th>\n",
       "      <th>NumFollowing</th>\n",
       "      <th>NumTracks</th>\n",
       "      <th>Verified</th>\n",
       "      <th>NextPro</th>\n",
       "    </tr>\n",
       "  </thead>\n",
       "  <tbody>\n",
       "    <tr>\n",
       "      <th>0</th>\n",
       "      <td>U1</td>\n",
       "      <td>Kupla</td>\n",
       "      <td>21093</td>\n",
       "      <td>720</td>\n",
       "      <td>95</td>\n",
       "      <td>True</td>\n",
       "      <td>Next Pro</td>\n",
       "    </tr>\n",
       "    <tr>\n",
       "      <th>12</th>\n",
       "      <td>U13</td>\n",
       "      <td>Dead Oceans</td>\n",
       "      <td>123394</td>\n",
       "      <td>20</td>\n",
       "      <td>233</td>\n",
       "      <td>True</td>\n",
       "      <td>Next Pro</td>\n",
       "    </tr>\n",
       "    <tr>\n",
       "      <th>20</th>\n",
       "      <td>U21</td>\n",
       "      <td>Fatboy Slim</td>\n",
       "      <td>307312</td>\n",
       "      <td>3</td>\n",
       "      <td>571</td>\n",
       "      <td>True</td>\n",
       "      <td>None</td>\n",
       "    </tr>\n",
       "    <tr>\n",
       "      <th>21</th>\n",
       "      <td>U22</td>\n",
       "      <td>Patrick  Baker</td>\n",
       "      <td>9890</td>\n",
       "      <td>663</td>\n",
       "      <td>56</td>\n",
       "      <td>True</td>\n",
       "      <td>Pro</td>\n",
       "    </tr>\n",
       "    <tr>\n",
       "      <th>23</th>\n",
       "      <td>U24</td>\n",
       "      <td>Murda Beatz</td>\n",
       "      <td>147799</td>\n",
       "      <td>0</td>\n",
       "      <td>116</td>\n",
       "      <td>True</td>\n",
       "      <td>None</td>\n",
       "    </tr>\n",
       "    <tr>\n",
       "      <th>...</th>\n",
       "      <td>...</td>\n",
       "      <td>...</td>\n",
       "      <td>...</td>\n",
       "      <td>...</td>\n",
       "      <td>...</td>\n",
       "      <td>...</td>\n",
       "      <td>...</td>\n",
       "    </tr>\n",
       "    <tr>\n",
       "      <th>11533</th>\n",
       "      <td>U11534</td>\n",
       "      <td>SOURCE</td>\n",
       "      <td>46023</td>\n",
       "      <td>7</td>\n",
       "      <td>213</td>\n",
       "      <td>True</td>\n",
       "      <td>None</td>\n",
       "    </tr>\n",
       "    <tr>\n",
       "      <th>11547</th>\n",
       "      <td>U11548</td>\n",
       "      <td>quickly, quickly</td>\n",
       "      <td>56407</td>\n",
       "      <td>283</td>\n",
       "      <td>63</td>\n",
       "      <td>True</td>\n",
       "      <td>Pro</td>\n",
       "    </tr>\n",
       "    <tr>\n",
       "      <th>11577</th>\n",
       "      <td>U11578</td>\n",
       "      <td>Thomas Azier</td>\n",
       "      <td>10982</td>\n",
       "      <td>38</td>\n",
       "      <td>91</td>\n",
       "      <td>True</td>\n",
       "      <td>None</td>\n",
       "    </tr>\n",
       "    <tr>\n",
       "      <th>11578</th>\n",
       "      <td>U11579</td>\n",
       "      <td>Portugal. The Man</td>\n",
       "      <td>2276562</td>\n",
       "      <td>26</td>\n",
       "      <td>273</td>\n",
       "      <td>True</td>\n",
       "      <td>Next Pro</td>\n",
       "    </tr>\n",
       "    <tr>\n",
       "      <th>11584</th>\n",
       "      <td>U11585</td>\n",
       "      <td>Dada Life</td>\n",
       "      <td>3465379</td>\n",
       "      <td>4</td>\n",
       "      <td>404</td>\n",
       "      <td>True</td>\n",
       "      <td>Next Pro</td>\n",
       "    </tr>\n",
       "  </tbody>\n",
       "</table>\n",
       "<p>2750 rows × 7 columns</p>\n",
       "</div>"
      ],
      "text/plain": [
       "           ID                   Name  NumFollowers  NumFollowing  NumTracks  \\\n",
       "0          U1              Kupla             21093           720         95   \n",
       "12        U13        Dead Oceans            123394            20        233   \n",
       "20        U21        Fatboy Slim            307312             3        571   \n",
       "21        U22     Patrick  Baker              9890           663         56   \n",
       "23        U24        Murda Beatz            147799             0        116   \n",
       "...       ...                    ...           ...           ...        ...   \n",
       "11533  U11534             SOURCE             46023             7        213   \n",
       "11547  U11548   quickly, quickly             56407           283         63   \n",
       "11577  U11578       Thomas Azier             10982            38         91   \n",
       "11578  U11579  Portugal. The Man           2276562            26        273   \n",
       "11584  U11585          Dada Life           3465379             4        404   \n",
       "\n",
       "       Verified   NextPro  \n",
       "0          True  Next Pro  \n",
       "12         True  Next Pro  \n",
       "20         True      None  \n",
       "21         True       Pro  \n",
       "23         True      None  \n",
       "...         ...       ...  \n",
       "11533      True      None  \n",
       "11547      True       Pro  \n",
       "11577      True      None  \n",
       "11578      True  Next Pro  \n",
       "11584      True  Next Pro  \n",
       "\n",
       "[2750 rows x 7 columns]"
      ]
     },
     "execution_count": 56,
     "metadata": {},
     "output_type": "execute_result"
    }
   ],
   "source": [
    "verified"
   ]
  },
  {
   "cell_type": "code",
   "execution_count": 57,
   "metadata": {},
   "outputs": [
    {
     "data": {
      "text/html": [
       "<div>\n",
       "<style scoped>\n",
       "    .dataframe tbody tr th:only-of-type {\n",
       "        vertical-align: middle;\n",
       "    }\n",
       "\n",
       "    .dataframe tbody tr th {\n",
       "        vertical-align: top;\n",
       "    }\n",
       "\n",
       "    .dataframe thead th {\n",
       "        text-align: right;\n",
       "    }\n",
       "</style>\n",
       "<table border=\"1\" class=\"dataframe\">\n",
       "  <thead>\n",
       "    <tr style=\"text-align: right;\">\n",
       "      <th></th>\n",
       "      <th>ID</th>\n",
       "      <th>Name</th>\n",
       "      <th>NumFollowers</th>\n",
       "      <th>NumFollowing</th>\n",
       "      <th>NumTracks</th>\n",
       "      <th>Verified</th>\n",
       "      <th>NextPro</th>\n",
       "    </tr>\n",
       "  </thead>\n",
       "  <tbody>\n",
       "    <tr>\n",
       "      <th>1</th>\n",
       "      <td>U2</td>\n",
       "      <td>Matt</td>\n",
       "      <td>357</td>\n",
       "      <td>0</td>\n",
       "      <td>46</td>\n",
       "      <td>False</td>\n",
       "      <td>None</td>\n",
       "    </tr>\n",
       "    <tr>\n",
       "      <th>2</th>\n",
       "      <td>U3</td>\n",
       "      <td>ZCR WORLD</td>\n",
       "      <td>241</td>\n",
       "      <td>97</td>\n",
       "      <td>12</td>\n",
       "      <td>False</td>\n",
       "      <td>None</td>\n",
       "    </tr>\n",
       "    <tr>\n",
       "      <th>3</th>\n",
       "      <td>U4</td>\n",
       "      <td>Amin Mohammadi</td>\n",
       "      <td>2443</td>\n",
       "      <td>55</td>\n",
       "      <td>23</td>\n",
       "      <td>False</td>\n",
       "      <td>None</td>\n",
       "    </tr>\n",
       "    <tr>\n",
       "      <th>4</th>\n",
       "      <td>U5</td>\n",
       "      <td>Dr'Q</td>\n",
       "      <td>4318</td>\n",
       "      <td>102</td>\n",
       "      <td>21</td>\n",
       "      <td>False</td>\n",
       "      <td>None</td>\n",
       "    </tr>\n",
       "    <tr>\n",
       "      <th>5</th>\n",
       "      <td>U6</td>\n",
       "      <td>DatBoiCoop_</td>\n",
       "      <td>111</td>\n",
       "      <td>27</td>\n",
       "      <td>17</td>\n",
       "      <td>False</td>\n",
       "      <td>None</td>\n",
       "    </tr>\n",
       "    <tr>\n",
       "      <th>...</th>\n",
       "      <td>...</td>\n",
       "      <td>...</td>\n",
       "      <td>...</td>\n",
       "      <td>...</td>\n",
       "      <td>...</td>\n",
       "      <td>...</td>\n",
       "      <td>...</td>\n",
       "    </tr>\n",
       "    <tr>\n",
       "      <th>11583</th>\n",
       "      <td>U11584</td>\n",
       "      <td>KA$HPHON</td>\n",
       "      <td>1679</td>\n",
       "      <td>4</td>\n",
       "      <td>65</td>\n",
       "      <td>False</td>\n",
       "      <td>None</td>\n",
       "    </tr>\n",
       "    <tr>\n",
       "      <th>11585</th>\n",
       "      <td>U11586</td>\n",
       "      <td>SBG Movement 2011</td>\n",
       "      <td>900</td>\n",
       "      <td>0</td>\n",
       "      <td>20</td>\n",
       "      <td>False</td>\n",
       "      <td>None</td>\n",
       "    </tr>\n",
       "    <tr>\n",
       "      <th>11586</th>\n",
       "      <td>U11587</td>\n",
       "      <td>Play It Down</td>\n",
       "      <td>20141</td>\n",
       "      <td>158</td>\n",
       "      <td>234</td>\n",
       "      <td>False</td>\n",
       "      <td>Next Pro</td>\n",
       "    </tr>\n",
       "    <tr>\n",
       "      <th>11587</th>\n",
       "      <td>U11588</td>\n",
       "      <td>Noname</td>\n",
       "      <td>154940</td>\n",
       "      <td>30</td>\n",
       "      <td>24</td>\n",
       "      <td>False</td>\n",
       "      <td>None</td>\n",
       "    </tr>\n",
       "    <tr>\n",
       "      <th>11588</th>\n",
       "      <td>U11589</td>\n",
       "      <td>Casual Connection</td>\n",
       "      <td>35924</td>\n",
       "      <td>217</td>\n",
       "      <td>186</td>\n",
       "      <td>False</td>\n",
       "      <td>Next Pro</td>\n",
       "    </tr>\n",
       "  </tbody>\n",
       "</table>\n",
       "<p>8839 rows × 7 columns</p>\n",
       "</div>"
      ],
      "text/plain": [
       "           ID               Name  NumFollowers  NumFollowing  NumTracks  \\\n",
       "1          U2               Matt           357             0         46   \n",
       "2          U3          ZCR WORLD           241            97         12   \n",
       "3          U4     Amin Mohammadi          2443            55         23   \n",
       "4          U5               Dr'Q          4318           102         21   \n",
       "5          U6        DatBoiCoop_           111            27         17   \n",
       "...       ...                ...           ...           ...        ...   \n",
       "11583  U11584           KA$HPHON          1679             4         65   \n",
       "11585  U11586  SBG Movement 2011           900             0         20   \n",
       "11586  U11587       Play It Down         20141           158        234   \n",
       "11587  U11588             Noname        154940            30         24   \n",
       "11588  U11589  Casual Connection         35924           217        186   \n",
       "\n",
       "       Verified   NextPro  \n",
       "1         False      None  \n",
       "2         False      None  \n",
       "3         False      None  \n",
       "4         False      None  \n",
       "5         False      None  \n",
       "...         ...       ...  \n",
       "11583     False      None  \n",
       "11585     False      None  \n",
       "11586     False  Next Pro  \n",
       "11587     False      None  \n",
       "11588     False  Next Pro  \n",
       "\n",
       "[8839 rows x 7 columns]"
      ]
     },
     "execution_count": 57,
     "metadata": {},
     "output_type": "execute_result"
    }
   ],
   "source": [
    "non_verified"
   ]
  },
  {
   "cell_type": "markdown",
   "metadata": {},
   "source": [
    "### Data Analysis"
   ]
  },
  {
   "cell_type": "code",
   "execution_count": 58,
   "metadata": {},
   "outputs": [
    {
     "name": "stdout",
     "output_type": "stream",
     "text": [
      "19357.75\n",
      "52766.0\n",
      "174812.5\n"
     ]
    }
   ],
   "source": [
    "q1_ver = verified['NumFollowers'].quantile(0.25)\n",
    "q2_ver = verified['NumFollowers'].quantile(0.5)\n",
    "q3_ver = verified['NumFollowers'].quantile(0.75)\n",
    "print(q1_ver)\n",
    "print(q2_ver)\n",
    "print(q3_ver)"
   ]
  },
  {
   "cell_type": "code",
   "execution_count": 59,
   "metadata": {},
   "outputs": [
    {
     "name": "stdout",
     "output_type": "stream",
     "text": [
      "688\n",
      "687\n",
      "687\n",
      "688\n"
     ]
    }
   ],
   "source": [
    "print(len(verified[verified['NumFollowers'] < q1_ver]))\n",
    "print(len(verified[(verified['NumFollowers'] >= q1_ver) & (verified['NumFollowers'] < q2_ver)]))\n",
    "print(len(verified[(verified['NumFollowers'] >= q2_ver) & (verified['NumFollowers'] < q3_ver)]))\n",
    "print(len(verified[verified['NumFollowers'] >= q3_ver]))"
   ]
  },
  {
   "cell_type": "code",
   "execution_count": 60,
   "metadata": {},
   "outputs": [
    {
     "name": "stdout",
     "output_type": "stream",
     "text": [
      "49.0\n",
      "356.0\n",
      "2101.5\n"
     ]
    }
   ],
   "source": [
    "q1_nonver = non_verified['NumFollowers'].quantile(0.25)\n",
    "q2_nonver = non_verified['NumFollowers'].quantile(0.5)\n",
    "q3_nonver = non_verified['NumFollowers'].quantile(0.75)\n",
    "print(q1_nonver)\n",
    "print(q2_nonver)\n",
    "print(q3_nonver)"
   ]
  },
  {
   "cell_type": "code",
   "execution_count": 61,
   "metadata": {},
   "outputs": [
    {
     "name": "stdout",
     "output_type": "stream",
     "text": [
      "2193\n",
      "2223\n",
      "2213\n",
      "2210\n"
     ]
    }
   ],
   "source": [
    "print(len(non_verified[non_verified['NumFollowers'] < q1_nonver]))\n",
    "print(len(non_verified[(non_verified['NumFollowers'] >= q1_nonver) & (non_verified['NumFollowers'] < q2_nonver)]))\n",
    "print(len(non_verified[(non_verified['NumFollowers'] >= q2_nonver) & (non_verified['NumFollowers'] < q3_nonver)]))\n",
    "print(len(non_verified[non_verified['NumFollowers'] >= q3_nonver]))"
   ]
  },
  {
   "cell_type": "code",
   "execution_count": 62,
   "metadata": {},
   "outputs": [
    {
     "name": "stdout",
     "output_type": "stream",
     "text": [
      "10111989\n",
      "2883793\n"
     ]
    }
   ],
   "source": [
    "print(verified['NumFollowers'].max())\n",
    "print(non_verified['NumFollowers'].max())"
   ]
  },
  {
   "cell_type": "code",
   "execution_count": 63,
   "metadata": {},
   "outputs": [
    {
     "name": "stdout",
     "output_type": "stream",
     "text": [
      "[715, 473, 276, 184, 143, 82, 78, 71, 54, 51, 623]\n",
      "[8553, 158, 47, 28, 16, 8, 5, 4, 3, 3, 14]\n"
     ]
    }
   ],
   "source": [
    "cols = ['[0,20k)', '[20k, 40k)', '[40k, 60k)', '[60k, 80k)', '[80k, 100k)', '[100k, 120k)',\\\n",
    "        '[120k, 140k)', '[140k, 160k)', '[160k, 180k)', '[180k, 200k)', '[200k, 11m)']\n",
    "bins = [0, 20000, 40000, 60000, 80000, 100000, 120000, 140000, 160000, 180000, 200000, 11000000]\n",
    "count_ver = []\n",
    "count_nonver = []\n",
    "\n",
    "for i in range(len(bins) - 1):\n",
    "    count_ver.append(verified[(verified['NumFollowers'] >= bins[i]) & (verified['NumFollowers'] < bins[i+1])].shape[0])\n",
    "    count_nonver.append(non_verified[(non_verified['NumFollowers'] >= bins[i]) & \\\n",
    "                                     (non_verified['NumFollowers'] < bins[i+1])].shape[0])\n",
    "\n",
    "print(count_ver)\n",
    "print(count_nonver)"
   ]
  },
  {
   "cell_type": "code",
   "execution_count": 64,
   "metadata": {},
   "outputs": [
    {
     "name": "stdout",
     "output_type": "stream",
     "text": [
      "345873.0\n",
      "4211.0\n"
     ]
    }
   ],
   "source": [
    "avg_verified_followers = verified['NumFollowers'].sum() / len(verified['NumFollowers'])\n",
    "avg_nonverified_followers = non_verified['NumFollowers'].sum() / len(non_verified['NumFollowers'])\n",
    "print(avg_verified_followers.round(0))\n",
    "print(avg_nonverified_followers.round(0))"
   ]
  },
  {
   "cell_type": "markdown",
   "metadata": {},
   "source": [
    "### Data Visualization"
   ]
  },
  {
   "cell_type": "markdown",
   "metadata": {},
   "source": [
    "*Compare number of followers of two user groups*"
   ]
  },
  {
   "cell_type": "code",
   "execution_count": 65,
   "metadata": {},
   "outputs": [
    {
     "data": {
      "image/png": "[encoded data removed]",
      "text/plain": [
       "<Figure size 2000x1000 with 1 Axes>"
      ]
     },
     "metadata": {},
     "output_type": "display_data"
    }
   ],
   "source": [
    "fig = plt.figure(figsize=(20, 10))\n",
    "\n",
    "x_axis = np.arange(len(cols))\n",
    "\n",
    "plt.bar(x_axis - 0.2, count_nonver, 0.4, label = 'Non-verified', color = 'green')\n",
    "plt.bar(x_axis + 0.2, count_ver, 0.4, label = 'Verified', color = 'blue')\n",
    "\n",
    "plt.xticks(x_axis, cols)\n",
    "plt.xlabel('Groups of Follower Numbers')\n",
    "plt.ylabel('Users')\n",
    "plt.title('Number of Users of different Follower Ranges')\n",
    "plt.legend()\n",
    "plt.show()"
   ]
  },
  {
   "cell_type": "markdown",
   "metadata": {},
   "source": [
    "### Answer"
   ]
  },
  {
   "cell_type": "markdown",
   "metadata": {},
   "source": [
    "As what can be seen from the chart, considering 2750 Verified Users and 8839 Non-verified Users, the number of Non-verified Users belonging to group from 0 to 20000 followers stands at around 8500, when the figures for the remaining groups are only below 200 users. Meanwhile, the number of Verified Users decreases from around 700 (Group from 0 to 20000 followers) to just above 50 users for group from 180000 to 200000 followers. However, there are upto more than 600 users belonging to group from 200000 to 11 million users. Moreover, the average number of followers of Verified Users is significantly greater than the figure for Non-verified Users, 345873 followers compared to 4211 followers. To summerize, it can be concluded that those users who are verified will have more followers than those ones who are not."
   ]
  },
  {
   "cell_type": "markdown",
   "metadata": {},
   "source": [
    "---\n",
    "### **Question 3**"
   ]
  },
  {
   "cell_type": "markdown",
   "metadata": {},
   "source": [
    "***Find out popular songs posted in the last 5 years***"
   ]
  },
  {
   "cell_type": "markdown",
   "metadata": {},
   "source": [
    "- Data: track.csv\n",
    "- Idea: To display top 10 popular songs of each year in the last 5 years first we need to get the corresponding data set which means get columns Name, Plays, Likes, Reposts, PostedTime and Year. Year is not in the original data set but is added by interpolating from the PostedTime. Next we will classify tracks to corresponding year (2018 to 2022) base on its name and number of plays. After that, sorting tracks by its number of plays descending so we can get top 10 tracks with the most played time. Finally, display top 10 popular songs of each year in the last 5 years."
   ]
  },
  {
   "cell_type": "markdown",
   "metadata": {},
   "source": [
    "### Preprocessing"
   ]
  },
  {
   "cell_type": "code",
   "execution_count": 66,
   "metadata": {},
   "outputs": [],
   "source": [
    "popular_tracks = tracks_df[['Name', 'Plays', 'Likes', 'Reposts', 'PostedTime']].dropna()\n",
    "popular_tracks['Year'] = popular_tracks['PostedTime'].dt.year\n",
    "index_order = range(0, len(popular_tracks))\n",
    "popular_tracks = pd.DataFrame(popular_tracks, index = index_order)"
   ]
  },
  {
   "cell_type": "markdown",
   "metadata": {},
   "source": [
    "### Data Analysis"
   ]
  },
  {
   "cell_type": "code",
   "execution_count": 67,
   "metadata": {},
   "outputs": [],
   "source": [
    "# list store top 10 tracks of each year based on number of plays\n",
    "latest_5_years = [{}, {}, {}, {}, {}]\n",
    "for i in range(len(popular_tracks)):\n",
    "    if popular_tracks['Year'][i] == 2018:\n",
    "        latest_5_years[0][popular_tracks['Name'][i]] = popular_tracks['Plays'][i]\n",
    "    elif popular_tracks['Year'][i] == 2019:\n",
    "        latest_5_years[1][popular_tracks['Name'][i]] = popular_tracks['Plays'][i]\n",
    "    elif popular_tracks['Year'][i] == 2020:\n",
    "        latest_5_years[2][popular_tracks['Name'][i]] = popular_tracks['Plays'][i]\n",
    "    elif popular_tracks['Year'][i] == 2021:\n",
    "        latest_5_years[3][popular_tracks['Name'][i]] = popular_tracks['Plays'][i]\n",
    "    elif popular_tracks['Year'][i] == 2022:\n",
    "        latest_5_years[4][popular_tracks['Name'][i]] = popular_tracks['Plays'][i]\n",
    "# sorting dictionary to get most played tracks\n",
    "# get top 10 tracks\n",
    "for i in range(len(latest_5_years)):\n",
    "    latest_5_years[i] = dict(sorted(latest_5_years[i].items(), key=lambda item: item[1], reverse = True))\n",
    "    latest_5_years[i] = list(latest_5_years[i].keys())[0: 10]"
   ]
  },
  {
   "cell_type": "markdown",
   "metadata": {},
   "source": [
    "### Data Visualization"
   ]
  },
  {
   "cell_type": "code",
   "execution_count": 68,
   "metadata": {},
   "outputs": [
    {
     "data": {
      "text/html": [
       "<div>\n",
       "<style scoped>\n",
       "    .dataframe tbody tr th:only-of-type {\n",
       "        vertical-align: middle;\n",
       "    }\n",
       "\n",
       "    .dataframe tbody tr th {\n",
       "        vertical-align: top;\n",
       "    }\n",
       "\n",
       "    .dataframe thead th {\n",
       "        text-align: right;\n",
       "    }\n",
       "</style>\n",
       "<table border=\"1\" class=\"dataframe\">\n",
       "  <thead>\n",
       "    <tr style=\"text-align: right;\">\n",
       "      <th></th>\n",
       "      <th>2018</th>\n",
       "      <th>2019</th>\n",
       "      <th>2020</th>\n",
       "      <th>2021</th>\n",
       "      <th>2022</th>\n",
       "    </tr>\n",
       "  </thead>\n",
       "  <tbody>\n",
       "    <tr>\n",
       "      <th>Top 1</th>\n",
       "      <td>약속 By JIMIN Of BTS</td>\n",
       "      <td>Robbery</td>\n",
       "      <td>Future - March Madness</td>\n",
       "      <td>Calling My Phone (feat. 6lack)</td>\n",
       "      <td>NLE Choppa - Capo</td>\n",
       "    </tr>\n",
       "    <tr>\n",
       "      <th>Top 2</th>\n",
       "      <td>Lucid Dreams</td>\n",
       "      <td>Lil Tecca - Ransom</td>\n",
       "      <td>NLE Choppa - Camelot</td>\n",
       "      <td>Monëy so big</td>\n",
       "      <td>Future feat. Drake &amp; Tems - WAIT FOR U</td>\n",
       "    </tr>\n",
       "    <tr>\n",
       "      <th>Top 3</th>\n",
       "      <td>Lil Baby, Gunna - Drip Too Hard</td>\n",
       "      <td>Polo G feat. Lil TJay - Pop Out</td>\n",
       "      <td>Wishing Well</td>\n",
       "      <td>كليب انا بعشقني اوي يابا  عصام صاصا الكروان - ...</td>\n",
       "      <td>Future - PUFFIN ON ZOOTIEZ</td>\n",
       "    </tr>\n",
       "    <tr>\n",
       "      <th>Top 4</th>\n",
       "      <td>Post Malone - rockstar (feat. 21 Savage)</td>\n",
       "      <td>Ballin' (with Roddy Ricch)</td>\n",
       "      <td>Lemonade Ft. Don Toliver, Gunna &amp; NAV</td>\n",
       "      <td>By Your Side</td>\n",
       "      <td>Hide &amp; Seek</td>\n",
       "    </tr>\n",
       "    <tr>\n",
       "      <th>Top 5</th>\n",
       "      <td>Envy Me</td>\n",
       "      <td>DaBaby - Suge</td>\n",
       "      <td>Future - Purple Reign</td>\n",
       "      <td>Astronaut In The Ocean</td>\n",
       "      <td>POLAND - LIL YACHTY(PROD. F1LTHY)</td>\n",
       "    </tr>\n",
       "    <tr>\n",
       "      <th>Top 6</th>\n",
       "      <td>F.N</td>\n",
       "      <td>MIDDLE CHILD</td>\n",
       "      <td>Future - Perkys Calling</td>\n",
       "      <td>مهرجان وسط دموع وجراح ( ع الواتس الف رساله مبع...</td>\n",
       "      <td>Waddup (feat. Polo G)</td>\n",
       "    </tr>\n",
       "    <tr>\n",
       "      <th>Top 7</th>\n",
       "      <td>I Kill People! ft Tadoe &amp; Chief Keef [Produced...</td>\n",
       "      <td>Pop Smoke - Dior</td>\n",
       "      <td>Pop Smoke - Element</td>\n",
       "      <td>Already Dead</td>\n",
       "      <td>YoungBoy Never Broke Again - Bring The Hook</td>\n",
       "    </tr>\n",
       "    <tr>\n",
       "      <th>Top 8</th>\n",
       "      <td>ZEZE (feat. Travis Scott &amp; Offset)</td>\n",
       "      <td>23 Island</td>\n",
       "      <td>Drake - Laugh Now Cry Later (feat. Lil Durk)</td>\n",
       "      <td>Drake - Girls Want Girls (feat. Lil Baby)</td>\n",
       "      <td>Polo G - Distraction</td>\n",
       "    </tr>\n",
       "    <tr>\n",
       "      <th>Top 9</th>\n",
       "      <td>Lean Wit Me</td>\n",
       "      <td>Empty</td>\n",
       "      <td>Future - All Right</td>\n",
       "      <td>Burn</td>\n",
       "      <td>BILLIE EILISH.</td>\n",
       "    </tr>\n",
       "    <tr>\n",
       "      <th>Top10</th>\n",
       "      <td>YoungBoy Never Broke Again - Outside Today</td>\n",
       "      <td>Taki Taki (feat. Selena Gomez, Ozuna &amp; Cardi B)</td>\n",
       "      <td>Come &amp; Go Ft. Marshmello</td>\n",
       "      <td>مهرجان ايوا احتليت كوكب كونتر ( ملك الموت جي ب...</td>\n",
       "      <td>FOR FUN Prod. By BEATSBYJEFF</td>\n",
       "    </tr>\n",
       "  </tbody>\n",
       "</table>\n",
       "</div>"
      ],
      "text/plain": [
       "                                                    2018  \\\n",
       "Top 1                                 약속 By JIMIN Of BTS   \n",
       "Top 2                                       Lucid Dreams   \n",
       "Top 3                    Lil Baby, Gunna - Drip Too Hard   \n",
       "Top 4           Post Malone - rockstar (feat. 21 Savage)   \n",
       "Top 5                                            Envy Me   \n",
       "Top 6                                                F.N   \n",
       "Top 7  I Kill People! ft Tadoe & Chief Keef [Produced...   \n",
       "Top 8                 ZEZE (feat. Travis Scott & Offset)   \n",
       "Top 9                                        Lean Wit Me   \n",
       "Top10         YoungBoy Never Broke Again - Outside Today   \n",
       "\n",
       "                                                  2019  \\\n",
       "Top 1                                          Robbery   \n",
       "Top 2                               Lil Tecca - Ransom   \n",
       "Top 3                  Polo G feat. Lil TJay - Pop Out   \n",
       "Top 4                       Ballin' (with Roddy Ricch)   \n",
       "Top 5                                    DaBaby - Suge   \n",
       "Top 6                                     MIDDLE CHILD   \n",
       "Top 7                                 Pop Smoke - Dior   \n",
       "Top 8                                        23 Island   \n",
       "Top 9                                            Empty   \n",
       "Top10  Taki Taki (feat. Selena Gomez, Ozuna & Cardi B)   \n",
       "\n",
       "                                               2020  \\\n",
       "Top 1                        Future - March Madness   \n",
       "Top 2                          NLE Choppa - Camelot   \n",
       "Top 3                                  Wishing Well   \n",
       "Top 4         Lemonade Ft. Don Toliver, Gunna & NAV   \n",
       "Top 5                         Future - Purple Reign   \n",
       "Top 6                       Future - Perkys Calling   \n",
       "Top 7                           Pop Smoke - Element   \n",
       "Top 8  Drake - Laugh Now Cry Later (feat. Lil Durk)   \n",
       "Top 9                            Future - All Right   \n",
       "Top10                      Come & Go Ft. Marshmello   \n",
       "\n",
       "                                                    2021  \\\n",
       "Top 1                     Calling My Phone (feat. 6lack)   \n",
       "Top 2                                       Monëy so big   \n",
       "Top 3  كليب انا بعشقني اوي يابا  عصام صاصا الكروان - ...   \n",
       "Top 4                                       By Your Side   \n",
       "Top 5                             Astronaut In The Ocean   \n",
       "Top 6  مهرجان وسط دموع وجراح ( ع الواتس الف رساله مبع...   \n",
       "Top 7                                       Already Dead   \n",
       "Top 8          Drake - Girls Want Girls (feat. Lil Baby)   \n",
       "Top 9                                               Burn   \n",
       "Top10  مهرجان ايوا احتليت كوكب كونتر ( ملك الموت جي ب...   \n",
       "\n",
       "                                              2022  \n",
       "Top 1                            NLE Choppa - Capo  \n",
       "Top 2       Future feat. Drake & Tems - WAIT FOR U  \n",
       "Top 3                   Future - PUFFIN ON ZOOTIEZ  \n",
       "Top 4                                  Hide & Seek  \n",
       "Top 5            POLAND - LIL YACHTY(PROD. F1LTHY)  \n",
       "Top 6                        Waddup (feat. Polo G)  \n",
       "Top 7  YoungBoy Never Broke Again - Bring The Hook  \n",
       "Top 8                         Polo G - Distraction  \n",
       "Top 9                               BILLIE EILISH.  \n",
       "Top10                 FOR FUN Prod. By BEATSBYJEFF  "
      ]
     },
     "execution_count": 68,
     "metadata": {},
     "output_type": "execute_result"
    }
   ],
   "source": [
    "# store to DataFrame\n",
    "columns_name = ['2018', '2019', '2020', '2021', '2022']\n",
    "index_names = ['Top 1', 'Top 2','Top 3','Top 4','Top 5','Top 6','Top 7','Top 8','Top 9', 'Top10']\n",
    "data = dict(zip(columns_name, latest_5_years))\n",
    "most_played_tracks_5years = pd.DataFrame(data, index = index_names)\n",
    "most_played_tracks_5years"
   ]
  },
  {
   "cell_type": "markdown",
   "metadata": {},
   "source": [
    "### Answer"
   ]
  },
  {
   "cell_type": "markdown",
   "metadata": {},
   "source": [
    "We know which song is popular base on its number of plays then we can make a popular songs chart and recommend it to users."
   ]
  },
  {
   "cell_type": "markdown",
   "metadata": {},
   "source": [
    "---\n",
    "### **Question 4**"
   ]
  },
  {
   "cell_type": "markdown",
   "metadata": {},
   "source": [
    "***What is the best linear regression model that show correlation between number of plays of a track and its number of likes, reposts and comments?***"
   ]
  },
  {
   "cell_type": "markdown",
   "metadata": {},
   "source": [
    "### Preprocessing"
   ]
  },
  {
   "cell_type": "code",
   "execution_count": 69,
   "metadata": {},
   "outputs": [
    {
     "data": {
      "text/html": [
       "<div>\n",
       "<style scoped>\n",
       "    .dataframe tbody tr th:only-of-type {\n",
       "        vertical-align: middle;\n",
       "    }\n",
       "\n",
       "    .dataframe tbody tr th {\n",
       "        vertical-align: top;\n",
       "    }\n",
       "\n",
       "    .dataframe thead th {\n",
       "        text-align: right;\n",
       "    }\n",
       "</style>\n",
       "<table border=\"1\" class=\"dataframe\">\n",
       "  <thead>\n",
       "    <tr style=\"text-align: right;\">\n",
       "      <th></th>\n",
       "      <th>ID</th>\n",
       "      <th>Name</th>\n",
       "      <th>Poster</th>\n",
       "      <th>Plays</th>\n",
       "      <th>Likes</th>\n",
       "      <th>Reposts</th>\n",
       "      <th>PostedTime</th>\n",
       "      <th>Tags</th>\n",
       "      <th>Length</th>\n",
       "      <th>NumComments</th>\n",
       "    </tr>\n",
       "  </thead>\n",
       "  <tbody>\n",
       "    <tr>\n",
       "      <th>0</th>\n",
       "      <td>T1</td>\n",
       "      <td>Locked Up</td>\n",
       "      <td>U4190</td>\n",
       "      <td>1033050</td>\n",
       "      <td>15590</td>\n",
       "      <td>421</td>\n",
       "      <td>2005-01-01</td>\n",
       "      <td>R&amp;B</td>\n",
       "      <td>NaT</td>\n",
       "      <td>84</td>\n",
       "    </tr>\n",
       "    <tr>\n",
       "      <th>3</th>\n",
       "      <td>T4</td>\n",
       "      <td>Dabin x Fytch - Altitude</td>\n",
       "      <td>U4868</td>\n",
       "      <td>324493</td>\n",
       "      <td>7536</td>\n",
       "      <td>1018</td>\n",
       "      <td>2018-09-28</td>\n",
       "      <td>Electronic</td>\n",
       "      <td>0 days 00:03:27</td>\n",
       "      <td>85</td>\n",
       "    </tr>\n",
       "    <tr>\n",
       "      <th>4</th>\n",
       "      <td>T5</td>\n",
       "      <td>earned it</td>\n",
       "      <td>U3052</td>\n",
       "      <td>42037</td>\n",
       "      <td>805</td>\n",
       "      <td>71</td>\n",
       "      <td>2018-07-28</td>\n",
       "      <td>Lofi</td>\n",
       "      <td>0 days 00:03:33</td>\n",
       "      <td>11</td>\n",
       "    </tr>\n",
       "    <tr>\n",
       "      <th>5</th>\n",
       "      <td>T6</td>\n",
       "      <td>LOST IN MUSIC (DSD Balearic Mix)</td>\n",
       "      <td>U2800</td>\n",
       "      <td>39261</td>\n",
       "      <td>1440</td>\n",
       "      <td>381</td>\n",
       "      <td>2018-10-30</td>\n",
       "      <td>Disco</td>\n",
       "      <td>0 days 00:07:40</td>\n",
       "      <td>34</td>\n",
       "    </tr>\n",
       "    <tr>\n",
       "      <th>7</th>\n",
       "      <td>T8</td>\n",
       "      <td>Whole Lotta Money - Remix (The Frenchies Remix)</td>\n",
       "      <td>U6648</td>\n",
       "      <td>549036</td>\n",
       "      <td>8054</td>\n",
       "      <td>202</td>\n",
       "      <td>2021-11-03</td>\n",
       "      <td>House</td>\n",
       "      <td>0 days 00:06:41</td>\n",
       "      <td>135</td>\n",
       "    </tr>\n",
       "    <tr>\n",
       "      <th>...</th>\n",
       "      <td>...</td>\n",
       "      <td>...</td>\n",
       "      <td>...</td>\n",
       "      <td>...</td>\n",
       "      <td>...</td>\n",
       "      <td>...</td>\n",
       "      <td>...</td>\n",
       "      <td>...</td>\n",
       "      <td>...</td>\n",
       "      <td>...</td>\n",
       "    </tr>\n",
       "    <tr>\n",
       "      <th>16163</th>\n",
       "      <td>T16164</td>\n",
       "      <td>Monkey Bars - Colors</td>\n",
       "      <td>U3054</td>\n",
       "      <td>107295</td>\n",
       "      <td>1489</td>\n",
       "      <td>91</td>\n",
       "      <td>2014-11-12</td>\n",
       "      <td>None</td>\n",
       "      <td>0 days 00:04:25</td>\n",
       "      <td>4</td>\n",
       "    </tr>\n",
       "    <tr>\n",
       "      <th>16164</th>\n",
       "      <td>T16165</td>\n",
       "      <td>Cold days w/ j'san.</td>\n",
       "      <td>U10551</td>\n",
       "      <td>1067592</td>\n",
       "      <td>8761</td>\n",
       "      <td>497</td>\n",
       "      <td>2017-09-01</td>\n",
       "      <td>None</td>\n",
       "      <td>0 days 00:02:04</td>\n",
       "      <td>83</td>\n",
       "    </tr>\n",
       "    <tr>\n",
       "      <th>16169</th>\n",
       "      <td>T16170</td>\n",
       "      <td>the burn marks on my epiano wont go away</td>\n",
       "      <td>U253</td>\n",
       "      <td>4206783</td>\n",
       "      <td>48393</td>\n",
       "      <td>4353</td>\n",
       "      <td>2016-01-27</td>\n",
       "      <td>None</td>\n",
       "      <td>0 days 00:01:36</td>\n",
       "      <td>1211</td>\n",
       "    </tr>\n",
       "    <tr>\n",
       "      <th>16183</th>\n",
       "      <td>T16184</td>\n",
       "      <td>Rossa-Terlalu Cinta</td>\n",
       "      <td>U1387</td>\n",
       "      <td>1404120</td>\n",
       "      <td>20584</td>\n",
       "      <td>282</td>\n",
       "      <td>2013-12-31</td>\n",
       "      <td>None</td>\n",
       "      <td>0 days 00:04:00</td>\n",
       "      <td>175</td>\n",
       "    </tr>\n",
       "    <tr>\n",
       "      <th>16184</th>\n",
       "      <td>T16185</td>\n",
       "      <td>Hot Nigga - Bobby Shmurda ft. Fabolous, Chris ...</td>\n",
       "      <td>U4635</td>\n",
       "      <td>30059121</td>\n",
       "      <td>391523</td>\n",
       "      <td>17282</td>\n",
       "      <td>2014-09-05</td>\n",
       "      <td>None</td>\n",
       "      <td>0 days 00:05:43</td>\n",
       "      <td>4109</td>\n",
       "    </tr>\n",
       "  </tbody>\n",
       "</table>\n",
       "<p>16190 rows × 10 columns</p>\n",
       "</div>"
      ],
      "text/plain": [
       "           ID                                               Name  Poster  \\\n",
       "0          T1                                          Locked Up   U4190   \n",
       "3          T4                           Dabin x Fytch - Altitude   U4868   \n",
       "4          T5                                          earned it   U3052   \n",
       "5          T6                   LOST IN MUSIC (DSD Balearic Mix)   U2800   \n",
       "7          T8    Whole Lotta Money - Remix (The Frenchies Remix)   U6648   \n",
       "...       ...                                                ...     ...   \n",
       "16163  T16164                               Monkey Bars - Colors   U3054   \n",
       "16164  T16165                                Cold days w/ j'san.  U10551   \n",
       "16169  T16170           the burn marks on my epiano wont go away    U253   \n",
       "16183  T16184                                Rossa-Terlalu Cinta   U1387   \n",
       "16184  T16185  Hot Nigga - Bobby Shmurda ft. Fabolous, Chris ...   U4635   \n",
       "\n",
       "          Plays   Likes  Reposts PostedTime        Tags          Length  \\\n",
       "0       1033050   15590      421 2005-01-01         R&B             NaT   \n",
       "3        324493    7536     1018 2018-09-28  Electronic 0 days 00:03:27   \n",
       "4         42037     805       71 2018-07-28        Lofi 0 days 00:03:33   \n",
       "5         39261    1440      381 2018-10-30       Disco 0 days 00:07:40   \n",
       "7        549036    8054      202 2021-11-03       House 0 days 00:06:41   \n",
       "...         ...     ...      ...        ...         ...             ...   \n",
       "16163    107295    1489       91 2014-11-12        None 0 days 00:04:25   \n",
       "16164   1067592    8761      497 2017-09-01        None 0 days 00:02:04   \n",
       "16169   4206783   48393     4353 2016-01-27        None 0 days 00:01:36   \n",
       "16183   1404120   20584      282 2013-12-31        None 0 days 00:04:00   \n",
       "16184  30059121  391523    17282 2014-09-05        None 0 days 00:05:43   \n",
       "\n",
       "       NumComments  \n",
       "0               84  \n",
       "3               85  \n",
       "4               11  \n",
       "5               34  \n",
       "7              135  \n",
       "...            ...  \n",
       "16163            4  \n",
       "16164           83  \n",
       "16169         1211  \n",
       "16183          175  \n",
       "16184         4109  \n",
       "\n",
       "[16190 rows x 10 columns]"
      ]
     },
     "execution_count": 69,
     "metadata": {},
     "output_type": "execute_result"
    }
   ],
   "source": [
    "tracks_df"
   ]
  },
  {
   "cell_type": "code",
   "execution_count": 70,
   "metadata": {},
   "outputs": [
    {
     "data": {
      "text/html": [
       "<div>\n",
       "<style scoped>\n",
       "    .dataframe tbody tr th:only-of-type {\n",
       "        vertical-align: middle;\n",
       "    }\n",
       "\n",
       "    .dataframe tbody tr th {\n",
       "        vertical-align: top;\n",
       "    }\n",
       "\n",
       "    .dataframe thead th {\n",
       "        text-align: right;\n",
       "    }\n",
       "</style>\n",
       "<table border=\"1\" class=\"dataframe\">\n",
       "  <thead>\n",
       "    <tr style=\"text-align: right;\">\n",
       "      <th></th>\n",
       "      <th>Plays</th>\n",
       "      <th>Likes</th>\n",
       "      <th>Reposts</th>\n",
       "      <th>NumComments</th>\n",
       "    </tr>\n",
       "  </thead>\n",
       "  <tbody>\n",
       "    <tr>\n",
       "      <th>0</th>\n",
       "      <td>1033050</td>\n",
       "      <td>15590</td>\n",
       "      <td>421</td>\n",
       "      <td>84</td>\n",
       "    </tr>\n",
       "    <tr>\n",
       "      <th>3</th>\n",
       "      <td>324493</td>\n",
       "      <td>7536</td>\n",
       "      <td>1018</td>\n",
       "      <td>85</td>\n",
       "    </tr>\n",
       "    <tr>\n",
       "      <th>4</th>\n",
       "      <td>42037</td>\n",
       "      <td>805</td>\n",
       "      <td>71</td>\n",
       "      <td>11</td>\n",
       "    </tr>\n",
       "    <tr>\n",
       "      <th>5</th>\n",
       "      <td>39261</td>\n",
       "      <td>1440</td>\n",
       "      <td>381</td>\n",
       "      <td>34</td>\n",
       "    </tr>\n",
       "    <tr>\n",
       "      <th>7</th>\n",
       "      <td>549036</td>\n",
       "      <td>8054</td>\n",
       "      <td>202</td>\n",
       "      <td>135</td>\n",
       "    </tr>\n",
       "  </tbody>\n",
       "</table>\n",
       "</div>"
      ],
      "text/plain": [
       "     Plays  Likes  Reposts  NumComments\n",
       "0  1033050  15590      421           84\n",
       "3   324493   7536     1018           85\n",
       "4    42037    805       71           11\n",
       "5    39261   1440      381           34\n",
       "7   549036   8054      202          135"
      ]
     },
     "execution_count": 70,
     "metadata": {},
     "output_type": "execute_result"
    }
   ],
   "source": [
    "lr_df = pd.concat((tracks_df[['Plays', 'Likes', 'Reposts']], tracks_df['NumComments']), axis = 1)\n",
    "lr_df.head()"
   ]
  },
  {
   "cell_type": "code",
   "execution_count": 71,
   "metadata": {},
   "outputs": [],
   "source": [
    "x = lr_df.drop(['Plays'], axis = 1).values\n",
    "y = lr_df['Plays'].values"
   ]
  },
  {
   "cell_type": "markdown",
   "metadata": {},
   "source": [
    "### Data Analysis"
   ]
  },
  {
   "cell_type": "code",
   "execution_count": 72,
   "metadata": {},
   "outputs": [],
   "source": [
    "# Split initial datasets into train and test datasets\n",
    "x_train, x_test, y_train, y_test = train_test_split(x, y, test_size=0.3, random_state=0)"
   ]
  },
  {
   "cell_type": "code",
   "execution_count": 73,
   "metadata": {},
   "outputs": [
    {
     "data": {
      "text/plain": [
       "LinearRegression()"
      ]
     },
     "execution_count": 73,
     "metadata": {},
     "output_type": "execute_result"
    }
   ],
   "source": [
    "lr = LinearRegression()\n",
    "lr.fit(x_train, y_train)"
   ]
  },
  {
   "cell_type": "code",
   "execution_count": 74,
   "metadata": {},
   "outputs": [
    {
     "data": {
      "text/plain": [
       "[68.301, 0.02, 553.235]"
      ]
     },
     "execution_count": 74,
     "metadata": {},
     "output_type": "execute_result"
    }
   ],
   "source": [
    "# Coefficient of each Feature\n",
    "coef = lr.coef_\n",
    "coef = list(coef)\n",
    "coef = [coef[i].round(3) for i in range(len(coef))]\n",
    "coef"
   ]
  },
  {
   "cell_type": "code",
   "execution_count": 75,
   "metadata": {},
   "outputs": [
    {
     "name": "stdout",
     "output_type": "stream",
     "text": [
      "[-164425.06099534 1376667.96927179 3139232.140015   ... -219974.91518582\n",
      "  361102.25129037 8073119.27613368]\n"
     ]
    }
   ],
   "source": [
    "# Predict values\n",
    "y_pred = lr.predict(x_test)\n",
    "print(y_pred)"
   ]
  },
  {
   "cell_type": "code",
   "execution_count": 76,
   "metadata": {},
   "outputs": [
    {
     "data": {
      "text/plain": [
       "0.9561415339699525"
      ]
     },
     "execution_count": 76,
     "metadata": {},
     "output_type": "execute_result"
    }
   ],
   "source": [
    "# Evaluate the model\n",
    "r2_score(y_test, y_pred)"
   ]
  },
  {
   "cell_type": "markdown",
   "metadata": {},
   "source": [
    "### Data Visualization"
   ]
  },
  {
   "cell_type": "code",
   "execution_count": 77,
   "metadata": {},
   "outputs": [
    {
     "data": {
      "image/png": "[encoded data removed]",
      "text/plain": [
       "<Figure size 1000x1000 with 1 Axes>"
      ]
     },
     "metadata": {},
     "output_type": "display_data"
    }
   ],
   "source": [
    "plt.figure(figsize = (10, 10))\n",
    "plt.scatter(y_test, y_pred)\n",
    "plt.xlabel('Actual')\n",
    "plt.ylabel('Predicted')\n",
    "plt.title('Compare Actual and Predicted Plays')\n",
    "plt.show()"
   ]
  },
  {
   "cell_type": "markdown",
   "metadata": {},
   "source": [
    "### Answer"
   ]
  },
  {
   "cell_type": "markdown",
   "metadata": {},
   "source": [
    "***Linear Regression Model***\n",
    "\n",
    "$$\\text{Plays} = 73.152(Likes) + 0.015(Reposts) + 262.24(NumComments)$$"
   ]
  },
  {
   "cell_type": "markdown",
   "metadata": {},
   "source": [
    "---\n",
    "### **Question 5**"
   ]
  },
  {
   "cell_type": "markdown",
   "metadata": {},
   "source": [
    "***Number of tracks posted over the last 5 years***"
   ]
  },
  {
   "cell_type": "markdown",
   "metadata": {},
   "source": [
    "### Preprocessing"
   ]
  },
  {
   "cell_type": "markdown",
   "metadata": {},
   "source": [
    "No need to preprocess"
   ]
  },
  {
   "cell_type": "markdown",
   "metadata": {},
   "source": [
    "### Data Analysis"
   ]
  },
  {
   "cell_type": "code",
   "execution_count": 78,
   "metadata": {},
   "outputs": [
    {
     "data": {
      "text/plain": [
       "[[89, 91, 104, 115, 105, 99, 100, 95, 80, 87, 90, 60],\n",
       " [71, 60, 85, 58, 62, 79, 78, 71, 59, 61, 52, 50],\n",
       " [49, 49, 50, 51, 38, 17, 49, 41, 31, 34, 21, 36],\n",
       " [48, 36, 24, 24, 26, 15, 7, 21, 15, 31, 15, 11],\n",
       " [14, 21, 10, 27, 24, 32, 31, 18, 38, 41, 108, 0]]"
      ]
     },
     "execution_count": 78,
     "metadata": {},
     "output_type": "execute_result"
    }
   ],
   "source": [
    "temp = pd.DataFrame(data=np.array([tracks_df['ID'], tracks_df['PostedTime'].dt.year, tracks_df['PostedTime'].dt.month]).T,\n",
    "                    columns=['ID', 'Year', 'Month'])\n",
    "temp = temp[temp['Year'] >= 2018].set_index('ID')\n",
    "temp = pd.DataFrame(temp.groupby(['Year', 'Month']).size())\n",
    "num_tracks_each_month = temp.groupby('Year')[0].apply(pd.Series.tolist).tolist()\n",
    "num_tracks_each_month[len(num_tracks_each_month) - 1].append(0)\n",
    "months = np.arange(1, 13)\n",
    "\n",
    "num_tracks_each_month"
   ]
  },
  {
   "cell_type": "markdown",
   "metadata": {},
   "source": [
    "### Data Visualization"
   ]
  },
  {
   "cell_type": "code",
   "execution_count": 79,
   "metadata": {},
   "outputs": [
    {
     "data": {
      "image/png": "[encoded data removed]",
      "text/plain": [
       "<Figure size 640x480 with 1 Axes>"
      ]
     },
     "metadata": {},
     "output_type": "display_data"
    }
   ],
   "source": [
    "fig = plt.figure()\n",
    "axes = fig.add_axes([0.1, 0.1, 1, 1])\n",
    "axes.set_xticks(np.arange(1, 13, 1))\n",
    "axes.set_yticks(np.arange(0, np.max(num_tracks_each_month), 10))\n",
    "for i in range(0, 5):\n",
    "    axes.plot(months, num_tracks_each_month[i], '.-', label=2018 + i)\n",
    "box = axes.get_position()\n",
    "axes.set_position([box.x0, box.y0, box.width * 0.8, box.height])\n",
    "axes.legend(loc='center left', bbox_to_anchor=(1, 0.5))\n",
    "axes.set_xlabel('Month')\n",
    "axes.set_ylabel('Number of tracks')\n",
    "axes.set_title('Number of tracks posted over the last 5 years');"
   ]
  },
  {
   "cell_type": "markdown",
   "metadata": {},
   "source": [
    "### Answer"
   ]
  },
  {
   "cell_type": "markdown",
   "metadata": {},
   "source": [
    "Note: Because the collecting data time is in 11/2022, there is no data of 12/2022.\n",
    "\n",
    "Answer: by observing the line chart above, we can draw some conclusions from that\n",
    "1. The number of posted tracks decreases in recent years.\n",
    "2. People usually post tracks on the first half of the year (in 2018 the month that has most tracks posted is April, in 2019 is March, in 2020 is April, in 2021 is January). Only in 2022, November has an outstanding number of data. It's maybe because the method that we use for collecting data."
   ]
  },
  {
   "cell_type": "markdown",
   "metadata": {},
   "source": [
    "---\n",
    "### **Question 6**"
   ]
  },
  {
   "cell_type": "markdown",
   "metadata": {},
   "source": [
    "***Does a playlist have a longer duration, the higher the number of likes?***"
   ]
  },
  {
   "cell_type": "markdown",
   "metadata": {},
   "source": [
    "- Purpose: Observe the playlist.csv, some playlists with a long duration time have large number of likes. We want to clarify the correlation between the length of a playlist and the number of likes of that playlist in the whole data set.\n",
    "- Data: playlist.csv"
   ]
  },
  {
   "cell_type": "markdown",
   "metadata": {},
   "source": [
    "### Preprocessing"
   ]
  },
  {
   "cell_type": "markdown",
   "metadata": {},
   "source": [
    "No need to preprocess"
   ]
  },
  {
   "cell_type": "markdown",
   "metadata": {},
   "source": [
    "### Data Analysis"
   ]
  },
  {
   "cell_type": "markdown",
   "metadata": {},
   "source": [
    "### Data Visualization"
   ]
  },
  {
   "cell_type": "code",
   "execution_count": 80,
   "metadata": {},
   "outputs": [
    {
     "data": {
      "text/plain": [
       "Text(0.5, 1.0, 'Mối tương quan giữa số lượt thích (Likes) và thời lượng (Length)')"
      ]
     },
     "execution_count": 80,
     "metadata": {},
     "output_type": "execute_result"
    },
    {
     "data": {
      "image/png": "[encoded data removed]",
      "text/plain": [
       "<Figure size 1000x700 with 1 Axes>"
      ]
     },
     "metadata": {},
     "output_type": "display_data"
    }
   ],
   "source": [
    "plt.figure(figsize=(10,7))\n",
    "plt.grid()\n",
    "plt.scatter(playlists_df['Likes'], playlists_df['Length'], edgecolors='black')\n",
    "plt.xlabel('Số lượt thích (Likes)') \n",
    "plt.ylabel('Thời lượng (Length)')\n",
    "plt.title('Mối tương quan giữa số lượt thích (Likes) và thời lượng (Length)')"
   ]
  },
  {
   "cell_type": "markdown",
   "metadata": {},
   "source": [
    "### Answer"
   ]
  },
  {
   "cell_type": "markdown",
   "metadata": {},
   "source": [
    "From the scatter plot above it is easy to see that there is no correlation, or very little correlation between length of a playlist and the number of likes of that playlist."
   ]
  },
  {
   "cell_type": "markdown",
   "metadata": {},
   "source": [
    "---\n",
    "### **Question 7**"
   ]
  },
  {
   "cell_type": "markdown",
   "metadata": {},
   "source": [
    "***So far, which genre has the highest average repost?***"
   ]
  },
  {
   "cell_type": "markdown",
   "metadata": {},
   "source": [
    "1. Calculate average repost of each genre to show that the most/ the least kind of genre\n",
    "\n",
    "2. Draw a bar chart horizontally to show result"
   ]
  },
  {
   "cell_type": "markdown",
   "metadata": {},
   "source": [
    "### Preprocessing"
   ]
  },
  {
   "cell_type": "markdown",
   "metadata": {},
   "source": [
    "No need to preprocess"
   ]
  },
  {
   "cell_type": "markdown",
   "metadata": {},
   "source": [
    "### Data Analysis"
   ]
  },
  {
   "cell_type": "code",
   "execution_count": 81,
   "metadata": {},
   "outputs": [],
   "source": [
    "most_repost_genre = playlists_df.groupby(['Genre'])['Reposts'].mean().sort_values(ascending = True)"
   ]
  },
  {
   "cell_type": "markdown",
   "metadata": {},
   "source": [
    "### Data Visualization"
   ]
  },
  {
   "cell_type": "code",
   "execution_count": 82,
   "metadata": {},
   "outputs": [
    {
     "data": {
      "image/png": "[encoded data removed]",
      "text/plain": [
       "<Figure size 640x480 with 1 Axes>"
      ]
     },
     "metadata": {},
     "output_type": "display_data"
    }
   ],
   "source": [
    "plt.barh(y = most_repost_genre.index, width=most_repost_genre.values)\n",
    "plt.xlabel(\"Average repost\")\n",
    "plt.show()"
   ]
  },
  {
   "cell_type": "markdown",
   "metadata": {},
   "source": [
    "### Answer"
   ]
  },
  {
   "cell_type": "markdown",
   "metadata": {},
   "source": [
    "- The bar chart says that: \n",
    "    + The most average repost is genre Lofi\n",
    "    + The least average repost is genre Rock\n",
    "\n",
    "- In this bar char, we can 'implicitly predict' that the trending of genre is Lofi, people nowadays keen on hearing and reposting these kinds of music."
   ]
  },
  {
   "cell_type": "markdown",
   "metadata": {},
   "source": [
    "---\n",
    "### **Question 8**"
   ]
  },
  {
   "cell_type": "markdown",
   "metadata": {},
   "source": [
    "***Comparing the number of plays, likes between Next Pro, Pro, and ordinary users.***"
   ]
  },
  {
   "cell_type": "markdown",
   "metadata": {},
   "source": [
    "### Preprocessing"
   ]
  },
  {
   "cell_type": "markdown",
   "metadata": {},
   "source": [
    "No need to preprocess"
   ]
  },
  {
   "cell_type": "markdown",
   "metadata": {},
   "source": [
    "### Data Analysis"
   ]
  },
  {
   "cell_type": "code",
   "execution_count": 83,
   "metadata": {},
   "outputs": [
    {
     "data": {
      "text/plain": [
       "(array([4873439.53564899, 3262178.62277253, 1927133.4611399 ]),\n",
       " array([67473.89892922, 45762.85091609, 25650.4119171 ]))"
      ]
     },
     "execution_count": 83,
     "metadata": {},
     "output_type": "execute_result"
    }
   ],
   "source": [
    "user_track = pd.merge(tracks_df[['ID', 'Poster', 'Plays', 'Likes']], users_df[['ID', 'NextPro']], left_on='Poster', right_on='ID')\n",
    "data = np.array(user_track.groupby('NextPro').mean()).T\n",
    "plays = data[0]\n",
    "likes = data[1]\n",
    "keys = ['NextPro', 'None', 'Pro']\n",
    "palette_color = sns.color_palette('dark')\n",
    "\n",
    "plays, likes"
   ]
  },
  {
   "cell_type": "markdown",
   "metadata": {},
   "source": [
    "### Data Visualization"
   ]
  },
  {
   "cell_type": "code",
   "execution_count": 84,
   "metadata": {},
   "outputs": [
    {
     "data": {
      "image/png": "[encoded data removed]",
      "text/plain": [
       "<Figure size 1000x1000 with 2 Axes>"
      ]
     },
     "metadata": {},
     "output_type": "display_data"
    }
   ],
   "source": [
    "fig, (axes1, axes2) = plt.subplots(1, 2, figsize=(10, 10))\n",
    "axes1.pie(plays, labels=keys, colors=palette_color, autopct='%0.f%%')\n",
    "axes1.set_title('Number of plays')\n",
    "axes2.pie(likes, labels=keys, colors=palette_color, autopct='%0.f%%')\n",
    "axes2.set_title('Number of likes');"
   ]
  },
  {
   "cell_type": "markdown",
   "metadata": {},
   "source": [
    "### Answer"
   ]
  },
  {
   "cell_type": "markdown",
   "metadata": {},
   "source": [
    "As we can see from the 2 pie charts, tracks uploaded by NextPro users are the most popular and favorite. Followed by tracks from None users (ordinary users) and tracks posted by Pro users get the least attention. It seems that the NextPro service are favored among popular users, in the other hand the Pro service is not atractted enough and maybe there are not many popular users that pay for it."
   ]
  },
  {
   "cell_type": "markdown",
   "metadata": {},
   "source": [
    "---\n",
    "### **Question 9**"
   ]
  },
  {
   "cell_type": "markdown",
   "id": "e07a1522",
   "metadata": {},
   "source": [
    "***Users with a large following; the playlist has a sizable audience?***"
   ]
  },
  {
   "cell_type": "markdown",
   "metadata": {},
   "source": [
    "### Preprocessing"
   ]
  },
  {
   "cell_type": "code",
   "execution_count": 85,
   "metadata": {},
   "outputs": [],
   "source": [
    "users_df['NextPro'] = users_df['NextPro'].replace({'Next Pro':True, 'Pro':True, 'None':False})"
   ]
  },
  {
   "cell_type": "markdown",
   "metadata": {},
   "source": [
    "### Data Analysis"
   ]
  },
  {
   "cell_type": "code",
   "execution_count": 86,
   "id": "5027e256",
   "metadata": {},
   "outputs": [],
   "source": [
    "def removeOutliers(df,colname):    \n",
    "    q3, q1 = np.percentile(df[colname], [75, 25])\n",
    "    IQR = q3 - q1\n",
    "#     print('Last length:',len(df))\n",
    "    upper_bound = q3 + 1.5 * IQR\n",
    "    lower_bound = q1 - 1.5 * IQR\n",
    "    df = df[df[colname] < upper_bound]\n",
    "    df = df[df[colname] > lower_bound]\n",
    "#     print('After length:',len(df))\n",
    "    return df\n"
   ]
  },
  {
   "cell_type": "code",
   "execution_count": 87,
   "id": "69ae173c",
   "metadata": {},
   "outputs": [
    {
     "data": {
      "text/html": [
       "<div>\n",
       "<style scoped>\n",
       "    .dataframe tbody tr th:only-of-type {\n",
       "        vertical-align: middle;\n",
       "    }\n",
       "\n",
       "    .dataframe tbody tr th {\n",
       "        vertical-align: top;\n",
       "    }\n",
       "\n",
       "    .dataframe thead th {\n",
       "        text-align: right;\n",
       "    }\n",
       "</style>\n",
       "<table border=\"1\" class=\"dataframe\">\n",
       "  <thead>\n",
       "    <tr style=\"text-align: right;\">\n",
       "      <th></th>\n",
       "      <th>ID</th>\n",
       "      <th>Likes</th>\n",
       "      <th>Poster</th>\n",
       "      <th>Reposts</th>\n",
       "      <th>Length</th>\n",
       "    </tr>\n",
       "  </thead>\n",
       "  <tbody>\n",
       "    <tr>\n",
       "      <th>0</th>\n",
       "      <td>P1</td>\n",
       "      <td>121377</td>\n",
       "      <td>U1</td>\n",
       "      <td>9211</td>\n",
       "      <td>0 days 01:09:50</td>\n",
       "    </tr>\n",
       "    <tr>\n",
       "      <th>1</th>\n",
       "      <td>P2</td>\n",
       "      <td>74566</td>\n",
       "      <td>U1</td>\n",
       "      <td>4554</td>\n",
       "      <td>0 days 00:55:27</td>\n",
       "    </tr>\n",
       "    <tr>\n",
       "      <th>2</th>\n",
       "      <td>P3</td>\n",
       "      <td>2236</td>\n",
       "      <td>U22</td>\n",
       "      <td>149</td>\n",
       "      <td>0 days 02:13:41</td>\n",
       "    </tr>\n",
       "    <tr>\n",
       "      <th>3</th>\n",
       "      <td>P4</td>\n",
       "      <td>1159</td>\n",
       "      <td>U32</td>\n",
       "      <td>180</td>\n",
       "      <td>0 days 02:33:29</td>\n",
       "    </tr>\n",
       "    <tr>\n",
       "      <th>4</th>\n",
       "      <td>P5</td>\n",
       "      <td>2300</td>\n",
       "      <td>U43</td>\n",
       "      <td>685</td>\n",
       "      <td>0 days 02:25:35</td>\n",
       "    </tr>\n",
       "    <tr>\n",
       "      <th>...</th>\n",
       "      <td>...</td>\n",
       "      <td>...</td>\n",
       "      <td>...</td>\n",
       "      <td>...</td>\n",
       "      <td>...</td>\n",
       "    </tr>\n",
       "    <tr>\n",
       "      <th>1995</th>\n",
       "      <td>P1896</td>\n",
       "      <td>1</td>\n",
       "      <td>U11565</td>\n",
       "      <td>1</td>\n",
       "      <td>0 days 02:15:15</td>\n",
       "    </tr>\n",
       "    <tr>\n",
       "      <th>1996</th>\n",
       "      <td>P1897</td>\n",
       "      <td>9</td>\n",
       "      <td>U11574</td>\n",
       "      <td>1</td>\n",
       "      <td>0 days 01:27:12</td>\n",
       "    </tr>\n",
       "    <tr>\n",
       "      <th>1997</th>\n",
       "      <td>P1898</td>\n",
       "      <td>1</td>\n",
       "      <td>U11578</td>\n",
       "      <td>12</td>\n",
       "      <td>0 days 00:36:13</td>\n",
       "    </tr>\n",
       "    <tr>\n",
       "      <th>1998</th>\n",
       "      <td>P1899</td>\n",
       "      <td>1</td>\n",
       "      <td>U11581</td>\n",
       "      <td>39</td>\n",
       "      <td>0 days 02:35:53</td>\n",
       "    </tr>\n",
       "    <tr>\n",
       "      <th>1999</th>\n",
       "      <td>P1900</td>\n",
       "      <td>2</td>\n",
       "      <td>U11583</td>\n",
       "      <td>17</td>\n",
       "      <td>0 days 02:22:24</td>\n",
       "    </tr>\n",
       "  </tbody>\n",
       "</table>\n",
       "<p>1893 rows × 5 columns</p>\n",
       "</div>"
      ],
      "text/plain": [
       "         ID   Likes  Poster  Reposts          Length\n",
       "0        P1  121377      U1     9211 0 days 01:09:50\n",
       "1        P2   74566      U1     4554 0 days 00:55:27\n",
       "2        P3    2236     U22      149 0 days 02:13:41\n",
       "3        P4    1159     U32      180 0 days 02:33:29\n",
       "4        P5    2300     U43      685 0 days 02:25:35\n",
       "...     ...     ...     ...      ...             ...\n",
       "1995  P1896       1  U11565        1 0 days 02:15:15\n",
       "1996  P1897       9  U11574        1 0 days 01:27:12\n",
       "1997  P1898       1  U11578       12 0 days 00:36:13\n",
       "1998  P1899       1  U11581       39 0 days 02:35:53\n",
       "1999  P1900       2  U11583       17 0 days 02:22:24\n",
       "\n",
       "[1893 rows x 5 columns]"
      ]
     },
     "execution_count": 87,
     "metadata": {},
     "output_type": "execute_result"
    }
   ],
   "source": [
    "users_id = playlists_df.Poster.to_list()\n",
    "playlist_user = playlists_df[['ID','Likes','Poster','Reposts','Length']]\n",
    "playlist_user"
   ]
  },
  {
   "cell_type": "code",
   "execution_count": 88,
   "id": "5a13dbd3",
   "metadata": {
    "scrolled": true
   },
   "outputs": [
    {
     "data": {
      "text/html": [
       "<div>\n",
       "<style scoped>\n",
       "    .dataframe tbody tr th:only-of-type {\n",
       "        vertical-align: middle;\n",
       "    }\n",
       "\n",
       "    .dataframe tbody tr th {\n",
       "        vertical-align: top;\n",
       "    }\n",
       "\n",
       "    .dataframe thead th {\n",
       "        text-align: right;\n",
       "    }\n",
       "</style>\n",
       "<table border=\"1\" class=\"dataframe\">\n",
       "  <thead>\n",
       "    <tr style=\"text-align: right;\">\n",
       "      <th></th>\n",
       "      <th>ID_playlist</th>\n",
       "      <th>Likes</th>\n",
       "      <th>Poster</th>\n",
       "      <th>Reposts</th>\n",
       "      <th>Length</th>\n",
       "      <th>ID_user</th>\n",
       "      <th>Name</th>\n",
       "      <th>NumFollowers</th>\n",
       "      <th>NumFollowing</th>\n",
       "      <th>NumTracks</th>\n",
       "      <th>Verified</th>\n",
       "      <th>NextPro</th>\n",
       "    </tr>\n",
       "  </thead>\n",
       "  <tbody>\n",
       "    <tr>\n",
       "      <th>0</th>\n",
       "      <td>P1</td>\n",
       "      <td>121377</td>\n",
       "      <td>U1</td>\n",
       "      <td>9211</td>\n",
       "      <td>0 days 01:09:50</td>\n",
       "      <td>U1</td>\n",
       "      <td>Kupla</td>\n",
       "      <td>21093</td>\n",
       "      <td>720</td>\n",
       "      <td>95</td>\n",
       "      <td>True</td>\n",
       "      <td>True</td>\n",
       "    </tr>\n",
       "    <tr>\n",
       "      <th>1</th>\n",
       "      <td>P2</td>\n",
       "      <td>74566</td>\n",
       "      <td>U1</td>\n",
       "      <td>4554</td>\n",
       "      <td>0 days 00:55:27</td>\n",
       "      <td>U1</td>\n",
       "      <td>Kupla</td>\n",
       "      <td>21093</td>\n",
       "      <td>720</td>\n",
       "      <td>95</td>\n",
       "      <td>True</td>\n",
       "      <td>True</td>\n",
       "    </tr>\n",
       "    <tr>\n",
       "      <th>2</th>\n",
       "      <td>P3</td>\n",
       "      <td>2236</td>\n",
       "      <td>U22</td>\n",
       "      <td>149</td>\n",
       "      <td>0 days 02:13:41</td>\n",
       "      <td>U22</td>\n",
       "      <td>Patrick  Baker</td>\n",
       "      <td>9890</td>\n",
       "      <td>663</td>\n",
       "      <td>56</td>\n",
       "      <td>True</td>\n",
       "      <td>True</td>\n",
       "    </tr>\n",
       "    <tr>\n",
       "      <th>3</th>\n",
       "      <td>P4</td>\n",
       "      <td>1159</td>\n",
       "      <td>U32</td>\n",
       "      <td>180</td>\n",
       "      <td>0 days 02:33:29</td>\n",
       "      <td>U32</td>\n",
       "      <td>acy</td>\n",
       "      <td>14</td>\n",
       "      <td>0</td>\n",
       "      <td>5</td>\n",
       "      <td>False</td>\n",
       "      <td>False</td>\n",
       "    </tr>\n",
       "    <tr>\n",
       "      <th>4</th>\n",
       "      <td>P92</td>\n",
       "      <td>20</td>\n",
       "      <td>U32</td>\n",
       "      <td>5</td>\n",
       "      <td>0 days 02:25:40</td>\n",
       "      <td>U32</td>\n",
       "      <td>acy</td>\n",
       "      <td>14</td>\n",
       "      <td>0</td>\n",
       "      <td>5</td>\n",
       "      <td>False</td>\n",
       "      <td>False</td>\n",
       "    </tr>\n",
       "    <tr>\n",
       "      <th>...</th>\n",
       "      <td>...</td>\n",
       "      <td>...</td>\n",
       "      <td>...</td>\n",
       "      <td>...</td>\n",
       "      <td>...</td>\n",
       "      <td>...</td>\n",
       "      <td>...</td>\n",
       "      <td>...</td>\n",
       "      <td>...</td>\n",
       "      <td>...</td>\n",
       "      <td>...</td>\n",
       "      <td>...</td>\n",
       "    </tr>\n",
       "    <tr>\n",
       "      <th>1888</th>\n",
       "      <td>P1896</td>\n",
       "      <td>1</td>\n",
       "      <td>U11565</td>\n",
       "      <td>1</td>\n",
       "      <td>0 days 02:15:15</td>\n",
       "      <td>U11565</td>\n",
       "      <td>Stash Konig</td>\n",
       "      <td>2091</td>\n",
       "      <td>323</td>\n",
       "      <td>19</td>\n",
       "      <td>False</td>\n",
       "      <td>False</td>\n",
       "    </tr>\n",
       "    <tr>\n",
       "      <th>1889</th>\n",
       "      <td>P1897</td>\n",
       "      <td>9</td>\n",
       "      <td>U11574</td>\n",
       "      <td>1</td>\n",
       "      <td>0 days 01:27:12</td>\n",
       "      <td>U11574</td>\n",
       "      <td>StrangeFowx</td>\n",
       "      <td>37</td>\n",
       "      <td>348</td>\n",
       "      <td>0</td>\n",
       "      <td>False</td>\n",
       "      <td>False</td>\n",
       "    </tr>\n",
       "    <tr>\n",
       "      <th>1890</th>\n",
       "      <td>P1898</td>\n",
       "      <td>1</td>\n",
       "      <td>U11578</td>\n",
       "      <td>12</td>\n",
       "      <td>0 days 00:36:13</td>\n",
       "      <td>U11578</td>\n",
       "      <td>Thomas Azier</td>\n",
       "      <td>10982</td>\n",
       "      <td>38</td>\n",
       "      <td>91</td>\n",
       "      <td>True</td>\n",
       "      <td>False</td>\n",
       "    </tr>\n",
       "    <tr>\n",
       "      <th>1891</th>\n",
       "      <td>P1899</td>\n",
       "      <td>1</td>\n",
       "      <td>U11581</td>\n",
       "      <td>39</td>\n",
       "      <td>0 days 02:35:53</td>\n",
       "      <td>U11581</td>\n",
       "      <td>Jorge De La Rosa</td>\n",
       "      <td>97</td>\n",
       "      <td>14</td>\n",
       "      <td>32</td>\n",
       "      <td>False</td>\n",
       "      <td>False</td>\n",
       "    </tr>\n",
       "    <tr>\n",
       "      <th>1892</th>\n",
       "      <td>P1900</td>\n",
       "      <td>2</td>\n",
       "      <td>U11583</td>\n",
       "      <td>17</td>\n",
       "      <td>0 days 02:22:24</td>\n",
       "      <td>U11583</td>\n",
       "      <td>Billy Bragg</td>\n",
       "      <td>1463</td>\n",
       "      <td>0</td>\n",
       "      <td>1</td>\n",
       "      <td>False</td>\n",
       "      <td>False</td>\n",
       "    </tr>\n",
       "  </tbody>\n",
       "</table>\n",
       "<p>1893 rows × 12 columns</p>\n",
       "</div>"
      ],
      "text/plain": [
       "     ID_playlist   Likes  Poster  Reposts          Length ID_user  \\\n",
       "0             P1  121377      U1     9211 0 days 01:09:50      U1   \n",
       "1             P2   74566      U1     4554 0 days 00:55:27      U1   \n",
       "2             P3    2236     U22      149 0 days 02:13:41     U22   \n",
       "3             P4    1159     U32      180 0 days 02:33:29     U32   \n",
       "4            P92      20     U32        5 0 days 02:25:40     U32   \n",
       "...          ...     ...     ...      ...             ...     ...   \n",
       "1888       P1896       1  U11565        1 0 days 02:15:15  U11565   \n",
       "1889       P1897       9  U11574        1 0 days 01:27:12  U11574   \n",
       "1890       P1898       1  U11578       12 0 days 00:36:13  U11578   \n",
       "1891       P1899       1  U11581       39 0 days 02:35:53  U11581   \n",
       "1892       P1900       2  U11583       17 0 days 02:22:24  U11583   \n",
       "\n",
       "                    Name  NumFollowers  NumFollowing  NumTracks  Verified  \\\n",
       "0              Kupla             21093           720         95      True   \n",
       "1              Kupla             21093           720         95      True   \n",
       "2     Patrick  Baker              9890           663         56      True   \n",
       "3                    acy            14             0          5     False   \n",
       "4                    acy            14             0          5     False   \n",
       "...                  ...           ...           ...        ...       ...   \n",
       "1888         Stash Konig          2091           323         19     False   \n",
       "1889         StrangeFowx            37           348          0     False   \n",
       "1890    Thomas Azier             10982            38         91      True   \n",
       "1891    Jorge De La Rosa            97            14         32     False   \n",
       "1892         Billy Bragg          1463             0          1     False   \n",
       "\n",
       "      NextPro  \n",
       "0        True  \n",
       "1        True  \n",
       "2        True  \n",
       "3       False  \n",
       "4       False  \n",
       "...       ...  \n",
       "1888    False  \n",
       "1889    False  \n",
       "1890    False  \n",
       "1891    False  \n",
       "1892    False  \n",
       "\n",
       "[1893 rows x 12 columns]"
      ]
     },
     "execution_count": 88,
     "metadata": {},
     "output_type": "execute_result"
    }
   ],
   "source": [
    "playlist_user = pd.merge(playlist_user, users_df, how='inner', left_on = 'Poster', right_on = 'ID',suffixes=('_playlist', '_user'))\n",
    "playlist_user"
   ]
  },
  {
   "cell_type": "code",
   "execution_count": 89,
   "id": "5516022a",
   "metadata": {},
   "outputs": [],
   "source": [
    "average = playlist_user[['NumFollowers','Likes','ID_user','Reposts','Length','NumFollowing','NumTracks','Verified','NextPro']].groupby('ID_user').agg('mean')"
   ]
  },
  {
   "cell_type": "markdown",
   "metadata": {},
   "source": [
    "### Data Visualization"
   ]
  },
  {
   "cell_type": "code",
   "execution_count": 90,
   "id": "3fc6d42d",
   "metadata": {},
   "outputs": [
    {
     "data": {
      "image/png": "[encoded data removed]",
      "text/plain": [
       "<Figure size 640x480 with 1 Axes>"
      ]
     },
     "metadata": {},
     "output_type": "display_data"
    }
   ],
   "source": [
    "plt.scatter(average['NumFollowers'],average['Likes'] )\n",
    "plt.title('User Followers and Like of Tracks')\n",
    "plt.xlabel('Number of followers')\n",
    "plt.ylabel('Average Like of their Playlists')\n",
    "plt.show()"
   ]
  },
  {
   "cell_type": "markdown",
   "id": "97f33309",
   "metadata": {},
   "source": [
    "We can observe that even people with a small number of followers may have popular playlists. Having a large following does not ensure that their albums will receive more likes."
   ]
  },
  {
   "cell_type": "code",
   "execution_count": 91,
   "id": "5544418d",
   "metadata": {},
   "outputs": [
    {
     "data": {
      "text/plain": [
       "<AxesSubplot:>"
      ]
     },
     "execution_count": 91,
     "metadata": {},
     "output_type": "execute_result"
    },
    {
     "data": {
      "image/png": "[encoded data removed]",
      "text/plain": [
       "<Figure size 1200x1000 with 2 Axes>"
      ]
     },
     "metadata": {},
     "output_type": "display_data"
    }
   ],
   "source": [
    "average = removeOutliers(average,'Likes')\n",
    "average = removeOutliers(average,'NumFollowers')\n",
    "average = removeOutliers(average,'Reposts')\n",
    "corr = average[['NumFollowers','Likes','Reposts','NumFollowing','NumTracks','Verified','NextPro']].corr()\n",
    "\n",
    "f, ax = plt.subplots(figsize=(12, 10))\n",
    "cmap = sns.diverging_palette(230, 20, as_cmap=True)\n",
    "sns.heatmap(corr, annot=True, cmap=cmap)"
   ]
  },
  {
   "cell_type": "markdown",
   "metadata": {},
   "source": [
    "### Answer"
   ]
  },
  {
   "cell_type": "markdown",
   "id": "c264f463",
   "metadata": {},
   "source": [
    "After outliers are removed, we can observe that a person's following, verified user, or Next Pro status has no influence much on how many times their playlist is liked or reposted."
   ]
  },
  {
   "cell_type": "markdown",
   "metadata": {},
   "source": [
    "---\n",
    "### **Question 10**"
   ]
  },
  {
   "cell_type": "markdown",
   "id": "394897a8",
   "metadata": {},
   "source": [
    "***Compare the correlation of the likes of the playlist and the average likes of the first 10 tracks in the playlist***"
   ]
  },
  {
   "cell_type": "markdown",
   "metadata": {},
   "source": [
    "### Preprocessing"
   ]
  },
  {
   "cell_type": "markdown",
   "metadata": {},
   "source": [
    "No need to preprocess"
   ]
  },
  {
   "cell_type": "markdown",
   "metadata": {},
   "source": [
    "### Data Analysis"
   ]
  },
  {
   "cell_type": "code",
   "execution_count": 92,
   "id": "4be08c13",
   "metadata": {},
   "outputs": [],
   "source": [
    "tracks_df.index = tracks_df['ID']\n",
    "mean_like = playlists_df['TopTracks'].apply(lambda x: pd.Series(x).apply(lambda y:tracks_df.loc[y]['Likes']).mean())"
   ]
  },
  {
   "cell_type": "code",
   "execution_count": 93,
   "id": "ad4e8c2c",
   "metadata": {},
   "outputs": [
    {
     "data": {
      "text/plain": [
       "0        5409.8\n",
       "1       51696.1\n",
       "2       40462.1\n",
       "3       75620.0\n",
       "4        3188.8\n",
       "         ...   \n",
       "1995    59644.8\n",
       "1996    16422.6\n",
       "1997    56035.0\n",
       "1998    31576.5\n",
       "1999     5500.9\n",
       "Name: TopTracks, Length: 1893, dtype: float64"
      ]
     },
     "execution_count": 93,
     "metadata": {},
     "output_type": "execute_result"
    }
   ],
   "source": [
    "mean_like"
   ]
  },
  {
   "cell_type": "markdown",
   "metadata": {},
   "source": [
    "### Data Visualization"
   ]
  },
  {
   "cell_type": "code",
   "execution_count": 94,
   "id": "fb4cafc4",
   "metadata": {},
   "outputs": [
    {
     "data": {
      "image/png": "[encoded data removed]",
      "text/plain": [
       "<Figure size 640x480 with 1 Axes>"
      ]
     },
     "metadata": {},
     "output_type": "display_data"
    }
   ],
   "source": [
    "plt.scatter(playlists_df['Likes'],mean_like )\n",
    "plt.xlabel('Like of playlist')\n",
    "plt.ylabel('Average Like of their 10 tracks of playlist')\n",
    "plt.show()"
   ]
  },
  {
   "cell_type": "markdown",
   "metadata": {},
   "source": [
    "### Answer"
   ]
  },
  {
   "cell_type": "markdown",
   "id": "d353a61b",
   "metadata": {},
   "source": [
    "Because a track may be on numerous playlists and users can access songs through different playlists as well as by themselves, the average like of their playlist's first 10 tracks might be significantly greater than the quantity of playlist likes."
   ]
  },
  {
   "cell_type": "markdown",
   "metadata": {},
   "source": [
    "---\n",
    "### **Question 11**"
   ]
  },
  {
   "cell_type": "markdown",
   "id": "fa5a2b85",
   "metadata": {},
   "source": [
    "***Based on user information and track forecast number of likes.***"
   ]
  },
  {
   "cell_type": "markdown",
   "metadata": {},
   "source": [
    "### Preprocessing"
   ]
  },
  {
   "cell_type": "code",
   "execution_count": 95,
   "id": "eb6cf02c",
   "metadata": {},
   "outputs": [
    {
     "data": {
      "text/html": [
       "<div>\n",
       "<style scoped>\n",
       "    .dataframe tbody tr th:only-of-type {\n",
       "        vertical-align: middle;\n",
       "    }\n",
       "\n",
       "    .dataframe tbody tr th {\n",
       "        vertical-align: top;\n",
       "    }\n",
       "\n",
       "    .dataframe thead th {\n",
       "        text-align: right;\n",
       "    }\n",
       "</style>\n",
       "<table border=\"1\" class=\"dataframe\">\n",
       "  <thead>\n",
       "    <tr style=\"text-align: right;\">\n",
       "      <th></th>\n",
       "      <th>NumFollowers</th>\n",
       "      <th>NumFollowing</th>\n",
       "      <th>NumTracks</th>\n",
       "      <th>Verified</th>\n",
       "      <th>NextPro</th>\n",
       "      <th>Name_track</th>\n",
       "      <th>Tags</th>\n",
       "      <th>Length</th>\n",
       "      <th>Likes</th>\n",
       "      <th>Plays</th>\n",
       "      <th>Reposts</th>\n",
       "    </tr>\n",
       "  </thead>\n",
       "  <tbody>\n",
       "    <tr>\n",
       "      <th>0</th>\n",
       "      <td>21093</td>\n",
       "      <td>720</td>\n",
       "      <td>95</td>\n",
       "      <td>True</td>\n",
       "      <td>True</td>\n",
       "      <td>I will wait for you to come home</td>\n",
       "      <td>Chill</td>\n",
       "      <td>0 days 00:02:10</td>\n",
       "      <td>2411</td>\n",
       "      <td>213251</td>\n",
       "      <td>229</td>\n",
       "    </tr>\n",
       "    <tr>\n",
       "      <th>1</th>\n",
       "      <td>21093</td>\n",
       "      <td>720</td>\n",
       "      <td>95</td>\n",
       "      <td>True</td>\n",
       "      <td>True</td>\n",
       "      <td>Alone in the World</td>\n",
       "      <td>Chill</td>\n",
       "      <td>0 days 00:02:17</td>\n",
       "      <td>1833</td>\n",
       "      <td>139150</td>\n",
       "      <td>157</td>\n",
       "    </tr>\n",
       "    <tr>\n",
       "      <th>2</th>\n",
       "      <td>21093</td>\n",
       "      <td>720</td>\n",
       "      <td>95</td>\n",
       "      <td>True</td>\n",
       "      <td>True</td>\n",
       "      <td>Aurora</td>\n",
       "      <td>Chill</td>\n",
       "      <td>0 days 00:02:27</td>\n",
       "      <td>1127</td>\n",
       "      <td>65534</td>\n",
       "      <td>162</td>\n",
       "    </tr>\n",
       "    <tr>\n",
       "      <th>3</th>\n",
       "      <td>21093</td>\n",
       "      <td>720</td>\n",
       "      <td>95</td>\n",
       "      <td>True</td>\n",
       "      <td>True</td>\n",
       "      <td>Kupla X j'san - Out Of Town</td>\n",
       "      <td>Chill</td>\n",
       "      <td>0 days 00:02:32</td>\n",
       "      <td>1144</td>\n",
       "      <td>81721</td>\n",
       "      <td>115</td>\n",
       "    </tr>\n",
       "    <tr>\n",
       "      <th>4</th>\n",
       "      <td>21093</td>\n",
       "      <td>720</td>\n",
       "      <td>95</td>\n",
       "      <td>True</td>\n",
       "      <td>True</td>\n",
       "      <td>Kupla x less.people - lost in translation</td>\n",
       "      <td>Chill</td>\n",
       "      <td>0 days 00:02:12</td>\n",
       "      <td>985</td>\n",
       "      <td>77259</td>\n",
       "      <td>85</td>\n",
       "    </tr>\n",
       "  </tbody>\n",
       "</table>\n",
       "</div>"
      ],
      "text/plain": [
       "   NumFollowers  NumFollowing  NumTracks  Verified  NextPro  \\\n",
       "0         21093           720         95      True     True   \n",
       "1         21093           720         95      True     True   \n",
       "2         21093           720         95      True     True   \n",
       "3         21093           720         95      True     True   \n",
       "4         21093           720         95      True     True   \n",
       "\n",
       "                                  Name_track   Tags          Length  Likes  \\\n",
       "0           I will wait for you to come home  Chill 0 days 00:02:10   2411   \n",
       "1                         Alone in the World  Chill 0 days 00:02:17   1833   \n",
       "2                                     Aurora  Chill 0 days 00:02:27   1127   \n",
       "3                Kupla X j'san - Out Of Town  Chill 0 days 00:02:32   1144   \n",
       "4  Kupla x less.people - lost in translation  Chill 0 days 00:02:12    985   \n",
       "\n",
       "    Plays  Reposts  \n",
       "0  213251      229  \n",
       "1  139150      157  \n",
       "2   65534      162  \n",
       "3   81721      115  \n",
       "4   77259       85  "
      ]
     },
     "execution_count": 95,
     "metadata": {},
     "output_type": "execute_result"
    }
   ],
   "source": [
    "track_user = pd.merge(users_df, tracks_df, how='inner', left_on = 'ID', right_on = 'Poster',suffixes=('_user', '_track'))\n",
    "track_user = track_user[['NumFollowers','NumFollowing','NumTracks','Verified','NextPro','Name_track','Tags','Length','Likes','Plays','Reposts']]\n",
    "track_user.head()"
   ]
  },
  {
   "cell_type": "markdown",
   "id": "2a809043",
   "metadata": {},
   "source": [
    "Add new feature length of the name and convert length of tracks to seconds"
   ]
  },
  {
   "cell_type": "code",
   "execution_count": 96,
   "id": "21566ef8",
   "metadata": {},
   "outputs": [],
   "source": [
    "track_user['Length'] = track_user['Length'].apply(lambda x: x.total_seconds())\n",
    "track_user['NameLength'] = track_user['Name_track'].apply(lambda x: len(x))"
   ]
  },
  {
   "cell_type": "code",
   "execution_count": 97,
   "id": "7ea4fb34",
   "metadata": {},
   "outputs": [
    {
     "data": {
      "text/html": [
       "<div>\n",
       "<style scoped>\n",
       "    .dataframe tbody tr th:only-of-type {\n",
       "        vertical-align: middle;\n",
       "    }\n",
       "\n",
       "    .dataframe tbody tr th {\n",
       "        vertical-align: top;\n",
       "    }\n",
       "\n",
       "    .dataframe thead th {\n",
       "        text-align: right;\n",
       "    }\n",
       "</style>\n",
       "<table border=\"1\" class=\"dataframe\">\n",
       "  <thead>\n",
       "    <tr style=\"text-align: right;\">\n",
       "      <th></th>\n",
       "      <th>NumFollowers</th>\n",
       "      <th>NumFollowing</th>\n",
       "      <th>NumTracks</th>\n",
       "      <th>Verified</th>\n",
       "      <th>NextPro</th>\n",
       "      <th>Tags</th>\n",
       "      <th>Length</th>\n",
       "      <th>Likes</th>\n",
       "      <th>Plays</th>\n",
       "      <th>Reposts</th>\n",
       "      <th>NameLength</th>\n",
       "    </tr>\n",
       "  </thead>\n",
       "  <tbody>\n",
       "    <tr>\n",
       "      <th>0</th>\n",
       "      <td>21093</td>\n",
       "      <td>720</td>\n",
       "      <td>95</td>\n",
       "      <td>True</td>\n",
       "      <td>True</td>\n",
       "      <td>Chill</td>\n",
       "      <td>130.0</td>\n",
       "      <td>2411</td>\n",
       "      <td>213251</td>\n",
       "      <td>229</td>\n",
       "      <td>32</td>\n",
       "    </tr>\n",
       "    <tr>\n",
       "      <th>1</th>\n",
       "      <td>21093</td>\n",
       "      <td>720</td>\n",
       "      <td>95</td>\n",
       "      <td>True</td>\n",
       "      <td>True</td>\n",
       "      <td>Chill</td>\n",
       "      <td>137.0</td>\n",
       "      <td>1833</td>\n",
       "      <td>139150</td>\n",
       "      <td>157</td>\n",
       "      <td>18</td>\n",
       "    </tr>\n",
       "    <tr>\n",
       "      <th>2</th>\n",
       "      <td>21093</td>\n",
       "      <td>720</td>\n",
       "      <td>95</td>\n",
       "      <td>True</td>\n",
       "      <td>True</td>\n",
       "      <td>Chill</td>\n",
       "      <td>147.0</td>\n",
       "      <td>1127</td>\n",
       "      <td>65534</td>\n",
       "      <td>162</td>\n",
       "      <td>6</td>\n",
       "    </tr>\n",
       "    <tr>\n",
       "      <th>3</th>\n",
       "      <td>21093</td>\n",
       "      <td>720</td>\n",
       "      <td>95</td>\n",
       "      <td>True</td>\n",
       "      <td>True</td>\n",
       "      <td>Chill</td>\n",
       "      <td>152.0</td>\n",
       "      <td>1144</td>\n",
       "      <td>81721</td>\n",
       "      <td>115</td>\n",
       "      <td>27</td>\n",
       "    </tr>\n",
       "    <tr>\n",
       "      <th>4</th>\n",
       "      <td>21093</td>\n",
       "      <td>720</td>\n",
       "      <td>95</td>\n",
       "      <td>True</td>\n",
       "      <td>True</td>\n",
       "      <td>Chill</td>\n",
       "      <td>132.0</td>\n",
       "      <td>985</td>\n",
       "      <td>77259</td>\n",
       "      <td>85</td>\n",
       "      <td>41</td>\n",
       "    </tr>\n",
       "    <tr>\n",
       "      <th>...</th>\n",
       "      <td>...</td>\n",
       "      <td>...</td>\n",
       "      <td>...</td>\n",
       "      <td>...</td>\n",
       "      <td>...</td>\n",
       "      <td>...</td>\n",
       "      <td>...</td>\n",
       "      <td>...</td>\n",
       "      <td>...</td>\n",
       "      <td>...</td>\n",
       "      <td>...</td>\n",
       "    </tr>\n",
       "    <tr>\n",
       "      <th>16163</th>\n",
       "      <td>20141</td>\n",
       "      <td>158</td>\n",
       "      <td>234</td>\n",
       "      <td>False</td>\n",
       "      <td>True</td>\n",
       "      <td>Tech House</td>\n",
       "      <td>326.0</td>\n",
       "      <td>1019</td>\n",
       "      <td>24817</td>\n",
       "      <td>141</td>\n",
       "      <td>50</td>\n",
       "    </tr>\n",
       "    <tr>\n",
       "      <th>16164</th>\n",
       "      <td>35924</td>\n",
       "      <td>217</td>\n",
       "      <td>186</td>\n",
       "      <td>False</td>\n",
       "      <td>True</td>\n",
       "      <td>Disco</td>\n",
       "      <td>184.0</td>\n",
       "      <td>140</td>\n",
       "      <td>5658</td>\n",
       "      <td>18</td>\n",
       "      <td>97</td>\n",
       "    </tr>\n",
       "    <tr>\n",
       "      <th>16165</th>\n",
       "      <td>35924</td>\n",
       "      <td>217</td>\n",
       "      <td>186</td>\n",
       "      <td>False</td>\n",
       "      <td>True</td>\n",
       "      <td>None</td>\n",
       "      <td>250.0</td>\n",
       "      <td>1153</td>\n",
       "      <td>20831</td>\n",
       "      <td>651</td>\n",
       "      <td>58</td>\n",
       "    </tr>\n",
       "    <tr>\n",
       "      <th>16166</th>\n",
       "      <td>35924</td>\n",
       "      <td>217</td>\n",
       "      <td>186</td>\n",
       "      <td>False</td>\n",
       "      <td>True</td>\n",
       "      <td>None</td>\n",
       "      <td>235.0</td>\n",
       "      <td>440</td>\n",
       "      <td>14054</td>\n",
       "      <td>46</td>\n",
       "      <td>55</td>\n",
       "    </tr>\n",
       "    <tr>\n",
       "      <th>16167</th>\n",
       "      <td>35924</td>\n",
       "      <td>217</td>\n",
       "      <td>186</td>\n",
       "      <td>False</td>\n",
       "      <td>True</td>\n",
       "      <td>None</td>\n",
       "      <td>289.0</td>\n",
       "      <td>1029</td>\n",
       "      <td>18716</td>\n",
       "      <td>573</td>\n",
       "      <td>52</td>\n",
       "    </tr>\n",
       "  </tbody>\n",
       "</table>\n",
       "<p>16168 rows × 11 columns</p>\n",
       "</div>"
      ],
      "text/plain": [
       "       NumFollowers  NumFollowing  NumTracks  Verified  NextPro        Tags  \\\n",
       "0             21093           720         95      True     True       Chill   \n",
       "1             21093           720         95      True     True       Chill   \n",
       "2             21093           720         95      True     True       Chill   \n",
       "3             21093           720         95      True     True       Chill   \n",
       "4             21093           720         95      True     True       Chill   \n",
       "...             ...           ...        ...       ...      ...         ...   \n",
       "16163         20141           158        234     False     True  Tech House   \n",
       "16164         35924           217        186     False     True       Disco   \n",
       "16165         35924           217        186     False     True        None   \n",
       "16166         35924           217        186     False     True        None   \n",
       "16167         35924           217        186     False     True        None   \n",
       "\n",
       "       Length  Likes   Plays  Reposts  NameLength  \n",
       "0       130.0   2411  213251      229          32  \n",
       "1       137.0   1833  139150      157          18  \n",
       "2       147.0   1127   65534      162           6  \n",
       "3       152.0   1144   81721      115          27  \n",
       "4       132.0    985   77259       85          41  \n",
       "...       ...    ...     ...      ...         ...  \n",
       "16163   326.0   1019   24817      141          50  \n",
       "16164   184.0    140    5658       18          97  \n",
       "16165   250.0   1153   20831      651          58  \n",
       "16166   235.0    440   14054       46          55  \n",
       "16167   289.0   1029   18716      573          52  \n",
       "\n",
       "[16168 rows x 11 columns]"
      ]
     },
     "execution_count": 97,
     "metadata": {},
     "output_type": "execute_result"
    }
   ],
   "source": [
    "del track_user['Name_track'] \n",
    "track_user"
   ]
  },
  {
   "cell_type": "markdown",
   "id": "21f0e10f",
   "metadata": {},
   "source": [
    "Remove the outliers and fill nan value of length of track"
   ]
  },
  {
   "cell_type": "code",
   "execution_count": 98,
   "id": "907f81bd",
   "metadata": {},
   "outputs": [
    {
     "name": "stdout",
     "output_type": "stream",
     "text": [
      "NumFollowers       0\n",
      "NumFollowing       0\n",
      "NumTracks          0\n",
      "Verified           0\n",
      "NextPro            0\n",
      "Tags               0\n",
      "Length          1259\n",
      "Likes              0\n",
      "Plays              0\n",
      "Reposts            0\n",
      "NameLength         0\n",
      "dtype: int64\n"
     ]
    },
    {
     "data": {
      "text/plain": [
       "NumFollowers    0\n",
       "NumFollowing    0\n",
       "NumTracks       0\n",
       "Verified        0\n",
       "NextPro         0\n",
       "Tags            0\n",
       "Length          0\n",
       "Likes           0\n",
       "Plays           0\n",
       "Reposts         0\n",
       "NameLength      0\n",
       "dtype: int64"
      ]
     },
     "execution_count": 98,
     "metadata": {},
     "output_type": "execute_result"
    }
   ],
   "source": [
    "track_user = removeOutliers(track_user,'Likes')\n",
    "print(track_user.isnull().sum())\n",
    "track_user['Length']= track_user['Length'].fillna(track_user['Length'].median())\n",
    "track_user.isnull().sum()"
   ]
  },
  {
   "cell_type": "markdown",
   "metadata": {},
   "source": [
    "### Data Analysis"
   ]
  },
  {
   "cell_type": "markdown",
   "id": "e372a748",
   "metadata": {},
   "source": [
    "Split the dataset into train set and test set"
   ]
  },
  {
   "cell_type": "code",
   "execution_count": 99,
   "id": "7ce8839c",
   "metadata": {},
   "outputs": [],
   "source": [
    "x = track_user[track_user['Tags'].isin(popular_genre)]\n",
    "y = x.Likes\n",
    "x = x.drop(['Likes'], axis=1)\n",
    "X_train, X_valid, y_train, y_valid = train_test_split(x, y, train_size=0.8, test_size=0.2,\n",
    "                                                                random_state=0)"
   ]
  },
  {
   "cell_type": "markdown",
   "id": "a0737ef1",
   "metadata": {},
   "source": [
    "Label Tags field "
   ]
  },
  {
   "cell_type": "code",
   "execution_count": 100,
   "id": "667bdaa7",
   "metadata": {},
   "outputs": [],
   "source": [
    "label_X_train = X_train.copy()\n",
    "label_X_valid = X_valid.copy()\n",
    "\n",
    "ordinal_encoder = OrdinalEncoder()\n",
    "label_X_train[['Tags']] = ordinal_encoder.fit_transform(X_train[['Tags']])\n",
    "label_X_valid[['Tags']] = ordinal_encoder.transform(X_valid[['Tags']])\n"
   ]
  },
  {
   "cell_type": "markdown",
   "id": "a965b479",
   "metadata": {},
   "source": [
    "Train the model"
   ]
  },
  {
   "cell_type": "code",
   "execution_count": 101,
   "id": "528d167c",
   "metadata": {},
   "outputs": [
    {
     "data": {
      "text/plain": [
       "RandomForestClassifier(min_samples_split=10, n_estimators=40, n_jobs=-1,\n",
       "                       oob_score=True, random_state=1)"
      ]
     },
     "execution_count": 101,
     "metadata": {},
     "output_type": "execute_result"
    }
   ],
   "source": [
    "rf = RandomForestClassifier(criterion='gini', \n",
    "                             n_estimators=40,\n",
    "                             min_samples_split=10,\n",
    "                             min_samples_leaf=1,\n",
    "                             max_features='auto',\n",
    "                             oob_score=True,\n",
    "                             random_state=1,\n",
    "                             n_jobs=-1)\n",
    "rf.fit(label_X_train, y_train)"
   ]
  },
  {
   "cell_type": "markdown",
   "id": "a71c4354",
   "metadata": {},
   "source": [
    "Test and calculate error by using mean_absolute_error"
   ]
  },
  {
   "cell_type": "code",
   "execution_count": 102,
   "id": "b013ff88",
   "metadata": {},
   "outputs": [],
   "source": [
    "likepredict = rf.predict(label_X_valid)"
   ]
  },
  {
   "cell_type": "code",
   "execution_count": 103,
   "id": "8ed4a342",
   "metadata": {},
   "outputs": [
    {
     "name": "stdout",
     "output_type": "stream",
     "text": [
      "3750.6361646234677\n"
     ]
    },
    {
     "data": {
      "text/plain": [
       "array([35356, 25825,   389,  2299, 43997,    45, 37589,    27,  1204,\n",
       "          33])"
      ]
     },
     "execution_count": 103,
     "metadata": {},
     "output_type": "execute_result"
    }
   ],
   "source": [
    "print(mean_absolute_error(y_valid, likepredict))\n",
    "likepredict[:10]"
   ]
  },
  {
   "cell_type": "code",
   "execution_count": 104,
   "id": "e9d49e6f",
   "metadata": {
    "scrolled": false
   },
   "outputs": [
    {
     "data": {
      "text/plain": [
       "16162    36297\n",
       "3755     14471\n",
       "12934      695\n",
       "12540     4150\n",
       "5261     31394\n",
       "10710      101\n",
       "10399    39273\n",
       "15371       17\n",
       "3506      1153\n",
       "703         51\n",
       "Name: Likes, dtype: int64"
      ]
     },
     "execution_count": 104,
     "metadata": {},
     "output_type": "execute_result"
    }
   ],
   "source": [
    "y_valid[:10]"
   ]
  },
  {
   "cell_type": "markdown",
   "metadata": {},
   "source": [
    "### Data Visualization"
   ]
  },
  {
   "cell_type": "markdown",
   "metadata": {},
   "source": [
    "### Answer"
   ]
  },
  {
   "cell_type": "markdown",
   "id": "b85945a6",
   "metadata": {},
   "source": [
    "It's not very precise, but you can make a rough guess as to how many likes a song might get."
   ]
  },
  {
   "cell_type": "markdown",
   "metadata": {},
   "source": [
    "---\n",
    "## **4. References**"
   ]
  },
  {
   "cell_type": "markdown",
   "metadata": {},
   "source": [
    "https://selenium-python.readthedocs.io/ \\\n",
    "https://matplotlib.org/3.5.3/api/_as_gen/matplotlib.pyplot.html \\\n",
    "https://www.tutorialspoint.com/python_pandas/index.htm \\\n",
    "https://pandas.pydata.org/docs/reference/api/pandas.DataFrame.quantile.html \\\n",
    "https://matplotlib.org/stable/gallery/pie_and_polar_charts/pie_features.html \\\n",
    "https://www.geeksforgeeks.org/python-get-first-n-keyvalue-pairs-in-given-dictionary/ \\\n",
    "https://www.scrapingbee.com/blog/selenium-python/ \\\n",
    "https://pandas.pydata.org/docs/reference/index.html#api \\\n",
    "https://www.geeksforgeeks.org/plotting-multiple-bar-charts-using-matplotlib-in-python/ \\\n",
    "https://www.simplilearn.com/10-algorithms-machine-learning-engineers-need-to-know-article \\\n",
    "https://www.youtube.com/watch?v=WngoqVB6cXw&list=WL&index=71"
   ]
  }
 ],
 "metadata": {
  "kernelspec": {
   "display_name": "Python 3 (ipykernel)",
   "language": "python",
   "name": "python3"
  },
  "language_info": {
   "codemirror_mode": {
    "name": "ipython",
    "version": 3
   },
   "file_extension": ".py",
   "mimetype": "text/x-python",
   "name": "python",
   "nbconvert_exporter": "python",
   "pygments_lexer": "ipython3",
   "version": "3.8.8"
  },
  "vscode": {
   "interpreter": {
    "hash": "a42ccb73e7d9bfdf27e036f1d2b8b681e55fc0743cc5586bc2474d4a60f4b886"
   }
  }
 },
 "nbformat": 4,
 "nbformat_minor": 2
}
